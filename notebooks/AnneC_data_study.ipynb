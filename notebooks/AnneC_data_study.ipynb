{
 "cells": [
  {
   "cell_type": "code",
   "execution_count": 1,
   "id": "dressed-gentleman",
   "metadata": {},
   "outputs": [
    {
     "name": "stdout",
     "output_type": "stream",
     "text": [
      "time: 805 µs (started: 2021-04-25 19:22:48 +02:00)\n"
     ]
    }
   ],
   "source": [
    "# Enable autoreload\n",
    "%load_ext autoreload\n",
    "%autoreload 2\n",
    "\n",
    "# Pylint parameters\n",
    "%config Completer.use_jedi = False\n",
    "\n",
    "# Measure Runtime\n",
    "# !pip install ipython-autotime\n",
    "%load_ext autotime\n",
    "\n",
    "# Mute warnings\n",
    "import warnings\n",
    "warnings.filterwarnings('ignore')"
   ]
  },
  {
   "cell_type": "code",
   "execution_count": 2,
   "id": "metric-panama",
   "metadata": {},
   "outputs": [
    {
     "name": "stdout",
     "output_type": "stream",
     "text": [
      "time: 2.46 s (started: 2021-04-25 19:22:49 +02:00)\n"
     ]
    }
   ],
   "source": [
    "import matplotlib.pyplot as plt\n",
    "import numpy as np\n",
    "import pandas as pd\n",
    "import seaborn as sns"
   ]
  },
  {
   "cell_type": "code",
   "execution_count": 128,
   "id": "exempt-absorption",
   "metadata": {},
   "outputs": [
    {
     "name": "stdout",
     "output_type": "stream",
     "text": [
      "/home/anneconstance/code/migasar/kaggle-wagon552-shopee/notebooks\n",
      "time: 1.64 s (started: 2021-04-25 19:11:36 +02:00)\n"
     ]
    }
   ],
   "source": [
    "!pwd"
   ]
  },
  {
   "cell_type": "code",
   "execution_count": 3,
   "id": "rental-ending",
   "metadata": {},
   "outputs": [
    {
     "name": "stdout",
     "output_type": "stream",
     "text": [
      "time: 207 ms (started: 2021-04-25 19:22:55 +02:00)\n"
     ]
    }
   ],
   "source": [
    "train_data = pd.read_csv('../raw_data/train.csv') \n",
    "test_data = pd.read_csv('../raw_data/test.csv')\n",
    "ss_data = pd.read_csv('../raw_data/sample_submission.csv', index_col = 0)"
   ]
  },
  {
   "cell_type": "code",
   "execution_count": 4,
   "id": "lucky-swift",
   "metadata": {},
   "outputs": [
    {
     "name": "stdout",
     "output_type": "stream",
     "text": [
      "time: 8.71 ms (started: 2021-04-25 19:22:57 +02:00)\n"
     ]
    }
   ],
   "source": [
    "train_df = train_data.copy()\n",
    "test_df = train_data.copy()\n",
    "ss_df = train_data.copy()"
   ]
  },
  {
   "cell_type": "code",
   "execution_count": 10,
   "id": "ecological-workplace",
   "metadata": {},
   "outputs": [
    {
     "data": {
      "text/plain": [
       "171250"
      ]
     },
     "execution_count": 10,
     "metadata": {},
     "output_type": "execute_result"
    },
    {
     "name": "stdout",
     "output_type": "stream",
     "text": [
      "time: 6.64 ms (started: 2021-04-25 14:42:52 +02:00)\n"
     ]
    }
   ],
   "source": [
    "train_df.size"
   ]
  },
  {
   "cell_type": "code",
   "execution_count": 11,
   "id": "copyrighted-extra",
   "metadata": {
    "collapsed": true
   },
   "outputs": [
    {
     "data": {
      "text/html": [
       "<div>\n",
       "<style scoped>\n",
       "    .dataframe tbody tr th:only-of-type {\n",
       "        vertical-align: middle;\n",
       "    }\n",
       "\n",
       "    .dataframe tbody tr th {\n",
       "        vertical-align: top;\n",
       "    }\n",
       "\n",
       "    .dataframe thead th {\n",
       "        text-align: right;\n",
       "    }\n",
       "</style>\n",
       "<table border=\"1\" class=\"dataframe\">\n",
       "  <thead>\n",
       "    <tr style=\"text-align: right;\">\n",
       "      <th></th>\n",
       "      <th>posting_id</th>\n",
       "      <th>image</th>\n",
       "      <th>image_phash</th>\n",
       "      <th>title</th>\n",
       "      <th>label_group</th>\n",
       "    </tr>\n",
       "  </thead>\n",
       "  <tbody>\n",
       "    <tr>\n",
       "      <th>0</th>\n",
       "      <td>train_129225211</td>\n",
       "      <td>0000a68812bc7e98c42888dfb1c07da0.jpg</td>\n",
       "      <td>94974f937d4c2433</td>\n",
       "      <td>Paper Bag Victoria Secret</td>\n",
       "      <td>249114794</td>\n",
       "    </tr>\n",
       "    <tr>\n",
       "      <th>1</th>\n",
       "      <td>train_3386243561</td>\n",
       "      <td>00039780dfc94d01db8676fe789ecd05.jpg</td>\n",
       "      <td>af3f9460c2838f0f</td>\n",
       "      <td>Double Tape 3M VHB 12 mm x 4,5 m ORIGINAL / DO...</td>\n",
       "      <td>2937985045</td>\n",
       "    </tr>\n",
       "    <tr>\n",
       "      <th>2</th>\n",
       "      <td>train_2288590299</td>\n",
       "      <td>000a190fdd715a2a36faed16e2c65df7.jpg</td>\n",
       "      <td>b94cb00ed3e50f78</td>\n",
       "      <td>Maling TTS Canned Pork Luncheon Meat 397 gr</td>\n",
       "      <td>2395904891</td>\n",
       "    </tr>\n",
       "    <tr>\n",
       "      <th>3</th>\n",
       "      <td>train_2406599165</td>\n",
       "      <td>00117e4fc239b1b641ff08340b429633.jpg</td>\n",
       "      <td>8514fc58eafea283</td>\n",
       "      <td>Daster Batik Lengan pendek - Motif Acak / Camp...</td>\n",
       "      <td>4093212188</td>\n",
       "    </tr>\n",
       "    <tr>\n",
       "      <th>4</th>\n",
       "      <td>train_3369186413</td>\n",
       "      <td>00136d1cf4edede0203f32f05f660588.jpg</td>\n",
       "      <td>a6f319f924ad708c</td>\n",
       "      <td>Nescafe \\xc3\\x89clair Latte 220ml</td>\n",
       "      <td>3648931069</td>\n",
       "    </tr>\n",
       "  </tbody>\n",
       "</table>\n",
       "</div>"
      ],
      "text/plain": [
       "         posting_id                                 image       image_phash  \\\n",
       "0   train_129225211  0000a68812bc7e98c42888dfb1c07da0.jpg  94974f937d4c2433   \n",
       "1  train_3386243561  00039780dfc94d01db8676fe789ecd05.jpg  af3f9460c2838f0f   \n",
       "2  train_2288590299  000a190fdd715a2a36faed16e2c65df7.jpg  b94cb00ed3e50f78   \n",
       "3  train_2406599165  00117e4fc239b1b641ff08340b429633.jpg  8514fc58eafea283   \n",
       "4  train_3369186413  00136d1cf4edede0203f32f05f660588.jpg  a6f319f924ad708c   \n",
       "\n",
       "                                               title  label_group  \n",
       "0                          Paper Bag Victoria Secret    249114794  \n",
       "1  Double Tape 3M VHB 12 mm x 4,5 m ORIGINAL / DO...   2937985045  \n",
       "2        Maling TTS Canned Pork Luncheon Meat 397 gr   2395904891  \n",
       "3  Daster Batik Lengan pendek - Motif Acak / Camp...   4093212188  \n",
       "4                  Nescafe \\xc3\\x89clair Latte 220ml   3648931069  "
      ]
     },
     "execution_count": 11,
     "metadata": {},
     "output_type": "execute_result"
    },
    {
     "name": "stdout",
     "output_type": "stream",
     "text": [
      "time: 18.7 ms (started: 2021-04-25 14:42:55 +02:00)\n"
     ]
    }
   ],
   "source": [
    "train_df.head()"
   ]
  },
  {
   "cell_type": "code",
   "execution_count": 12,
   "id": "experimental-association",
   "metadata": {
    "collapsed": true
   },
   "outputs": [
    {
     "name": "stdout",
     "output_type": "stream",
     "text": [
      "<class 'pandas.core.frame.DataFrame'>\n",
      "RangeIndex: 34250 entries, 0 to 34249\n",
      "Data columns (total 5 columns):\n",
      " #   Column       Non-Null Count  Dtype \n",
      "---  ------       --------------  ----- \n",
      " 0   posting_id   34250 non-null  object\n",
      " 1   image        34250 non-null  object\n",
      " 2   image_phash  34250 non-null  object\n",
      " 3   title        34250 non-null  object\n",
      " 4   label_group  34250 non-null  int64 \n",
      "dtypes: int64(1), object(4)\n",
      "memory usage: 1.3+ MB\n",
      "time: 30.7 ms (started: 2021-04-25 14:42:58 +02:00)\n"
     ]
    }
   ],
   "source": [
    "train_df.info()"
   ]
  },
  {
   "cell_type": "code",
   "execution_count": 13,
   "id": "administrative-healthcare",
   "metadata": {
    "collapsed": true
   },
   "outputs": [
    {
     "data": {
      "text/html": [
       "<div>\n",
       "<style scoped>\n",
       "    .dataframe tbody tr th:only-of-type {\n",
       "        vertical-align: middle;\n",
       "    }\n",
       "\n",
       "    .dataframe tbody tr th {\n",
       "        vertical-align: top;\n",
       "    }\n",
       "\n",
       "    .dataframe thead th {\n",
       "        text-align: right;\n",
       "    }\n",
       "</style>\n",
       "<table border=\"1\" class=\"dataframe\">\n",
       "  <thead>\n",
       "    <tr style=\"text-align: right;\">\n",
       "      <th></th>\n",
       "      <th>label_group</th>\n",
       "    </tr>\n",
       "  </thead>\n",
       "  <tbody>\n",
       "    <tr>\n",
       "      <th>count</th>\n",
       "      <td>3.425000e+04</td>\n",
       "    </tr>\n",
       "    <tr>\n",
       "      <th>mean</th>\n",
       "      <td>2.128611e+09</td>\n",
       "    </tr>\n",
       "    <tr>\n",
       "      <th>std</th>\n",
       "      <td>1.234630e+09</td>\n",
       "    </tr>\n",
       "    <tr>\n",
       "      <th>min</th>\n",
       "      <td>2.580470e+05</td>\n",
       "    </tr>\n",
       "    <tr>\n",
       "      <th>25%</th>\n",
       "      <td>1.050720e+09</td>\n",
       "    </tr>\n",
       "    <tr>\n",
       "      <th>50%</th>\n",
       "      <td>2.120410e+09</td>\n",
       "    </tr>\n",
       "    <tr>\n",
       "      <th>75%</th>\n",
       "      <td>3.187910e+09</td>\n",
       "    </tr>\n",
       "    <tr>\n",
       "      <th>max</th>\n",
       "      <td>4.294197e+09</td>\n",
       "    </tr>\n",
       "  </tbody>\n",
       "</table>\n",
       "</div>"
      ],
      "text/plain": [
       "        label_group\n",
       "count  3.425000e+04\n",
       "mean   2.128611e+09\n",
       "std    1.234630e+09\n",
       "min    2.580470e+05\n",
       "25%    1.050720e+09\n",
       "50%    2.120410e+09\n",
       "75%    3.187910e+09\n",
       "max    4.294197e+09"
      ]
     },
     "execution_count": 13,
     "metadata": {},
     "output_type": "execute_result"
    },
    {
     "name": "stdout",
     "output_type": "stream",
     "text": [
      "time: 21.2 ms (started: 2021-04-25 14:43:01 +02:00)\n"
     ]
    }
   ],
   "source": [
    "train_df.describe()"
   ]
  },
  {
   "cell_type": "code",
   "execution_count": 14,
   "id": "catholic-slave",
   "metadata": {},
   "outputs": [
    {
     "data": {
      "text/plain": [
       "(34250,)"
      ]
     },
     "execution_count": 14,
     "metadata": {},
     "output_type": "execute_result"
    },
    {
     "name": "stdout",
     "output_type": "stream",
     "text": [
      "time: 6.07 ms (started: 2021-04-25 14:43:05 +02:00)\n"
     ]
    }
   ],
   "source": [
    "train_df['image'].shape"
   ]
  },
  {
   "cell_type": "code",
   "execution_count": 15,
   "id": "competitive-yemen",
   "metadata": {
    "collapsed": true
   },
   "outputs": [
    {
     "data": {
      "text/plain": [
       "posting_id     34250\n",
       "image          32412\n",
       "image_phash    28735\n",
       "title          33117\n",
       "label_group    11014\n",
       "dtype: int64"
      ]
     },
     "execution_count": 15,
     "metadata": {},
     "output_type": "execute_result"
    },
    {
     "name": "stdout",
     "output_type": "stream",
     "text": [
      "time: 71.2 ms (started: 2021-04-25 14:43:09 +02:00)\n"
     ]
    }
   ],
   "source": [
    "train_df.nunique()"
   ]
  },
  {
   "cell_type": "code",
   "execution_count": 16,
   "id": "written-malta",
   "metadata": {
    "collapsed": true
   },
   "outputs": [
    {
     "data": {
      "text/plain": [
       "posting_id     0\n",
       "image          0\n",
       "image_phash    0\n",
       "title          0\n",
       "label_group    0\n",
       "dtype: int64"
      ]
     },
     "execution_count": 16,
     "metadata": {},
     "output_type": "execute_result"
    },
    {
     "name": "stdout",
     "output_type": "stream",
     "text": [
      "time: 23.4 ms (started: 2021-04-25 14:43:13 +02:00)\n"
     ]
    }
   ],
   "source": [
    "train_df.isna().sum()"
   ]
  },
  {
   "cell_type": "code",
   "execution_count": 19,
   "id": "confident-clear",
   "metadata": {
    "collapsed": true
   },
   "outputs": [
    {
     "name": "stdout",
     "output_type": "stream",
     "text": [
      "Requirement already satisfied: scikit-image in /home/anneconstance/.pyenv/versions/3.8.6/envs/lewagon/lib/python3.8/site-packages (0.18.1)\n",
      "Requirement already satisfied: tifffile>=2019.7.26 in /home/anneconstance/.pyenv/versions/3.8.6/envs/lewagon/lib/python3.8/site-packages (from scikit-image) (2021.2.1)\n",
      "Requirement already satisfied: pillow!=7.1.0,!=7.1.1,>=4.3.0 in /home/anneconstance/.pyenv/versions/3.8.6/envs/lewagon/lib/python3.8/site-packages (from scikit-image) (8.1.0)\n",
      "Requirement already satisfied: imageio>=2.3.0 in /home/anneconstance/.pyenv/versions/3.8.6/envs/lewagon/lib/python3.8/site-packages (from scikit-image) (2.9.0)\n",
      "Requirement already satisfied: PyWavelets>=1.1.1 in /home/anneconstance/.pyenv/versions/3.8.6/envs/lewagon/lib/python3.8/site-packages (from scikit-image) (1.1.1)\n",
      "Requirement already satisfied: scipy>=1.0.1 in /home/anneconstance/.pyenv/versions/3.8.6/envs/lewagon/lib/python3.8/site-packages (from scikit-image) (1.5.4)\n",
      "Requirement already satisfied: networkx>=2.0 in /home/anneconstance/.pyenv/versions/3.8.6/envs/lewagon/lib/python3.8/site-packages (from scikit-image) (2.5)\n",
      "Requirement already satisfied: matplotlib!=3.0.0,>=2.0.0 in /home/anneconstance/.pyenv/versions/3.8.6/envs/lewagon/lib/python3.8/site-packages (from scikit-image) (3.3.3)\n",
      "Requirement already satisfied: numpy>=1.16.5 in /home/anneconstance/.pyenv/versions/3.8.6/envs/lewagon/lib/python3.8/site-packages (from scikit-image) (1.19.5)\n",
      "Requirement already satisfied: pyparsing!=2.0.4,!=2.1.2,!=2.1.6,>=2.0.3 in /home/anneconstance/.pyenv/versions/3.8.6/envs/lewagon/lib/python3.8/site-packages (from matplotlib!=3.0.0,>=2.0.0->scikit-image) (2.4.7)\n",
      "Requirement already satisfied: python-dateutil>=2.1 in /home/anneconstance/.pyenv/versions/3.8.6/envs/lewagon/lib/python3.8/site-packages (from matplotlib!=3.0.0,>=2.0.0->scikit-image) (2.8.1)\n",
      "Requirement already satisfied: cycler>=0.10 in /home/anneconstance/.pyenv/versions/3.8.6/envs/lewagon/lib/python3.8/site-packages (from matplotlib!=3.0.0,>=2.0.0->scikit-image) (0.10.0)\n",
      "Requirement already satisfied: kiwisolver>=1.0.1 in /home/anneconstance/.pyenv/versions/3.8.6/envs/lewagon/lib/python3.8/site-packages (from matplotlib!=3.0.0,>=2.0.0->scikit-image) (1.3.1)\n",
      "Requirement already satisfied: six in /home/anneconstance/.pyenv/versions/3.8.6/envs/lewagon/lib/python3.8/site-packages (from cycler>=0.10->matplotlib!=3.0.0,>=2.0.0->scikit-image) (1.15.0)\n",
      "Requirement already satisfied: decorator>=4.3.0 in /home/anneconstance/.pyenv/versions/3.8.6/envs/lewagon/lib/python3.8/site-packages (from networkx>=2.0->scikit-image) (4.4.2)\n",
      "Note: you may need to restart the kernel to use updated packages.\n"
     ]
    }
   ],
   "source": [
    "pip install scikit-image"
   ]
  },
  {
   "cell_type": "code",
   "execution_count": 5,
   "id": "continental-michigan",
   "metadata": {},
   "outputs": [
    {
     "name": "stdout",
     "output_type": "stream",
     "text": [
      "time: 202 ms (started: 2021-04-25 19:23:11 +02:00)\n"
     ]
    }
   ],
   "source": [
    "from skimage import io\n",
    "import os"
   ]
  },
  {
   "cell_type": "code",
   "execution_count": 6,
   "id": "local-surfing",
   "metadata": {},
   "outputs": [
    {
     "name": "stdout",
     "output_type": "stream",
     "text": [
      "time: 968 µs (started: 2021-04-25 19:23:13 +02:00)\n"
     ]
    }
   ],
   "source": [
    "def trans_img(file_name):\n",
    "    filename = os.path.abspath(os.path.join('../raw_data/train_images', file_name))\n",
    "    return io.imread(filename)"
   ]
  },
  {
   "cell_type": "code",
   "execution_count": 7,
   "id": "buried-archive",
   "metadata": {},
   "outputs": [
    {
     "name": "stdout",
     "output_type": "stream",
     "text": [
      "time: 49.9 ms (started: 2021-04-25 19:23:15 +02:00)\n"
     ]
    }
   ],
   "source": [
    "img_1 = trans_img('00039780dfc94d01db8676fe789ecd05.jpg')"
   ]
  },
  {
   "cell_type": "code",
   "execution_count": 8,
   "id": "conventional-bacteria",
   "metadata": {
    "collapsed": true
   },
   "outputs": [
    {
     "data": {
      "text/plain": [
       "<matplotlib.image.AxesImage at 0x7f138938ed60>"
      ]
     },
     "execution_count": 8,
     "metadata": {},
     "output_type": "execute_result"
    },
    {
     "data": {
      "image/png": "[encoded data removed]",
      "text/plain": [
       "<Figure size 432x288 with 1 Axes>"
      ]
     },
     "metadata": {
      "needs_background": "light"
     },
     "output_type": "display_data"
    },
    {
     "name": "stdout",
     "output_type": "stream",
     "text": [
      "time: 323 ms (started: 2021-04-25 19:23:16 +02:00)\n"
     ]
    }
   ],
   "source": [
    "plt.imshow(img_1)"
   ]
  },
  {
   "cell_type": "code",
   "execution_count": null,
   "id": "crazy-rings",
   "metadata": {},
   "outputs": [],
   "source": []
  },
  {
   "cell_type": "code",
   "execution_count": null,
   "id": "minute-expert",
   "metadata": {},
   "outputs": [],
   "source": []
  },
  {
   "cell_type": "markdown",
   "id": "minus-sigma",
   "metadata": {},
   "source": [
    "# Image preprocessing"
   ]
  },
  {
   "cell_type": "markdown",
   "id": "amateur-milwaukee",
   "metadata": {},
   "source": [
    "## Resizing"
   ]
  },
  {
   "cell_type": "markdown",
   "id": "functional-tyler",
   "metadata": {},
   "source": [
    "We want to reshape the images in smaller size (state-of-the-art networks are trained on (224,224,3) images / tensors)"
   ]
  },
  {
   "cell_type": "code",
   "execution_count": 58,
   "id": "violent-collar",
   "metadata": {},
   "outputs": [
    {
     "name": "stdout",
     "output_type": "stream",
     "text": [
      "time: 11.1 ms (started: 2021-04-25 17:06:46 +02:00)\n"
     ]
    }
   ],
   "source": [
    "from skimage import io\n",
    "import os\n",
    "\n",
    "def get_img_size():\n",
    "    images = [image for image in train_df['image']]\n",
    "    img_shape = []\n",
    "    for image in images[11:76]:\n",
    "        img = trans_img(image)\n",
    "        x = img.shape\n",
    "        img_shape.append(x)\n",
    "        size_img = pd.DataFrame(img_shape)\n",
    "    return size_img"
   ]
  },
  {
   "cell_type": "code",
   "execution_count": 59,
   "id": "retired-belly",
   "metadata": {},
   "outputs": [
    {
     "data": {
      "text/html": [
       "<div>\n",
       "<style scoped>\n",
       "    .dataframe tbody tr th:only-of-type {\n",
       "        vertical-align: middle;\n",
       "    }\n",
       "\n",
       "    .dataframe tbody tr th {\n",
       "        vertical-align: top;\n",
       "    }\n",
       "\n",
       "    .dataframe thead th {\n",
       "        text-align: right;\n",
       "    }\n",
       "</style>\n",
       "<table border=\"1\" class=\"dataframe\">\n",
       "  <thead>\n",
       "    <tr style=\"text-align: right;\">\n",
       "      <th></th>\n",
       "      <th>0</th>\n",
       "      <th>1</th>\n",
       "      <th>2</th>\n",
       "    </tr>\n",
       "  </thead>\n",
       "  <tbody>\n",
       "    <tr>\n",
       "      <th>9</th>\n",
       "      <td>4501</td>\n",
       "      <td>4500</td>\n",
       "      <td>3</td>\n",
       "    </tr>\n",
       "    <tr>\n",
       "      <th>56</th>\n",
       "      <td>1024</td>\n",
       "      <td>1024</td>\n",
       "      <td>3</td>\n",
       "    </tr>\n",
       "    <tr>\n",
       "      <th>16</th>\n",
       "      <td>1024</td>\n",
       "      <td>1024</td>\n",
       "      <td>3</td>\n",
       "    </tr>\n",
       "    <tr>\n",
       "      <th>15</th>\n",
       "      <td>1024</td>\n",
       "      <td>1024</td>\n",
       "      <td>3</td>\n",
       "    </tr>\n",
       "    <tr>\n",
       "      <th>28</th>\n",
       "      <td>1024</td>\n",
       "      <td>1024</td>\n",
       "      <td>3</td>\n",
       "    </tr>\n",
       "    <tr>\n",
       "      <th>...</th>\n",
       "      <td>...</td>\n",
       "      <td>...</td>\n",
       "      <td>...</td>\n",
       "    </tr>\n",
       "    <tr>\n",
       "      <th>64</th>\n",
       "      <td>640</td>\n",
       "      <td>640</td>\n",
       "      <td>3</td>\n",
       "    </tr>\n",
       "    <tr>\n",
       "      <th>11</th>\n",
       "      <td>604</td>\n",
       "      <td>604</td>\n",
       "      <td>3</td>\n",
       "    </tr>\n",
       "    <tr>\n",
       "      <th>8</th>\n",
       "      <td>595</td>\n",
       "      <td>595</td>\n",
       "      <td>3</td>\n",
       "    </tr>\n",
       "    <tr>\n",
       "      <th>2</th>\n",
       "      <td>449</td>\n",
       "      <td>449</td>\n",
       "      <td>3</td>\n",
       "    </tr>\n",
       "    <tr>\n",
       "      <th>7</th>\n",
       "      <td>314</td>\n",
       "      <td>314</td>\n",
       "      <td>3</td>\n",
       "    </tr>\n",
       "  </tbody>\n",
       "</table>\n",
       "<p>65 rows × 3 columns</p>\n",
       "</div>"
      ],
      "text/plain": [
       "       0     1  2\n",
       "9   4501  4500  3\n",
       "56  1024  1024  3\n",
       "16  1024  1024  3\n",
       "15  1024  1024  3\n",
       "28  1024  1024  3\n",
       "..   ...   ... ..\n",
       "64   640   640  3\n",
       "11   604   604  3\n",
       "8    595   595  3\n",
       "2    449   449  3\n",
       "7    314   314  3\n",
       "\n",
       "[65 rows x 3 columns]"
      ]
     },
     "execution_count": 59,
     "metadata": {},
     "output_type": "execute_result"
    },
    {
     "name": "stdout",
     "output_type": "stream",
     "text": [
      "time: 1.5 s (started: 2021-04-25 17:06:53 +02:00)\n"
     ]
    }
   ],
   "source": [
    "img_size_df = get_img_size()\n",
    "img_size_df.sort_values(by=0, ascending=False)"
   ]
  },
  {
   "cell_type": "code",
   "execution_count": 61,
   "id": "plastic-above",
   "metadata": {},
   "outputs": [
    {
     "data": {
      "text/plain": [
       "(4500, 314)"
      ]
     },
     "execution_count": 61,
     "metadata": {},
     "output_type": "execute_result"
    },
    {
     "name": "stdout",
     "output_type": "stream",
     "text": [
      "time: 4.32 ms (started: 2021-04-25 17:07:00 +02:00)\n"
     ]
    }
   ],
   "source": [
    "max(img_size_df[1]), min(img_size_df[1])"
   ]
  },
  {
   "cell_type": "code",
   "execution_count": 65,
   "id": "strategic-surfing",
   "metadata": {},
   "outputs": [
    {
     "name": "stdout",
     "output_type": "stream",
     "text": [
      "time: 1.04 ms (started: 2021-04-25 17:07:45 +02:00)\n"
     ]
    }
   ],
   "source": [
    "sizes_set = set(img_size_df[0])\n",
    "def sizes_ratio():\n",
    "    for size in sizes_set:\n",
    "        return img_size_df[0].value_counts()/len(train_df['image'])*100"
   ]
  },
  {
   "cell_type": "code",
   "execution_count": 66,
   "id": "spoken-perception",
   "metadata": {},
   "outputs": [
    {
     "data": {
      "text/plain": [
       "18"
      ]
     },
     "execution_count": 66,
     "metadata": {},
     "output_type": "execute_result"
    },
    {
     "name": "stdout",
     "output_type": "stream",
     "text": [
      "time: 3.33 ms (started: 2021-04-25 17:07:47 +02:00)\n"
     ]
    }
   ],
   "source": [
    "len(sizes_set)"
   ]
  },
  {
   "cell_type": "code",
   "execution_count": 67,
   "id": "comfortable-german",
   "metadata": {
    "collapsed": true
   },
   "outputs": [
    {
     "data": {
      "text/plain": [
       "640     0.055474\n",
       "1024    0.043796\n",
       "700     0.020438\n",
       "800     0.017518\n",
       "1000    0.014599\n",
       "960     0.002920\n",
       "4501    0.002920\n",
       "604     0.002920\n",
       "595     0.002920\n",
       "720     0.002920\n",
       "449     0.002920\n",
       "699     0.002920\n",
       "650     0.002920\n",
       "314     0.002920\n",
       "820     0.002920\n",
       "669     0.002920\n",
       "665     0.002920\n",
       "748     0.002920\n",
       "Name: 0, dtype: float64"
      ]
     },
     "execution_count": 67,
     "metadata": {},
     "output_type": "execute_result"
    },
    {
     "name": "stdout",
     "output_type": "stream",
     "text": [
      "time: 14.1 ms (started: 2021-04-25 17:07:49 +02:00)\n"
     ]
    }
   ],
   "source": [
    "x = sizes_ratio()\n",
    "x.sort_values(ascending=False)\n"
   ]
  },
  {
   "cell_type": "code",
   "execution_count": 68,
   "id": "unauthorized-example",
   "metadata": {},
   "outputs": [
    {
     "name": "stdout",
     "output_type": "stream",
     "text": [
      "time: 1.2 ms (started: 2021-04-25 17:08:04 +02:00)\n"
     ]
    }
   ],
   "source": [
    "def get_unsquarred_ratio() :\n",
    "    records = img_size_df.to_records(index=False)\n",
    "    list_sizes = list(records)\n",
    "    print(list_sizes)\n",
    "    unsquarred =[]\n",
    "    for x in list_sizes:\n",
    "        if x[0]!=x[1]:\n",
    "            unsquarred.append(x[0])\n",
    "    return f\"Ratio of unsquarred images : {round(len(unsquarred)/len(train_df['image']), 3)*100} %\""
   ]
  },
  {
   "cell_type": "code",
   "execution_count": 69,
   "id": "driven-trail",
   "metadata": {},
   "outputs": [
    {
     "name": "stdout",
     "output_type": "stream",
     "text": [
      "[(1000, 1000, 3), (1000, 1000, 3), (449, 449, 3), (640, 640, 3), (640, 640, 3), (1024, 1024, 3), (800, 800, 3), (314, 314, 3), (595, 595, 3), (4501, 4500, 3), (700, 700, 3), (604, 604, 3), (665, 665, 3), (700, 700, 3), (640, 640, 3), (1024, 1024, 3), (1024, 1024, 3), (700, 700, 3), (700, 700, 3), (640, 640, 3), (640, 640, 3), (800, 800, 3), (640, 640, 3), (640, 640, 3), (640, 640, 3), (1000, 1000, 3), (1000, 1000, 3), (720, 720, 3), (1024, 1024, 3), (1024, 1024, 3), (1024, 1024, 3), (640, 640, 3), (640, 640, 3), (1024, 1024, 3), (700, 700, 3), (699, 699, 3), (800, 800, 3), (640, 640, 3), (700, 700, 3), (640, 640, 3), (1024, 1024, 3), (1024, 1024, 3), (1024, 1024, 3), (800, 800, 3), (1024, 1024, 3), (640, 640, 3), (640, 640, 3), (1024, 1024, 3), (1024, 1024, 3), (700, 700, 3), (820, 820, 3), (640, 640, 3), (960, 960, 3), (640, 640, 3), (748, 748, 3), (800, 800, 3), (1024, 1024, 3), (1000, 1000, 3), (1024, 1024, 3), (640, 640, 3), (640, 640, 3), (800, 800, 3), (669, 669, 3), (650, 650, 3), (640, 640, 3)]\n"
     ]
    },
    {
     "data": {
      "text/plain": [
       "'Ratio of unsquarred images : 0.0 %'"
      ]
     },
     "execution_count": 69,
     "metadata": {},
     "output_type": "execute_result"
    },
    {
     "name": "stdout",
     "output_type": "stream",
     "text": [
      "time: 20.1 ms (started: 2021-04-25 17:08:09 +02:00)\n"
     ]
    }
   ],
   "source": [
    "get_unsquarred_ratio()"
   ]
  },
  {
   "cell_type": "markdown",
   "id": "stuck-cornell",
   "metadata": {},
   "source": [
    "Turning images into arrays of size (224, 224, 3) "
   ]
  },
  {
   "cell_type": "code",
   "execution_count": 9,
   "id": "blessed-helicopter",
   "metadata": {},
   "outputs": [
    {
     "name": "stdout",
     "output_type": "stream",
     "text": [
      "time: 1.44 ms (started: 2021-04-25 19:24:05 +02:00)\n"
     ]
    }
   ],
   "source": [
    "from PIL import Image\n",
    "\n",
    "def drop_unsquarred():\n",
    "    df_squarred = []\n",
    "    images = [image for image in train_df['image']]\n",
    "    for image in images:\n",
    "        image_size=Image.open(f\"../raw_data/train_images/{image}\").size\n",
    "        if image_size[0] == image_size[1]:\n",
    "            df_squarred.append(image)\n",
    "    return type(df_squarred)"
   ]
  },
  {
   "cell_type": "code",
   "execution_count": 10,
   "id": "promising-penny",
   "metadata": {},
   "outputs": [
    {
     "data": {
      "text/plain": [
       "list"
      ]
     },
     "execution_count": 10,
     "metadata": {},
     "output_type": "execute_result"
    },
    {
     "name": "stdout",
     "output_type": "stream",
     "text": [
      "time: 21.2 s (started: 2021-04-25 19:24:11 +02:00)\n"
     ]
    }
   ],
   "source": [
    "df_squarred = drop_unsquarred()\n",
    "df_squarred"
   ]
  },
  {
   "cell_type": "code",
   "execution_count": 133,
   "id": "worse-reply",
   "metadata": {
    "scrolled": true
   },
   "outputs": [
    {
     "name": "stdout",
     "output_type": "stream",
     "text": [
      "time: 3.49 ms (started: 2021-04-25 19:12:15 +02:00)\n"
     ]
    }
   ],
   "source": [
    "def resize_save_unsquarred():\n",
    "    img_squarred = []\n",
    "    for image in df_squarred:\n",
    "        image_open=Image.open(f\"../raw_data/train_images/{image}\").resize((224,224))\n",
    "        image_open.save(f\"../raw_data/train_images/resized/{image}\")\n",
    "        img_squarred.append(image_open)\n",
    "    return img_squarred"
   ]
  },
  {
   "cell_type": "code",
   "execution_count": null,
   "id": "distributed-privilege",
   "metadata": {},
   "outputs": [],
   "source": [
    "img_squarred = resize_save_unsquarred()"
   ]
  },
  {
   "cell_type": "code",
   "execution_count": null,
   "id": "documented-mounting",
   "metadata": {},
   "outputs": [],
   "source": [
    "plt.imshow(img_squarred[1100])"
   ]
  },
  {
   "cell_type": "code",
   "execution_count": null,
   "id": "nearby-fourth",
   "metadata": {},
   "outputs": [],
   "source": [
    "train_df['resized_image'] = pd.read_csv('../raw_data/train_images/resized/train.csv') "
   ]
  },
  {
   "cell_type": "code",
   "execution_count": null,
   "id": "after-cache",
   "metadata": {},
   "outputs": [],
   "source": []
  },
  {
   "cell_type": "code",
   "execution_count": 115,
   "id": "funky-characteristic",
   "metadata": {},
   "outputs": [
    {
     "ename": "ValueError",
     "evalue": "total size of new array must be unchanged, input_shape = [10, 10, 1], output_shape = [25]",
     "output_type": "error",
     "traceback": [
      "\u001b[0;31m---------------------------------------------------------------------------\u001b[0m",
      "\u001b[0;31mValueError\u001b[0m                                Traceback (most recent call last)",
      "\u001b[0;32m<ipython-input-115-0abaf275fed5>\u001b[0m in \u001b[0;36m<module>\u001b[0;34m\u001b[0m\n\u001b[1;32m      3\u001b[0m \u001b[0;34m\u001b[0m\u001b[0m\n\u001b[1;32m      4\u001b[0m \u001b[0mmodel\u001b[0m \u001b[0;34m=\u001b[0m \u001b[0mSequential\u001b[0m\u001b[0;34m(\u001b[0m\u001b[0;34m)\u001b[0m\u001b[0;34m\u001b[0m\u001b[0;34m\u001b[0m\u001b[0m\n\u001b[0;32m----> 5\u001b[0;31m \u001b[0mmodel\u001b[0m\u001b[0;34m.\u001b[0m\u001b[0madd\u001b[0m\u001b[0;34m(\u001b[0m\u001b[0mReshape\u001b[0m\u001b[0;34m(\u001b[0m\u001b[0;34m(\u001b[0m\u001b[0;36m5\u001b[0m\u001b[0;34m*\u001b[0m\u001b[0;36m5\u001b[0m\u001b[0;34m*\u001b[0m\u001b[0;36m1\u001b[0m\u001b[0;34m,\u001b[0m\u001b[0;34m)\u001b[0m\u001b[0;34m,\u001b[0m \u001b[0minput_shape\u001b[0m\u001b[0;34m=\u001b[0m\u001b[0;34m(\u001b[0m\u001b[0;36m10\u001b[0m\u001b[0;34m,\u001b[0m \u001b[0;36m10\u001b[0m\u001b[0;34m,\u001b[0m\u001b[0;36m1\u001b[0m\u001b[0;34m)\u001b[0m\u001b[0;34m)\u001b[0m\u001b[0;34m)\u001b[0m\u001b[0;34m\u001b[0m\u001b[0;34m\u001b[0m\u001b[0m\n\u001b[0m\u001b[1;32m      6\u001b[0m \u001b[0mmodel\u001b[0m\u001b[0;34m.\u001b[0m\u001b[0madd\u001b[0m\u001b[0;34m(\u001b[0m\u001b[0mDense\u001b[0m\u001b[0;34m(\u001b[0m\u001b[0;36m100\u001b[0m\u001b[0;34m,\u001b[0m \u001b[0mactivation\u001b[0m\u001b[0;34m=\u001b[0m\u001b[0;34m'relu'\u001b[0m\u001b[0;34m)\u001b[0m\u001b[0;34m)\u001b[0m\u001b[0;34m\u001b[0m\u001b[0;34m\u001b[0m\u001b[0m\n\u001b[1;32m      7\u001b[0m \u001b[0mmodel\u001b[0m\u001b[0;34m.\u001b[0m\u001b[0madd\u001b[0m\u001b[0;34m(\u001b[0m\u001b[0mDense\u001b[0m\u001b[0;34m(\u001b[0m\u001b[0;36m10\u001b[0m\u001b[0;34m,\u001b[0m \u001b[0mactivation\u001b[0m\u001b[0;34m=\u001b[0m\u001b[0;34m'softmax'\u001b[0m\u001b[0;34m)\u001b[0m\u001b[0;34m)\u001b[0m\u001b[0;34m\u001b[0m\u001b[0;34m\u001b[0m\u001b[0m\n",
      "\u001b[0;32m~/.pyenv/versions/3.8.6/envs/lewagon/lib/python3.8/site-packages/tensorflow/python/training/tracking/base.py\u001b[0m in \u001b[0;36m_method_wrapper\u001b[0;34m(self, *args, **kwargs)\u001b[0m\n\u001b[1;32m    515\u001b[0m     \u001b[0mself\u001b[0m\u001b[0;34m.\u001b[0m\u001b[0m_self_setattr_tracking\u001b[0m \u001b[0;34m=\u001b[0m \u001b[0;32mFalse\u001b[0m  \u001b[0;31m# pylint: disable=protected-access\u001b[0m\u001b[0;34m\u001b[0m\u001b[0;34m\u001b[0m\u001b[0m\n\u001b[1;32m    516\u001b[0m     \u001b[0;32mtry\u001b[0m\u001b[0;34m:\u001b[0m\u001b[0;34m\u001b[0m\u001b[0;34m\u001b[0m\u001b[0m\n\u001b[0;32m--> 517\u001b[0;31m       \u001b[0mresult\u001b[0m \u001b[0;34m=\u001b[0m \u001b[0mmethod\u001b[0m\u001b[0;34m(\u001b[0m\u001b[0mself\u001b[0m\u001b[0;34m,\u001b[0m \u001b[0;34m*\u001b[0m\u001b[0margs\u001b[0m\u001b[0;34m,\u001b[0m \u001b[0;34m**\u001b[0m\u001b[0mkwargs\u001b[0m\u001b[0;34m)\u001b[0m\u001b[0;34m\u001b[0m\u001b[0;34m\u001b[0m\u001b[0m\n\u001b[0m\u001b[1;32m    518\u001b[0m     \u001b[0;32mfinally\u001b[0m\u001b[0;34m:\u001b[0m\u001b[0;34m\u001b[0m\u001b[0;34m\u001b[0m\u001b[0m\n\u001b[1;32m    519\u001b[0m       \u001b[0mself\u001b[0m\u001b[0;34m.\u001b[0m\u001b[0m_self_setattr_tracking\u001b[0m \u001b[0;34m=\u001b[0m \u001b[0mprevious_value\u001b[0m  \u001b[0;31m# pylint: disable=protected-access\u001b[0m\u001b[0;34m\u001b[0m\u001b[0;34m\u001b[0m\u001b[0m\n",
      "\u001b[0;32m~/.pyenv/versions/3.8.6/envs/lewagon/lib/python3.8/site-packages/tensorflow/python/keras/engine/sequential.py\u001b[0m in \u001b[0;36madd\u001b[0;34m(self, layer)\u001b[0m\n\u001b[1;32m    206\u001b[0m           \u001b[0;31m# and create the node connecting the current layer\u001b[0m\u001b[0;34m\u001b[0m\u001b[0;34m\u001b[0m\u001b[0;34m\u001b[0m\u001b[0m\n\u001b[1;32m    207\u001b[0m           \u001b[0;31m# to the input layer we just created.\u001b[0m\u001b[0;34m\u001b[0m\u001b[0;34m\u001b[0m\u001b[0;34m\u001b[0m\u001b[0m\n\u001b[0;32m--> 208\u001b[0;31m           \u001b[0mlayer\u001b[0m\u001b[0;34m(\u001b[0m\u001b[0mx\u001b[0m\u001b[0;34m)\u001b[0m\u001b[0;34m\u001b[0m\u001b[0;34m\u001b[0m\u001b[0m\n\u001b[0m\u001b[1;32m    209\u001b[0m           \u001b[0mset_inputs\u001b[0m \u001b[0;34m=\u001b[0m \u001b[0;32mTrue\u001b[0m\u001b[0;34m\u001b[0m\u001b[0;34m\u001b[0m\u001b[0m\n\u001b[1;32m    210\u001b[0m \u001b[0;34m\u001b[0m\u001b[0m\n",
      "\u001b[0;32m~/.pyenv/versions/3.8.6/envs/lewagon/lib/python3.8/site-packages/tensorflow/python/keras/engine/base_layer.py\u001b[0m in \u001b[0;36m__call__\u001b[0;34m(self, *args, **kwargs)\u001b[0m\n\u001b[1;32m    949\u001b[0m     \u001b[0;31m# >> model = tf.keras.Model(inputs, outputs)\u001b[0m\u001b[0;34m\u001b[0m\u001b[0;34m\u001b[0m\u001b[0;34m\u001b[0m\u001b[0m\n\u001b[1;32m    950\u001b[0m     \u001b[0;32mif\u001b[0m \u001b[0m_in_functional_construction_mode\u001b[0m\u001b[0;34m(\u001b[0m\u001b[0mself\u001b[0m\u001b[0;34m,\u001b[0m \u001b[0minputs\u001b[0m\u001b[0;34m,\u001b[0m \u001b[0margs\u001b[0m\u001b[0;34m,\u001b[0m \u001b[0mkwargs\u001b[0m\u001b[0;34m,\u001b[0m \u001b[0minput_list\u001b[0m\u001b[0;34m)\u001b[0m\u001b[0;34m:\u001b[0m\u001b[0;34m\u001b[0m\u001b[0;34m\u001b[0m\u001b[0m\n\u001b[0;32m--> 951\u001b[0;31m       return self._functional_construction_call(inputs, args, kwargs,\n\u001b[0m\u001b[1;32m    952\u001b[0m                                                 input_list)\n\u001b[1;32m    953\u001b[0m \u001b[0;34m\u001b[0m\u001b[0m\n",
      "\u001b[0;32m~/.pyenv/versions/3.8.6/envs/lewagon/lib/python3.8/site-packages/tensorflow/python/keras/engine/base_layer.py\u001b[0m in \u001b[0;36m_functional_construction_call\u001b[0;34m(self, inputs, args, kwargs, input_list)\u001b[0m\n\u001b[1;32m   1088\u001b[0m           layer=self, inputs=inputs, build_graph=True, training=training_value):\n\u001b[1;32m   1089\u001b[0m         \u001b[0;31m# Check input assumptions set after layer building, e.g. input shape.\u001b[0m\u001b[0;34m\u001b[0m\u001b[0;34m\u001b[0m\u001b[0;34m\u001b[0m\u001b[0m\n\u001b[0;32m-> 1090\u001b[0;31m         outputs = self._keras_tensor_symbolic_call(\n\u001b[0m\u001b[1;32m   1091\u001b[0m             inputs, input_masks, args, kwargs)\n\u001b[1;32m   1092\u001b[0m \u001b[0;34m\u001b[0m\u001b[0m\n",
      "\u001b[0;32m~/.pyenv/versions/3.8.6/envs/lewagon/lib/python3.8/site-packages/tensorflow/python/keras/engine/base_layer.py\u001b[0m in \u001b[0;36m_keras_tensor_symbolic_call\u001b[0;34m(self, inputs, input_masks, args, kwargs)\u001b[0m\n\u001b[1;32m    820\u001b[0m       \u001b[0;32mreturn\u001b[0m \u001b[0mnest\u001b[0m\u001b[0;34m.\u001b[0m\u001b[0mmap_structure\u001b[0m\u001b[0;34m(\u001b[0m\u001b[0mkeras_tensor\u001b[0m\u001b[0;34m.\u001b[0m\u001b[0mKerasTensor\u001b[0m\u001b[0;34m,\u001b[0m \u001b[0moutput_signature\u001b[0m\u001b[0;34m)\u001b[0m\u001b[0;34m\u001b[0m\u001b[0;34m\u001b[0m\u001b[0m\n\u001b[1;32m    821\u001b[0m     \u001b[0;32melse\u001b[0m\u001b[0;34m:\u001b[0m\u001b[0;34m\u001b[0m\u001b[0;34m\u001b[0m\u001b[0m\n\u001b[0;32m--> 822\u001b[0;31m       \u001b[0;32mreturn\u001b[0m \u001b[0mself\u001b[0m\u001b[0;34m.\u001b[0m\u001b[0m_infer_output_signature\u001b[0m\u001b[0;34m(\u001b[0m\u001b[0minputs\u001b[0m\u001b[0;34m,\u001b[0m \u001b[0margs\u001b[0m\u001b[0;34m,\u001b[0m \u001b[0mkwargs\u001b[0m\u001b[0;34m,\u001b[0m \u001b[0minput_masks\u001b[0m\u001b[0;34m)\u001b[0m\u001b[0;34m\u001b[0m\u001b[0;34m\u001b[0m\u001b[0m\n\u001b[0m\u001b[1;32m    823\u001b[0m \u001b[0;34m\u001b[0m\u001b[0m\n\u001b[1;32m    824\u001b[0m   \u001b[0;32mdef\u001b[0m \u001b[0m_infer_output_signature\u001b[0m\u001b[0;34m(\u001b[0m\u001b[0mself\u001b[0m\u001b[0;34m,\u001b[0m \u001b[0minputs\u001b[0m\u001b[0;34m,\u001b[0m \u001b[0margs\u001b[0m\u001b[0;34m,\u001b[0m \u001b[0mkwargs\u001b[0m\u001b[0;34m,\u001b[0m \u001b[0minput_masks\u001b[0m\u001b[0;34m)\u001b[0m\u001b[0;34m:\u001b[0m\u001b[0;34m\u001b[0m\u001b[0;34m\u001b[0m\u001b[0m\n",
      "\u001b[0;32m~/.pyenv/versions/3.8.6/envs/lewagon/lib/python3.8/site-packages/tensorflow/python/keras/engine/base_layer.py\u001b[0m in \u001b[0;36m_infer_output_signature\u001b[0;34m(self, inputs, args, kwargs, input_masks)\u001b[0m\n\u001b[1;32m    861\u001b[0m           \u001b[0;31m# TODO(kaftan): do we maybe_build here, or have we already done it?\u001b[0m\u001b[0;34m\u001b[0m\u001b[0;34m\u001b[0m\u001b[0;34m\u001b[0m\u001b[0m\n\u001b[1;32m    862\u001b[0m           \u001b[0mself\u001b[0m\u001b[0;34m.\u001b[0m\u001b[0m_maybe_build\u001b[0m\u001b[0;34m(\u001b[0m\u001b[0minputs\u001b[0m\u001b[0;34m)\u001b[0m\u001b[0;34m\u001b[0m\u001b[0;34m\u001b[0m\u001b[0m\n\u001b[0;32m--> 863\u001b[0;31m           \u001b[0moutputs\u001b[0m \u001b[0;34m=\u001b[0m \u001b[0mcall_fn\u001b[0m\u001b[0;34m(\u001b[0m\u001b[0minputs\u001b[0m\u001b[0;34m,\u001b[0m \u001b[0;34m*\u001b[0m\u001b[0margs\u001b[0m\u001b[0;34m,\u001b[0m \u001b[0;34m**\u001b[0m\u001b[0mkwargs\u001b[0m\u001b[0;34m)\u001b[0m\u001b[0;34m\u001b[0m\u001b[0;34m\u001b[0m\u001b[0m\n\u001b[0m\u001b[1;32m    864\u001b[0m \u001b[0;34m\u001b[0m\u001b[0m\n\u001b[1;32m    865\u001b[0m         \u001b[0mself\u001b[0m\u001b[0;34m.\u001b[0m\u001b[0m_handle_activity_regularization\u001b[0m\u001b[0;34m(\u001b[0m\u001b[0minputs\u001b[0m\u001b[0;34m,\u001b[0m \u001b[0moutputs\u001b[0m\u001b[0;34m)\u001b[0m\u001b[0;34m\u001b[0m\u001b[0;34m\u001b[0m\u001b[0m\n",
      "\u001b[0;32m~/.pyenv/versions/3.8.6/envs/lewagon/lib/python3.8/site-packages/tensorflow/python/keras/layers/core.py\u001b[0m in \u001b[0;36mcall\u001b[0;34m(self, inputs)\u001b[0m\n\u001b[1;32m    555\u001b[0m       \u001b[0;31m# Set the static shape for the result since it might lost during array_ops\u001b[0m\u001b[0;34m\u001b[0m\u001b[0;34m\u001b[0m\u001b[0;34m\u001b[0m\u001b[0m\n\u001b[1;32m    556\u001b[0m       \u001b[0;31m# reshape, eg, some `None` dim in the result could be inferred.\u001b[0m\u001b[0;34m\u001b[0m\u001b[0;34m\u001b[0m\u001b[0;34m\u001b[0m\u001b[0m\n\u001b[0;32m--> 557\u001b[0;31m       \u001b[0mresult\u001b[0m\u001b[0;34m.\u001b[0m\u001b[0mset_shape\u001b[0m\u001b[0;34m(\u001b[0m\u001b[0mself\u001b[0m\u001b[0;34m.\u001b[0m\u001b[0mcompute_output_shape\u001b[0m\u001b[0;34m(\u001b[0m\u001b[0minputs\u001b[0m\u001b[0;34m.\u001b[0m\u001b[0mshape\u001b[0m\u001b[0;34m)\u001b[0m\u001b[0;34m)\u001b[0m\u001b[0;34m\u001b[0m\u001b[0;34m\u001b[0m\u001b[0m\n\u001b[0m\u001b[1;32m    558\u001b[0m     \u001b[0;32mreturn\u001b[0m \u001b[0mresult\u001b[0m\u001b[0;34m\u001b[0m\u001b[0;34m\u001b[0m\u001b[0m\n\u001b[1;32m    559\u001b[0m \u001b[0;34m\u001b[0m\u001b[0m\n",
      "\u001b[0;32m~/.pyenv/versions/3.8.6/envs/lewagon/lib/python3.8/site-packages/tensorflow/python/keras/layers/core.py\u001b[0m in \u001b[0;36mcompute_output_shape\u001b[0;34m(self, input_shape)\u001b[0m\n\u001b[1;32m    545\u001b[0m     \u001b[0;32melse\u001b[0m\u001b[0;34m:\u001b[0m\u001b[0;34m\u001b[0m\u001b[0;34m\u001b[0m\u001b[0m\n\u001b[1;32m    546\u001b[0m       \u001b[0moutput_shape\u001b[0m \u001b[0;34m=\u001b[0m \u001b[0;34m[\u001b[0m\u001b[0minput_shape\u001b[0m\u001b[0;34m[\u001b[0m\u001b[0;36m0\u001b[0m\u001b[0;34m]\u001b[0m\u001b[0;34m]\u001b[0m\u001b[0;34m\u001b[0m\u001b[0;34m\u001b[0m\u001b[0m\n\u001b[0;32m--> 547\u001b[0;31m       output_shape += self._fix_unknown_dimension(input_shape[1:],\n\u001b[0m\u001b[1;32m    548\u001b[0m                                                   self.target_shape)\n\u001b[1;32m    549\u001b[0m     \u001b[0;32mreturn\u001b[0m \u001b[0mtensor_shape\u001b[0m\u001b[0;34m.\u001b[0m\u001b[0mTensorShape\u001b[0m\u001b[0;34m(\u001b[0m\u001b[0moutput_shape\u001b[0m\u001b[0;34m)\u001b[0m\u001b[0;34m\u001b[0m\u001b[0;34m\u001b[0m\u001b[0m\n",
      "\u001b[0;32m~/.pyenv/versions/3.8.6/envs/lewagon/lib/python3.8/site-packages/tensorflow/python/keras/layers/core.py\u001b[0m in \u001b[0;36m_fix_unknown_dimension\u001b[0;34m(self, input_shape, output_shape)\u001b[0m\n\u001b[1;32m    534\u001b[0m       \u001b[0moutput_shape\u001b[0m\u001b[0;34m[\u001b[0m\u001b[0munknown\u001b[0m\u001b[0;34m]\u001b[0m \u001b[0;34m=\u001b[0m \u001b[0moriginal\u001b[0m \u001b[0;34m//\u001b[0m \u001b[0mknown\u001b[0m\u001b[0;34m\u001b[0m\u001b[0;34m\u001b[0m\u001b[0m\n\u001b[1;32m    535\u001b[0m     \u001b[0;32melif\u001b[0m \u001b[0moriginal\u001b[0m \u001b[0;34m!=\u001b[0m \u001b[0mknown\u001b[0m\u001b[0;34m:\u001b[0m\u001b[0;34m\u001b[0m\u001b[0;34m\u001b[0m\u001b[0m\n\u001b[0;32m--> 536\u001b[0;31m       \u001b[0;32mraise\u001b[0m \u001b[0mValueError\u001b[0m\u001b[0;34m(\u001b[0m\u001b[0mmsg\u001b[0m\u001b[0;34m)\u001b[0m\u001b[0;34m\u001b[0m\u001b[0;34m\u001b[0m\u001b[0m\n\u001b[0m\u001b[1;32m    537\u001b[0m     \u001b[0;32mreturn\u001b[0m \u001b[0moutput_shape\u001b[0m\u001b[0;34m\u001b[0m\u001b[0;34m\u001b[0m\u001b[0m\n\u001b[1;32m    538\u001b[0m \u001b[0;34m\u001b[0m\u001b[0m\n",
      "\u001b[0;31mValueError\u001b[0m: total size of new array must be unchanged, input_shape = [10, 10, 1], output_shape = [25]"
     ]
    },
    {
     "name": "stdout",
     "output_type": "stream",
     "text": [
      "time: 16.4 s (started: 2021-04-25 19:00:01 +02:00)\n"
     ]
    }
   ],
   "source": [
    "from tensorflow.keras.models import Sequential\n",
    "from tensorflow.keras.layers import Dense, Reshape\n",
    "\n",
    "# Minimal Network + Common tricks + First hyperparameters tests\n",
    "\n",
    "model = Sequential()\n",
    "\n",
    "# First convolution & max-pooling\n",
    "model.add(layers.Conv2D(100, (10,4), strides=(2,2), input_shape=(28, 28, 1), padding='same'))\n",
    "model.add(layers.MaxPool2D(pool_size=(3,3)))\n",
    "\n",
    "# Second convolution & max-pooling\n",
    "model.add(layers.Conv2D(32, (3,3), strides=(2,2), padding='same'))\n",
    "model.add(layers.MaxPool2D(pool_size=(2,2)))\n",
    "\n",
    "model.add(layers.Flatten())\n",
    "model.add(layers.Dense(100, activation='relu'))\n",
    "model.add(layers.Dense(10, activation='softmax'))\n",
    "\n",
    "# ––– This is where your Data Scientist skills begin"
   ]
  },
  {
   "cell_type": "raw",
   "id": "closing-adrian",
   "metadata": {},
   "source": []
  },
  {
   "cell_type": "code",
   "execution_count": null,
   "id": "finnish-joint",
   "metadata": {},
   "outputs": [],
   "source": []
  },
  {
   "cell_type": "code",
   "execution_count": 100,
   "id": "protected-caribbean",
   "metadata": {},
   "outputs": [
    {
     "name": "stdout",
     "output_type": "stream",
     "text": [
      "time: 183 ms (started: 2021-04-25 17:30:27 +02:00)\n"
     ]
    }
   ],
   "source": [
    "from skimage.transform import resize\n",
    "from skimage import io\n",
    "import os\n",
    "\n",
    "def resize_images():\n",
    "    images = [image for image in train_df['image']]\n",
    "    img_shape = []\n",
    "    for image in images[0:10]:\n",
    "        image_path =  f'{image}'\n",
    "        filename = os.path.abspath(os.path.join('../raw_data/train_images', image_path))\n",
    "        img = io.imread(filename)\n",
    "        x = img.shape\n",
    "        img_shape.append(x)\n",
    "        size_img = pd.DataFrame(img_shape)\n",
    "        for img in size_img.loc[:,[0, 1]]:\n",
    "            image_resized = resize(img, (img[0] // 5000 * 100, img[1] // 5000 * 100), anti_aliasing=True)\n",
    "    return train_df['image']"
   ]
  },
  {
   "cell_type": "code",
   "execution_count": 101,
   "id": "disabled-transsexual",
   "metadata": {},
   "outputs": [
    {
     "ename": "TypeError",
     "evalue": "'int' object is not subscriptable",
     "output_type": "error",
     "traceback": [
      "\u001b[0;31m---------------------------------------------------------------------------\u001b[0m",
      "\u001b[0;31mTypeError\u001b[0m                                 Traceback (most recent call last)",
      "\u001b[0;32m<ipython-input-101-360078909982>\u001b[0m in \u001b[0;36m<module>\u001b[0;34m\u001b[0m\n\u001b[0;32m----> 1\u001b[0;31m \u001b[0mresize_images\u001b[0m\u001b[0;34m(\u001b[0m\u001b[0;34m)\u001b[0m\u001b[0;34m\u001b[0m\u001b[0;34m\u001b[0m\u001b[0m\n\u001b[0m",
      "\u001b[0;32m<ipython-input-100-6cef8fd756cb>\u001b[0m in \u001b[0;36mresize_images\u001b[0;34m()\u001b[0m\n\u001b[1;32m     14\u001b[0m         \u001b[0msize_img\u001b[0m \u001b[0;34m=\u001b[0m \u001b[0mpd\u001b[0m\u001b[0;34m.\u001b[0m\u001b[0mDataFrame\u001b[0m\u001b[0;34m(\u001b[0m\u001b[0mimg_shape\u001b[0m\u001b[0;34m)\u001b[0m\u001b[0;34m\u001b[0m\u001b[0;34m\u001b[0m\u001b[0m\n\u001b[1;32m     15\u001b[0m         \u001b[0;32mfor\u001b[0m \u001b[0mimg\u001b[0m \u001b[0;32min\u001b[0m \u001b[0msize_img\u001b[0m\u001b[0;34m.\u001b[0m\u001b[0mloc\u001b[0m\u001b[0;34m[\u001b[0m\u001b[0;34m:\u001b[0m\u001b[0;34m,\u001b[0m\u001b[0;34m[\u001b[0m\u001b[0;36m0\u001b[0m\u001b[0;34m,\u001b[0m \u001b[0;36m1\u001b[0m\u001b[0;34m]\u001b[0m\u001b[0;34m]\u001b[0m\u001b[0;34m:\u001b[0m\u001b[0;34m\u001b[0m\u001b[0;34m\u001b[0m\u001b[0m\n\u001b[0;32m---> 16\u001b[0;31m             \u001b[0mimage_resized\u001b[0m \u001b[0;34m=\u001b[0m \u001b[0mresize\u001b[0m\u001b[0;34m(\u001b[0m\u001b[0mimg\u001b[0m\u001b[0;34m,\u001b[0m \u001b[0;34m(\u001b[0m\u001b[0mimg\u001b[0m\u001b[0;34m[\u001b[0m\u001b[0;36m0\u001b[0m\u001b[0;34m]\u001b[0m \u001b[0;34m//\u001b[0m \u001b[0;36m5000\u001b[0m \u001b[0;34m*\u001b[0m \u001b[0;36m100\u001b[0m\u001b[0;34m,\u001b[0m \u001b[0mimg\u001b[0m\u001b[0;34m[\u001b[0m\u001b[0;36m1\u001b[0m\u001b[0;34m]\u001b[0m \u001b[0;34m//\u001b[0m \u001b[0;36m5000\u001b[0m \u001b[0;34m*\u001b[0m \u001b[0;36m100\u001b[0m\u001b[0;34m)\u001b[0m\u001b[0;34m,\u001b[0m \u001b[0manti_aliasing\u001b[0m\u001b[0;34m=\u001b[0m\u001b[0;32mTrue\u001b[0m\u001b[0;34m)\u001b[0m\u001b[0;34m\u001b[0m\u001b[0;34m\u001b[0m\u001b[0m\n\u001b[0m\u001b[1;32m     17\u001b[0m     \u001b[0;32mreturn\u001b[0m \u001b[0mtrain_df\u001b[0m\u001b[0;34m[\u001b[0m\u001b[0;34m'image'\u001b[0m\u001b[0;34m]\u001b[0m\u001b[0;34m\u001b[0m\u001b[0;34m\u001b[0m\u001b[0m\n",
      "\u001b[0;31mTypeError\u001b[0m: 'int' object is not subscriptable"
     ]
    },
    {
     "name": "stdout",
     "output_type": "stream",
     "text": [
      "time: 52.6 ms (started: 2021-04-25 17:30:29 +02:00)\n"
     ]
    }
   ],
   "source": [
    "resize_images()"
   ]
  },
  {
   "cell_type": "code",
   "execution_count": null,
   "id": "gorgeous-dealer",
   "metadata": {},
   "outputs": [],
   "source": []
  },
  {
   "cell_type": "markdown",
   "id": "overall-nirvana",
   "metadata": {
    "heading_collapsed": true
   },
   "source": [
    "## Intensity normalization"
   ]
  },
  {
   "cell_type": "markdown",
   "id": "occasional-guide",
   "metadata": {
    "hidden": true
   },
   "source": [
    "Neural networks converge faster if the inputs are somewhat normalized. Therefore we want to transform the image pixels with values between 0 and 255 (for each color) into values between -1 and 1, thanks to Keras libraries (or just by dividing all the data by 255)"
   ]
  },
  {
   "cell_type": "code",
   "execution_count": null,
   "id": "right-render",
   "metadata": {
    "hidden": true
   },
   "outputs": [],
   "source": []
  },
  {
   "cell_type": "code",
   "execution_count": null,
   "id": "pursuant-technique",
   "metadata": {
    "hidden": true
   },
   "outputs": [],
   "source": []
  },
  {
   "cell_type": "markdown",
   "id": "announced-voltage",
   "metadata": {},
   "source": [
    "## Data augmentation"
   ]
  },
  {
   "cell_type": "markdown",
   "id": "gentle-measurement",
   "metadata": {},
   "source": [
    "Creation of additionnal data to explore : \n",
    "- Mirror\n",
    "- Crop\n",
    "- rotations\n",
    "- slight transformation of the colors\n",
    "- change of the textures\n",
    "- \"photoshop effects\": blur, halo, ...\n",
    "- deformations\n",
    "- ..."
   ]
  },
  {
   "cell_type": "markdown",
   "id": "professional-plastic",
   "metadata": {},
   "source": []
  },
  {
   "cell_type": "code",
   "execution_count": 74,
   "id": "powered-killer",
   "metadata": {},
   "outputs": [],
   "source": []
  },
  {
   "cell_type": "code",
   "execution_count": null,
   "id": "universal-litigation",
   "metadata": {},
   "outputs": [],
   "source": []
  },
  {
   "cell_type": "code",
   "execution_count": null,
   "id": "proprietary-greenhouse",
   "metadata": {},
   "outputs": [],
   "source": [
    "from tensorflow.keras.models import Sequential\n",
    "from tensorflow.keras.layers import Dense, Reshape\n",
    "\n",
    "model = Sequential()\n",
    "model.add(Reshape((5*5*1,), input_shape=(5,5,1)))  # This flattens the (5, 5, 1) image to a vector of size 25\n",
    "model.add(Dense(100, activation='relu'))\n",
    "model.add(Dense(10, activation='softmax')) "
   ]
  },
  {
   "cell_type": "code",
   "execution_count": null,
   "id": "received-opposition",
   "metadata": {},
   "outputs": [],
   "source": []
  },
  {
   "cell_type": "code",
   "execution_count": null,
   "id": "impressive-wealth",
   "metadata": {},
   "outputs": [],
   "source": []
  },
  {
   "cell_type": "markdown",
   "id": "applied-companion",
   "metadata": {},
   "source": [
    "# Preprocessing on titles "
   ]
  },
  {
   "cell_type": "code",
   "execution_count": 89,
   "id": "enhanced-priest",
   "metadata": {
    "collapsed": true
   },
   "outputs": [
    {
     "name": "stdout",
     "output_type": "stream",
     "text": [
      "Requirement already satisfied: nltk in /home/anneconstance/.pyenv/versions/3.8.6/envs/lewagon/lib/python3.8/site-packages (3.5)\n",
      "Requirement already satisfied: click in /home/anneconstance/.pyenv/versions/3.8.6/envs/lewagon/lib/python3.8/site-packages (from nltk) (7.1.2)\n",
      "Requirement already satisfied: joblib in /home/anneconstance/.pyenv/versions/3.8.6/envs/lewagon/lib/python3.8/site-packages (from nltk) (1.0.0)\n",
      "Requirement already satisfied: regex in /home/anneconstance/.pyenv/versions/3.8.6/envs/lewagon/lib/python3.8/site-packages (from nltk) (2020.11.13)\n",
      "Requirement already satisfied: tqdm in /home/anneconstance/.pyenv/versions/3.8.6/envs/lewagon/lib/python3.8/site-packages (from nltk) (4.56.0)\n",
      "Note: you may need to restart the kernel to use updated packages.\n"
     ]
    }
   ],
   "source": [
    "pip install nltk"
   ]
  },
  {
   "cell_type": "markdown",
   "id": "american-stamp",
   "metadata": {},
   "source": [
    "- Lowercase\n",
    "- remove numbers\n",
    "- remove punctuation\n",
    "- remove stop words\n",
    "- select important words with stemmer"
   ]
  },
  {
   "cell_type": "code",
   "execution_count": 18,
   "id": "alien-merit",
   "metadata": {},
   "outputs": [
    {
     "name": "stdout",
     "output_type": "stream",
     "text": [
      "label_group unique values: 11014\n",
      "time: 3.32 ms (started: 2021-04-25 14:44:09 +02:00)\n"
     ]
    }
   ],
   "source": [
    "#labels\n",
    "print(f\"label_group unique values: {train_df['label_group'].nunique()}\")"
   ]
  },
  {
   "cell_type": "code",
   "execution_count": 21,
   "id": "lightweight-insert",
   "metadata": {},
   "outputs": [
    {
     "name": "stdout",
     "output_type": "stream",
     "text": [
      "Max no. of apparitions in 1 group: 51 \n",
      "Min no. of apparitions in 1 group: 2\n",
      "time: 5.75 ms (started: 2021-04-25 14:52:07 +02:00)\n"
     ]
    }
   ],
   "source": [
    "groups_df = train_df[\"label_group\"].value_counts().reset_index()\n",
    "groups_df.columns = [\"group\", \"count\"]\n",
    "print(\"Max no. of apparitions in 1 group: {}\".format(groups_df[\"count\"].max()), \"\\n\" +\n",
    "      \"Min no. of apparitions in 1 group: {}\".format(groups_df[\"count\"].min()))"
   ]
  },
  {
   "cell_type": "code",
   "execution_count": 22,
   "id": "accepted-synthesis",
   "metadata": {},
   "outputs": [
    {
     "data": {
      "image/png": "[encoded data removed]",
      "text/plain": [
       "<Figure size 864x432 with 1 Axes>"
      ]
     },
     "metadata": {},
     "output_type": "display_data"
    },
    {
     "name": "stdout",
     "output_type": "stream",
     "text": [
      "time: 454 ms (started: 2021-04-25 14:52:49 +02:00)\n"
     ]
    }
   ],
   "source": [
    "# Plot labels distribution\n",
    "sns.set_style(\"whitegrid\")\n",
    "plt.figure(figsize = (12, 6))\n",
    "plt.title('Group Count Distribution', fontsize = '15')\n",
    "sns.kdeplot(groups_df['count'], fill = True, \n",
    "            color = '#f15335', \n",
    "            edgecolor = 'black', alpha = 0.9)\n",
    "plt.xlabel('Label count')\n",
    "plt.show();"
   ]
  },
  {
   "cell_type": "code",
   "execution_count": 23,
   "id": "signed-superior",
   "metadata": {},
   "outputs": [
    {
     "data": {
      "image/png": "[encoded data removed]",
      "text/plain": [
       "<Figure size 864x432 with 1 Axes>"
      ]
     },
     "metadata": {},
     "output_type": "display_data"
    },
    {
     "name": "stdout",
     "output_type": "stream",
     "text": [
      "time: 524 ms (started: 2021-04-25 14:53:44 +02:00)\n"
     ]
    }
   ],
   "source": [
    "# Plot titles length distribution\n",
    "sns.set_style(\"whitegrid\")\n",
    "plt.figure(figsize = (12, 6))\n",
    "plt.title('Distribution of title length', fontsize = '15')\n",
    "sns.kdeplot(train_df['title'].apply(lambda x: len(x)), fill = True, \n",
    "            color = '#f15335', \n",
    "            edgecolor = 'black', alpha = 0.9)\n",
    "plt.xlabel('Title length')\n",
    "plt.show();"
   ]
  },
  {
   "cell_type": "code",
   "execution_count": 40,
   "id": "discrete-milan",
   "metadata": {},
   "outputs": [
    {
     "name": "stdout",
     "output_type": "stream",
     "text": [
      "Requirement already satisfied: textblob in /home/anneconstance/.pyenv/versions/3.8.6/envs/lewagon/lib/python3.8/site-packages (0.15.3)\n",
      "Requirement already satisfied: nltk>=3.1 in /home/anneconstance/.pyenv/versions/3.8.6/envs/lewagon/lib/python3.8/site-packages (from textblob) (3.5)\n",
      "Requirement already satisfied: click in /home/anneconstance/.pyenv/versions/3.8.6/envs/lewagon/lib/python3.8/site-packages (from nltk>=3.1->textblob) (7.1.2)\n",
      "Requirement already satisfied: joblib in /home/anneconstance/.pyenv/versions/3.8.6/envs/lewagon/lib/python3.8/site-packages (from nltk>=3.1->textblob) (1.0.0)\n",
      "Requirement already satisfied: regex in /home/anneconstance/.pyenv/versions/3.8.6/envs/lewagon/lib/python3.8/site-packages (from nltk>=3.1->textblob) (2020.11.13)\n",
      "Requirement already satisfied: tqdm in /home/anneconstance/.pyenv/versions/3.8.6/envs/lewagon/lib/python3.8/site-packages (from nltk>=3.1->textblob) (4.56.0)\n",
      "\u001b[33mWARNING: You are using pip version 21.0.1; however, version 21.1 is available.\n",
      "You should consider upgrading via the '/home/anneconstance/.pyenv/versions/3.8.6/envs/lewagon/bin/python3.8 -m pip install --upgrade pip' command.\u001b[0m\n",
      "[nltk_data] Downloading package brown to\n",
      "[nltk_data]     /home/anneconstance/nltk_data...\n",
      "[nltk_data]   Unzipping corpora/brown.zip.\n",
      "[nltk_data] Downloading package punkt to\n",
      "[nltk_data]     /home/anneconstance/nltk_data...\n",
      "[nltk_data]   Package punkt is already up-to-date!\n",
      "[nltk_data] Downloading package wordnet to\n",
      "[nltk_data]     /home/anneconstance/nltk_data...\n",
      "[nltk_data]   Package wordnet is already up-to-date!\n",
      "[nltk_data] Downloading package averaged_perceptron_tagger to\n",
      "[nltk_data]     /home/anneconstance/nltk_data...\n",
      "[nltk_data]   Unzipping taggers/averaged_perceptron_tagger.zip.\n",
      "[nltk_data] Downloading package conll2000 to\n",
      "[nltk_data]     /home/anneconstance/nltk_data...\n",
      "[nltk_data]   Unzipping corpora/conll2000.zip.\n",
      "[nltk_data] Downloading package movie_reviews to\n",
      "[nltk_data]     /home/anneconstance/nltk_data...\n",
      "[nltk_data]   Unzipping corpora/movie_reviews.zip.\n",
      "Finished.\n",
      "time: 14.5 s (started: 2021-04-25 15:22:42 +02:00)\n"
     ]
    }
   ],
   "source": [
    "!pip install -U textblob\n",
    "!python -m textblob.download_corpora"
   ]
  },
  {
   "cell_type": "code",
   "execution_count": 46,
   "id": "racial-cooling",
   "metadata": {},
   "outputs": [
    {
     "name": "stdout",
     "output_type": "stream",
     "text": [
      "Before: Double Tape 3M VHB 12 mm x 4,5 m ORIGINAL / DOUBLE FOAM TAPE\n",
      "Lower case: double tape 3m vhb 12 mm x 4,5 m original / double foam tape\n",
      "Remove punctuation: double tape 3m vhb 12 mm x 45 m original  double foam tape\n",
      "Remove whitespaces: double tape 3m vhb 12 mm x 45 m original  double foam tape\n",
      "Tokenized: ['double', 'tape', '3m', 'vhb', '12', 'mm', 'x', '45', 'm', 'original', 'double', 'foam', 'tape']\n",
      "Remove stopwords: ['double', 'tape', '3m', 'vhb', '12', 'mm', 'x', '45', 'original', 'double', 'foam', 'tape']\n",
      "Lemmatization: ['double', 'tape', '3m', 'vhb', '12', 'mm', 'x', '45', 'original', 'double', 'foam', 'tape']\n",
      "Part_Of_Speech: [('double', 'JJ'), ('tape', 'NN'), ('3m', 'CD'), ('vhb', 'NN'), ('12', 'CD'), ('mm', 'NN'), ('x', 'VBD'), ('45', 'CD'), ('original', 'JJ'), ('double', 'JJ'), ('foam', 'NN'), ('tape', 'NN')]\n",
      "time: 81 ms (started: 2021-04-25 15:24:19 +02:00)\n"
     ]
    }
   ],
   "source": [
    "import string \n",
    "from nltk.corpus import stopwords \n",
    "from nltk.tokenize import word_tokenize\n",
    "from nltk.stem.porter import PorterStemmer\n",
    "from nltk.stem import PorterStemmer, WordNetLemmatizer\n",
    "from textblob import TextBlob\n",
    "\n",
    "unpreproc_title = train_df[\"title\"][1]\n",
    "print(f\"Before: {unpreproc_title}\")\n",
    "lower_title = unpreproc_title.lower()\n",
    "print(f\"Lower case: {lower_title}\")\n",
    "punct = \"!”#$%&’()*+,-./:;<=>?@[\\]^_`{|}~]:\"\n",
    "rem_punct = lower_title.translate(str.maketrans('','',string.punctuation))\n",
    "print(f\"Remove punctuation: {rem_punct}\")\n",
    "rem_whitespaces = rem_punct.strip()\n",
    "print(f\"Remove whitespaces: {rem_whitespaces}\")\n",
    "tokenize = word_tokenize(rem_whitespaces)\n",
    "print(f\"Tokenized: {tokenize}\")\n",
    "rem_stop_words = [word for word in tokenize if not word in stopwords.words()]\n",
    "print(f\"Remove stopwords: {rem_stop_words}\")\n",
    "lemmatizer = WordNetLemmatizer()\n",
    "lemmatized_text = [lemmatizer.lemmatize(word) for word in rem_stop_words]\n",
    "print(f\"Lemmatization: {lemmatized_text}\")\n",
    "pos_text = TextBlob(' '.join(lemmatized_text))\n",
    "print(f\"Part_Of_Speech: {pos_text.tags}\")\n"
   ]
  },
  {
   "cell_type": "code",
   "execution_count": 48,
   "id": "adopted-patio",
   "metadata": {},
   "outputs": [
    {
     "name": "stdout",
     "output_type": "stream",
     "text": [
      "time: 1.2 ms (started: 2021-04-25 15:25:13 +02:00)\n"
     ]
    }
   ],
   "source": [
    "def preproc_title(title):\n",
    "    title = title.lower()\n",
    "    title = title.translate(str.maketrans('','',string.punctuation))\n",
    "    title = title.strip()\n",
    "    tokens_title = word_tokenize(title)\n",
    "    tokens_title = [word for word in tokens_title if not word in stopwords.words()]\n",
    "    lemmatizer = WordNetLemmatizer()\n",
    "    lemm_text = [lemmatizer.lemmatize(word) for word in tokens_title]\n",
    "    preproc_title = ' '.join(lemm_text)\n",
    "    return preproc_title\n",
    "\n",
    "def get_part_of_speech(prepped_title):\n",
    "    part_of_speech = TextBlob(prepped_title)\n",
    "    part_of_speech = ' '.join([j for (i, j) in pos_text.tags])\n",
    "    return part_of_speech"
   ]
  },
  {
   "cell_type": "code",
   "execution_count": 49,
   "id": "local-flash",
   "metadata": {},
   "outputs": [
    {
     "name": "stdout",
     "output_type": "stream",
     "text": [
      "time: 23min 43s (started: 2021-04-25 15:25:14 +02:00)\n"
     ]
    }
   ],
   "source": [
    "train_df[\"preproc_title\"] = train_df[\"title\"].apply(lambda x: preproc_title(x))"
   ]
  },
  {
   "cell_type": "code",
   "execution_count": 50,
   "id": "protecting-pendant",
   "metadata": {},
   "outputs": [
    {
     "name": "stdout",
     "output_type": "stream",
     "text": [
      "time: 325 ms (started: 2021-04-25 15:49:00 +02:00)\n"
     ]
    }
   ],
   "source": [
    "train_df[\"part_of_speech\"] = train_df[\"preproc_title\"].apply(lambda x: get_part_of_speech(x))"
   ]
  },
  {
   "cell_type": "code",
   "execution_count": null,
   "id": "three-favorite",
   "metadata": {},
   "outputs": [],
   "source": [
    "# Read in prepped data\n",
    "# train_df_prep = pd.read_csv(\"../raw_data/shopee-preprocessed-data/train_title_prepped.csv\")\n",
    "# train_df_prep[\"label_group\"] = train_df_prep[\"label_group\"].astype(str)"
   ]
  }
 ],
 "metadata": {
  "kernelspec": {
   "display_name": "Python 3",
   "language": "python",
   "name": "python3"
  },
  "language_info": {
   "codemirror_mode": {
    "name": "ipython",
    "version": 3
   },
   "file_extension": ".py",
   "mimetype": "text/x-python",
   "name": "python",
   "nbconvert_exporter": "python",
   "pygments_lexer": "ipython3",
   "version": "3.8.6"
  },
  "toc": {
   "base_numbering": 1,
   "nav_menu": {},
   "number_sections": true,
   "sideBar": true,
   "skip_h1_title": false,
   "title_cell": "Table of Contents",
   "title_sidebar": "Contents",
   "toc_cell": false,
   "toc_position": {},
   "toc_section_display": true,
   "toc_window_display": false
  },
  "varInspector": {
   "cols": {
    "lenName": 16,
    "lenType": 16,
    "lenVar": 40
   },
   "kernels_config": {
    "python": {
     "delete_cmd_postfix": "",
     "delete_cmd_prefix": "del ",
     "library": "var_list.py",
     "varRefreshCmd": "print(var_dic_list())"
    },
    "r": {
     "delete_cmd_postfix": ") ",
     "delete_cmd_prefix": "rm(",
     "library": "var_list.r",
     "varRefreshCmd": "cat(var_dic_list()) "
    }
   },
   "types_to_exclude": [
    "module",
    "function",
    "builtin_function_or_method",
    "instance",
    "_Feature"
   ],
   "window_display": false
  }
 },
 "nbformat": 4,
 "nbformat_minor": 5
}
