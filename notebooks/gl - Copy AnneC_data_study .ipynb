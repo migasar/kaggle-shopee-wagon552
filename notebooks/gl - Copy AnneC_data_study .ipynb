{
 "cells": [
  {
   "cell_type": "code",
   "execution_count": 1,
   "id": "dressed-gentleman",
   "metadata": {
    "ExecuteTime": {
     "end_time": "2021-04-26T10:35:48.615179Z",
     "start_time": "2021-04-26T10:35:48.586603Z"
    }
   },
   "outputs": [],
   "source": [
    "# Enable autoreload\n",
    "%load_ext autoreload\n",
    "%autoreload 2\n",
    "\n",
    "# Pylint parameters\n",
    "%config Completer.use_jedi = False\n",
    "\n",
    "# Measure Runtime\n",
    "# !pip install ipython-autotime\n",
    "# %load_ext autotime\n",
    "\n",
    "# Mute warnings\n",
    "import warnings\n",
    "warnings.filterwarnings('ignore')"
   ]
  },
  {
   "cell_type": "code",
   "execution_count": 2,
   "id": "metric-panama",
   "metadata": {
    "ExecuteTime": {
     "end_time": "2021-04-26T10:35:50.636074Z",
     "start_time": "2021-04-26T10:35:48.618368Z"
    }
   },
   "outputs": [],
   "source": [
    "import matplotlib.pyplot as plt\n",
    "import numpy as np\n",
    "import pandas as pd\n",
    "import seaborn as sns"
   ]
  },
  {
   "cell_type": "code",
   "execution_count": 3,
   "id": "exempt-absorption",
   "metadata": {
    "ExecuteTime": {
     "end_time": "2021-04-26T10:35:50.821749Z",
     "start_time": "2021-04-26T10:35:50.640474Z"
    }
   },
   "outputs": [
    {
     "name": "stdout",
     "output_type": "stream",
     "text": [
      "/Users/guillaume/code/migasar/kaggle-shopee-wagon552/notebooks\r\n"
     ]
    }
   ],
   "source": [
    "!pwd"
   ]
  },
  {
   "cell_type": "code",
   "execution_count": 4,
   "id": "rental-ending",
   "metadata": {
    "ExecuteTime": {
     "end_time": "2021-04-26T10:35:50.992383Z",
     "start_time": "2021-04-26T10:35:50.824129Z"
    }
   },
   "outputs": [],
   "source": [
    "train_data = pd.read_csv('../raw_data/shopee-product-matching/train.csv') \n",
    "test_data = pd.read_csv('../raw_data/shopee-product-matching/test.csv')\n",
    "ss_data = pd.read_csv('../raw_data/shopee-product-matching/sample_submission.csv', index_col = 0)"
   ]
  },
  {
   "cell_type": "code",
   "execution_count": 5,
   "id": "lucky-swift",
   "metadata": {
    "ExecuteTime": {
     "end_time": "2021-04-26T10:35:51.026223Z",
     "start_time": "2021-04-26T10:35:50.994389Z"
    }
   },
   "outputs": [],
   "source": [
    "train_df = train_data.copy()\n",
    "test_df = train_data.copy()\n",
    "ss_df = train_data.copy()"
   ]
  },
  {
   "cell_type": "code",
   "execution_count": 6,
   "id": "ecological-workplace",
   "metadata": {
    "ExecuteTime": {
     "end_time": "2021-04-26T10:35:51.054214Z",
     "start_time": "2021-04-26T10:35:51.028083Z"
    }
   },
   "outputs": [
    {
     "data": {
      "text/plain": [
       "171250"
      ]
     },
     "execution_count": 6,
     "metadata": {},
     "output_type": "execute_result"
    }
   ],
   "source": [
    "train_df.size"
   ]
  },
  {
   "cell_type": "code",
   "execution_count": 7,
   "id": "copyrighted-extra",
   "metadata": {
    "ExecuteTime": {
     "end_time": "2021-04-26T10:35:51.115270Z",
     "start_time": "2021-04-26T10:35:51.062216Z"
    }
   },
   "outputs": [
    {
     "data": {
      "text/html": [
       "<div>\n",
       "<style scoped>\n",
       "    .dataframe tbody tr th:only-of-type {\n",
       "        vertical-align: middle;\n",
       "    }\n",
       "\n",
       "    .dataframe tbody tr th {\n",
       "        vertical-align: top;\n",
       "    }\n",
       "\n",
       "    .dataframe thead th {\n",
       "        text-align: right;\n",
       "    }\n",
       "</style>\n",
       "<table border=\"1\" class=\"dataframe\">\n",
       "  <thead>\n",
       "    <tr style=\"text-align: right;\">\n",
       "      <th></th>\n",
       "      <th>posting_id</th>\n",
       "      <th>image</th>\n",
       "      <th>image_phash</th>\n",
       "      <th>title</th>\n",
       "      <th>label_group</th>\n",
       "    </tr>\n",
       "  </thead>\n",
       "  <tbody>\n",
       "    <tr>\n",
       "      <th>0</th>\n",
       "      <td>train_129225211</td>\n",
       "      <td>0000a68812bc7e98c42888dfb1c07da0.jpg</td>\n",
       "      <td>94974f937d4c2433</td>\n",
       "      <td>Paper Bag Victoria Secret</td>\n",
       "      <td>249114794</td>\n",
       "    </tr>\n",
       "    <tr>\n",
       "      <th>1</th>\n",
       "      <td>train_3386243561</td>\n",
       "      <td>00039780dfc94d01db8676fe789ecd05.jpg</td>\n",
       "      <td>af3f9460c2838f0f</td>\n",
       "      <td>Double Tape 3M VHB 12 mm x 4,5 m ORIGINAL / DO...</td>\n",
       "      <td>2937985045</td>\n",
       "    </tr>\n",
       "    <tr>\n",
       "      <th>2</th>\n",
       "      <td>train_2288590299</td>\n",
       "      <td>000a190fdd715a2a36faed16e2c65df7.jpg</td>\n",
       "      <td>b94cb00ed3e50f78</td>\n",
       "      <td>Maling TTS Canned Pork Luncheon Meat 397 gr</td>\n",
       "      <td>2395904891</td>\n",
       "    </tr>\n",
       "    <tr>\n",
       "      <th>3</th>\n",
       "      <td>train_2406599165</td>\n",
       "      <td>00117e4fc239b1b641ff08340b429633.jpg</td>\n",
       "      <td>8514fc58eafea283</td>\n",
       "      <td>Daster Batik Lengan pendek - Motif Acak / Camp...</td>\n",
       "      <td>4093212188</td>\n",
       "    </tr>\n",
       "    <tr>\n",
       "      <th>4</th>\n",
       "      <td>train_3369186413</td>\n",
       "      <td>00136d1cf4edede0203f32f05f660588.jpg</td>\n",
       "      <td>a6f319f924ad708c</td>\n",
       "      <td>Nescafe \\xc3\\x89clair Latte 220ml</td>\n",
       "      <td>3648931069</td>\n",
       "    </tr>\n",
       "  </tbody>\n",
       "</table>\n",
       "</div>"
      ],
      "text/plain": [
       "         posting_id                                 image       image_phash  \\\n",
       "0   train_129225211  0000a68812bc7e98c42888dfb1c07da0.jpg  94974f937d4c2433   \n",
       "1  train_3386243561  00039780dfc94d01db8676fe789ecd05.jpg  af3f9460c2838f0f   \n",
       "2  train_2288590299  000a190fdd715a2a36faed16e2c65df7.jpg  b94cb00ed3e50f78   \n",
       "3  train_2406599165  00117e4fc239b1b641ff08340b429633.jpg  8514fc58eafea283   \n",
       "4  train_3369186413  00136d1cf4edede0203f32f05f660588.jpg  a6f319f924ad708c   \n",
       "\n",
       "                                               title  label_group  \n",
       "0                          Paper Bag Victoria Secret    249114794  \n",
       "1  Double Tape 3M VHB 12 mm x 4,5 m ORIGINAL / DO...   2937985045  \n",
       "2        Maling TTS Canned Pork Luncheon Meat 397 gr   2395904891  \n",
       "3  Daster Batik Lengan pendek - Motif Acak / Camp...   4093212188  \n",
       "4                  Nescafe \\xc3\\x89clair Latte 220ml   3648931069  "
      ]
     },
     "execution_count": 7,
     "metadata": {},
     "output_type": "execute_result"
    }
   ],
   "source": [
    "train_df.head()"
   ]
  },
  {
   "cell_type": "code",
   "execution_count": 8,
   "id": "experimental-association",
   "metadata": {
    "ExecuteTime": {
     "end_time": "2021-04-26T10:35:51.180778Z",
     "start_time": "2021-04-26T10:35:51.121081Z"
    }
   },
   "outputs": [
    {
     "name": "stdout",
     "output_type": "stream",
     "text": [
      "<class 'pandas.core.frame.DataFrame'>\n",
      "RangeIndex: 34250 entries, 0 to 34249\n",
      "Data columns (total 5 columns):\n",
      " #   Column       Non-Null Count  Dtype \n",
      "---  ------       --------------  ----- \n",
      " 0   posting_id   34250 non-null  object\n",
      " 1   image        34250 non-null  object\n",
      " 2   image_phash  34250 non-null  object\n",
      " 3   title        34250 non-null  object\n",
      " 4   label_group  34250 non-null  int64 \n",
      "dtypes: int64(1), object(4)\n",
      "memory usage: 1.3+ MB\n"
     ]
    }
   ],
   "source": [
    "train_df.info()"
   ]
  },
  {
   "cell_type": "code",
   "execution_count": 9,
   "id": "administrative-healthcare",
   "metadata": {
    "ExecuteTime": {
     "end_time": "2021-04-26T10:35:51.264319Z",
     "start_time": "2021-04-26T10:35:51.184502Z"
    }
   },
   "outputs": [
    {
     "data": {
      "text/html": [
       "<div>\n",
       "<style scoped>\n",
       "    .dataframe tbody tr th:only-of-type {\n",
       "        vertical-align: middle;\n",
       "    }\n",
       "\n",
       "    .dataframe tbody tr th {\n",
       "        vertical-align: top;\n",
       "    }\n",
       "\n",
       "    .dataframe thead th {\n",
       "        text-align: right;\n",
       "    }\n",
       "</style>\n",
       "<table border=\"1\" class=\"dataframe\">\n",
       "  <thead>\n",
       "    <tr style=\"text-align: right;\">\n",
       "      <th></th>\n",
       "      <th>label_group</th>\n",
       "    </tr>\n",
       "  </thead>\n",
       "  <tbody>\n",
       "    <tr>\n",
       "      <th>count</th>\n",
       "      <td>3.425000e+04</td>\n",
       "    </tr>\n",
       "    <tr>\n",
       "      <th>mean</th>\n",
       "      <td>2.128611e+09</td>\n",
       "    </tr>\n",
       "    <tr>\n",
       "      <th>std</th>\n",
       "      <td>1.234630e+09</td>\n",
       "    </tr>\n",
       "    <tr>\n",
       "      <th>min</th>\n",
       "      <td>2.580470e+05</td>\n",
       "    </tr>\n",
       "    <tr>\n",
       "      <th>25%</th>\n",
       "      <td>1.050720e+09</td>\n",
       "    </tr>\n",
       "    <tr>\n",
       "      <th>50%</th>\n",
       "      <td>2.120410e+09</td>\n",
       "    </tr>\n",
       "    <tr>\n",
       "      <th>75%</th>\n",
       "      <td>3.187910e+09</td>\n",
       "    </tr>\n",
       "    <tr>\n",
       "      <th>max</th>\n",
       "      <td>4.294197e+09</td>\n",
       "    </tr>\n",
       "  </tbody>\n",
       "</table>\n",
       "</div>"
      ],
      "text/plain": [
       "        label_group\n",
       "count  3.425000e+04\n",
       "mean   2.128611e+09\n",
       "std    1.234630e+09\n",
       "min    2.580470e+05\n",
       "25%    1.050720e+09\n",
       "50%    2.120410e+09\n",
       "75%    3.187910e+09\n",
       "max    4.294197e+09"
      ]
     },
     "execution_count": 9,
     "metadata": {},
     "output_type": "execute_result"
    }
   ],
   "source": [
    "train_df.describe()"
   ]
  },
  {
   "cell_type": "code",
   "execution_count": 10,
   "id": "catholic-slave",
   "metadata": {
    "ExecuteTime": {
     "end_time": "2021-04-26T10:35:51.323053Z",
     "start_time": "2021-04-26T10:35:51.269260Z"
    }
   },
   "outputs": [
    {
     "data": {
      "text/plain": [
       "(34250,)"
      ]
     },
     "execution_count": 10,
     "metadata": {},
     "output_type": "execute_result"
    }
   ],
   "source": [
    "train_df['image'].shape"
   ]
  },
  {
   "cell_type": "code",
   "execution_count": 11,
   "id": "competitive-yemen",
   "metadata": {
    "ExecuteTime": {
     "end_time": "2021-04-26T10:35:51.553533Z",
     "start_time": "2021-04-26T10:35:51.330018Z"
    }
   },
   "outputs": [
    {
     "data": {
      "text/plain": [
       "posting_id     34250\n",
       "image          32412\n",
       "image_phash    28735\n",
       "title          33117\n",
       "label_group    11014\n",
       "dtype: int64"
      ]
     },
     "execution_count": 11,
     "metadata": {},
     "output_type": "execute_result"
    }
   ],
   "source": [
    "train_df.nunique()"
   ]
  },
  {
   "cell_type": "code",
   "execution_count": 12,
   "id": "written-malta",
   "metadata": {
    "ExecuteTime": {
     "end_time": "2021-04-26T10:35:51.698725Z",
     "start_time": "2021-04-26T10:35:51.574557Z"
    }
   },
   "outputs": [
    {
     "data": {
      "text/plain": [
       "posting_id     0\n",
       "image          0\n",
       "image_phash    0\n",
       "title          0\n",
       "label_group    0\n",
       "dtype: int64"
      ]
     },
     "execution_count": 12,
     "metadata": {},
     "output_type": "execute_result"
    }
   ],
   "source": [
    "train_df.isna().sum()"
   ]
  },
  {
   "cell_type": "code",
   "execution_count": 13,
   "id": "confident-clear",
   "metadata": {
    "ExecuteTime": {
     "end_time": "2021-04-26T10:35:51.751813Z",
     "start_time": "2021-04-26T10:35:51.704416Z"
    }
   },
   "outputs": [],
   "source": [
    "# pip install scikit-image"
   ]
  },
  {
   "cell_type": "code",
   "execution_count": 14,
   "id": "continental-michigan",
   "metadata": {
    "ExecuteTime": {
     "end_time": "2021-04-26T10:35:52.045641Z",
     "start_time": "2021-04-26T10:35:51.756259Z"
    }
   },
   "outputs": [],
   "source": [
    "from skimage import io\n",
    "import os"
   ]
  },
  {
   "cell_type": "code",
   "execution_count": 15,
   "id": "local-surfing",
   "metadata": {
    "ExecuteTime": {
     "end_time": "2021-04-26T10:35:52.089067Z",
     "start_time": "2021-04-26T10:35:52.048982Z"
    }
   },
   "outputs": [],
   "source": [
    "def trans_img(file_name):\n",
    "    filename = os.path.abspath(os.path.join('../raw_data/shopee-product-matching/train_images', file_name))\n",
    "    return io.imread(filename)"
   ]
  },
  {
   "cell_type": "code",
   "execution_count": 16,
   "id": "buried-archive",
   "metadata": {
    "ExecuteTime": {
     "end_time": "2021-04-26T10:35:52.182332Z",
     "start_time": "2021-04-26T10:35:52.092457Z"
    }
   },
   "outputs": [],
   "source": [
    "img_1 = trans_img('00039780dfc94d01db8676fe789ecd05.jpg')"
   ]
  },
  {
   "cell_type": "code",
   "execution_count": 17,
   "id": "conventional-bacteria",
   "metadata": {
    "ExecuteTime": {
     "end_time": "2021-04-26T10:35:52.519032Z",
     "start_time": "2021-04-26T10:35:52.185510Z"
    }
   },
   "outputs": [
    {
     "data": {
      "text/plain": [
       "<matplotlib.image.AxesImage at 0x127259f70>"
      ]
     },
     "execution_count": 17,
     "metadata": {},
     "output_type": "execute_result"
    },
    {
     "data": {
      "image/png": "[encoded data removed]",
      "text/plain": [
       "<Figure size 432x288 with 1 Axes>"
      ]
     },
     "metadata": {
      "needs_background": "light"
     },
     "output_type": "display_data"
    }
   ],
   "source": [
    "plt.imshow(img_1)"
   ]
  },
  {
   "cell_type": "code",
   "execution_count": null,
   "id": "crazy-rings",
   "metadata": {},
   "outputs": [],
   "source": []
  },
  {
   "cell_type": "code",
   "execution_count": null,
   "id": "minute-expert",
   "metadata": {},
   "outputs": [],
   "source": []
  },
  {
   "cell_type": "markdown",
   "id": "minus-sigma",
   "metadata": {},
   "source": [
    "# Image preprocessing"
   ]
  },
  {
   "cell_type": "markdown",
   "id": "amateur-milwaukee",
   "metadata": {},
   "source": [
    "## Resizing"
   ]
  },
  {
   "cell_type": "markdown",
   "id": "functional-tyler",
   "metadata": {},
   "source": [
    "We want to reshape the images in smaller size (state-of-the-art networks are trained on (224,224,3) images / tensors)"
   ]
  },
  {
   "cell_type": "code",
   "execution_count": 18,
   "id": "violent-collar",
   "metadata": {
    "ExecuteTime": {
     "end_time": "2021-04-26T10:35:52.541985Z",
     "start_time": "2021-04-26T10:35:52.521293Z"
    }
   },
   "outputs": [],
   "source": [
    "from skimage import io\n",
    "import os\n",
    "\n",
    "def get_img_size():\n",
    "    images = [image for image in train_df['image']]\n",
    "    img_shape = []\n",
    "    for image in images[11:76]:\n",
    "        img = trans_img(image)\n",
    "        x = img.shape\n",
    "        img_shape.append(x)\n",
    "        size_img = pd.DataFrame(img_shape)\n",
    "    return size_img"
   ]
  },
  {
   "cell_type": "code",
   "execution_count": 19,
   "id": "retired-belly",
   "metadata": {
    "ExecuteTime": {
     "end_time": "2021-04-26T10:35:53.795290Z",
     "start_time": "2021-04-26T10:35:52.544068Z"
    }
   },
   "outputs": [
    {
     "data": {
      "text/html": [
       "<div>\n",
       "<style scoped>\n",
       "    .dataframe tbody tr th:only-of-type {\n",
       "        vertical-align: middle;\n",
       "    }\n",
       "\n",
       "    .dataframe tbody tr th {\n",
       "        vertical-align: top;\n",
       "    }\n",
       "\n",
       "    .dataframe thead th {\n",
       "        text-align: right;\n",
       "    }\n",
       "</style>\n",
       "<table border=\"1\" class=\"dataframe\">\n",
       "  <thead>\n",
       "    <tr style=\"text-align: right;\">\n",
       "      <th></th>\n",
       "      <th>0</th>\n",
       "      <th>1</th>\n",
       "      <th>2</th>\n",
       "    </tr>\n",
       "  </thead>\n",
       "  <tbody>\n",
       "    <tr>\n",
       "      <th>9</th>\n",
       "      <td>4501</td>\n",
       "      <td>4500</td>\n",
       "      <td>3</td>\n",
       "    </tr>\n",
       "    <tr>\n",
       "      <th>56</th>\n",
       "      <td>1024</td>\n",
       "      <td>1024</td>\n",
       "      <td>3</td>\n",
       "    </tr>\n",
       "    <tr>\n",
       "      <th>16</th>\n",
       "      <td>1024</td>\n",
       "      <td>1024</td>\n",
       "      <td>3</td>\n",
       "    </tr>\n",
       "    <tr>\n",
       "      <th>15</th>\n",
       "      <td>1024</td>\n",
       "      <td>1024</td>\n",
       "      <td>3</td>\n",
       "    </tr>\n",
       "    <tr>\n",
       "      <th>28</th>\n",
       "      <td>1024</td>\n",
       "      <td>1024</td>\n",
       "      <td>3</td>\n",
       "    </tr>\n",
       "    <tr>\n",
       "      <th>...</th>\n",
       "      <td>...</td>\n",
       "      <td>...</td>\n",
       "      <td>...</td>\n",
       "    </tr>\n",
       "    <tr>\n",
       "      <th>64</th>\n",
       "      <td>640</td>\n",
       "      <td>640</td>\n",
       "      <td>3</td>\n",
       "    </tr>\n",
       "    <tr>\n",
       "      <th>11</th>\n",
       "      <td>604</td>\n",
       "      <td>604</td>\n",
       "      <td>3</td>\n",
       "    </tr>\n",
       "    <tr>\n",
       "      <th>8</th>\n",
       "      <td>595</td>\n",
       "      <td>595</td>\n",
       "      <td>3</td>\n",
       "    </tr>\n",
       "    <tr>\n",
       "      <th>2</th>\n",
       "      <td>449</td>\n",
       "      <td>449</td>\n",
       "      <td>3</td>\n",
       "    </tr>\n",
       "    <tr>\n",
       "      <th>7</th>\n",
       "      <td>314</td>\n",
       "      <td>314</td>\n",
       "      <td>3</td>\n",
       "    </tr>\n",
       "  </tbody>\n",
       "</table>\n",
       "<p>65 rows × 3 columns</p>\n",
       "</div>"
      ],
      "text/plain": [
       "       0     1  2\n",
       "9   4501  4500  3\n",
       "56  1024  1024  3\n",
       "16  1024  1024  3\n",
       "15  1024  1024  3\n",
       "28  1024  1024  3\n",
       "..   ...   ... ..\n",
       "64   640   640  3\n",
       "11   604   604  3\n",
       "8    595   595  3\n",
       "2    449   449  3\n",
       "7    314   314  3\n",
       "\n",
       "[65 rows x 3 columns]"
      ]
     },
     "execution_count": 19,
     "metadata": {},
     "output_type": "execute_result"
    }
   ],
   "source": [
    "img_size_df = get_img_size()\n",
    "img_size_df.sort_values(by=0, ascending=False)"
   ]
  },
  {
   "cell_type": "code",
   "execution_count": 20,
   "id": "plastic-above",
   "metadata": {
    "ExecuteTime": {
     "end_time": "2021-04-26T10:35:53.831029Z",
     "start_time": "2021-04-26T10:35:53.797188Z"
    }
   },
   "outputs": [
    {
     "data": {
      "text/plain": [
       "(4500, 314)"
      ]
     },
     "execution_count": 20,
     "metadata": {},
     "output_type": "execute_result"
    }
   ],
   "source": [
    "max(img_size_df[1]), min(img_size_df[1])"
   ]
  },
  {
   "cell_type": "code",
   "execution_count": 21,
   "id": "strategic-surfing",
   "metadata": {
    "ExecuteTime": {
     "end_time": "2021-04-26T10:35:53.869454Z",
     "start_time": "2021-04-26T10:35:53.833881Z"
    }
   },
   "outputs": [],
   "source": [
    "sizes_set = set(img_size_df[0])\n",
    "def sizes_ratio():\n",
    "    for size in sizes_set:\n",
    "        return img_size_df[0].value_counts()/len(train_df['image'])*100"
   ]
  },
  {
   "cell_type": "code",
   "execution_count": 22,
   "id": "spoken-perception",
   "metadata": {
    "ExecuteTime": {
     "end_time": "2021-04-26T10:35:53.918845Z",
     "start_time": "2021-04-26T10:35:53.881307Z"
    }
   },
   "outputs": [
    {
     "data": {
      "text/plain": [
       "18"
      ]
     },
     "execution_count": 22,
     "metadata": {},
     "output_type": "execute_result"
    }
   ],
   "source": [
    "len(sizes_set)"
   ]
  },
  {
   "cell_type": "code",
   "execution_count": 23,
   "id": "comfortable-german",
   "metadata": {
    "ExecuteTime": {
     "end_time": "2021-04-26T10:35:53.973827Z",
     "start_time": "2021-04-26T10:35:53.926988Z"
    }
   },
   "outputs": [
    {
     "data": {
      "text/plain": [
       "640     0.055474\n",
       "1024    0.043796\n",
       "700     0.020438\n",
       "800     0.017518\n",
       "1000    0.014599\n",
       "960     0.002920\n",
       "4501    0.002920\n",
       "604     0.002920\n",
       "595     0.002920\n",
       "720     0.002920\n",
       "449     0.002920\n",
       "699     0.002920\n",
       "650     0.002920\n",
       "314     0.002920\n",
       "820     0.002920\n",
       "669     0.002920\n",
       "665     0.002920\n",
       "748     0.002920\n",
       "Name: 0, dtype: float64"
      ]
     },
     "execution_count": 23,
     "metadata": {},
     "output_type": "execute_result"
    }
   ],
   "source": [
    "x = sizes_ratio()\n",
    "x.sort_values(ascending=False)\n"
   ]
  },
  {
   "cell_type": "code",
   "execution_count": 24,
   "id": "unauthorized-example",
   "metadata": {
    "ExecuteTime": {
     "end_time": "2021-04-26T10:35:54.017120Z",
     "start_time": "2021-04-26T10:35:53.977365Z"
    }
   },
   "outputs": [],
   "source": [
    "def get_unsquarred_ratio() :\n",
    "    records = img_size_df.to_records(index=False)\n",
    "    list_sizes = list(records)\n",
    "    print(list_sizes)\n",
    "    unsquarred =[]\n",
    "    for x in list_sizes:\n",
    "        if x[0]!=x[1]:\n",
    "            unsquarred.append(x[0])\n",
    "    return f\"Ratio of unsquarred images : {round(len(unsquarred)/len(train_df['image']), 3)*100} %\""
   ]
  },
  {
   "cell_type": "code",
   "execution_count": 25,
   "id": "driven-trail",
   "metadata": {
    "ExecuteTime": {
     "end_time": "2021-04-26T10:35:54.071236Z",
     "start_time": "2021-04-26T10:35:54.021400Z"
    }
   },
   "outputs": [
    {
     "name": "stdout",
     "output_type": "stream",
     "text": [
      "[(1000, 1000, 3), (1000, 1000, 3), (449, 449, 3), (640, 640, 3), (640, 640, 3), (1024, 1024, 3), (800, 800, 3), (314, 314, 3), (595, 595, 3), (4501, 4500, 3), (700, 700, 3), (604, 604, 3), (665, 665, 3), (700, 700, 3), (640, 640, 3), (1024, 1024, 3), (1024, 1024, 3), (700, 700, 3), (700, 700, 3), (640, 640, 3), (640, 640, 3), (800, 800, 3), (640, 640, 3), (640, 640, 3), (640, 640, 3), (1000, 1000, 3), (1000, 1000, 3), (720, 720, 3), (1024, 1024, 3), (1024, 1024, 3), (1024, 1024, 3), (640, 640, 3), (640, 640, 3), (1024, 1024, 3), (700, 700, 3), (699, 699, 3), (800, 800, 3), (640, 640, 3), (700, 700, 3), (640, 640, 3), (1024, 1024, 3), (1024, 1024, 3), (1024, 1024, 3), (800, 800, 3), (1024, 1024, 3), (640, 640, 3), (640, 640, 3), (1024, 1024, 3), (1024, 1024, 3), (700, 700, 3), (820, 820, 3), (640, 640, 3), (960, 960, 3), (640, 640, 3), (748, 748, 3), (800, 800, 3), (1024, 1024, 3), (1000, 1000, 3), (1024, 1024, 3), (640, 640, 3), (640, 640, 3), (800, 800, 3), (669, 669, 3), (650, 650, 3), (640, 640, 3)]\n"
     ]
    },
    {
     "data": {
      "text/plain": [
       "'Ratio of unsquarred images : 0.0 %'"
      ]
     },
     "execution_count": 25,
     "metadata": {},
     "output_type": "execute_result"
    }
   ],
   "source": [
    "get_unsquarred_ratio()"
   ]
  },
  {
   "cell_type": "markdown",
   "id": "stuck-cornell",
   "metadata": {},
   "source": [
    "Turning images into arrays of size (224, 224, 3) "
   ]
  },
  {
   "cell_type": "code",
   "execution_count": 26,
   "id": "blessed-helicopter",
   "metadata": {
    "ExecuteTime": {
     "end_time": "2021-04-26T10:35:54.111393Z",
     "start_time": "2021-04-26T10:35:54.075458Z"
    }
   },
   "outputs": [],
   "source": [
    "from PIL import Image\n",
    "\n",
    "def drop_unsquarred():\n",
    "    df_squarred = []\n",
    "    images = [image for image in train_df['image']]\n",
    "    for image in images:\n",
    "        image_size=Image.open(f\"../raw_data/shopee-product-matching/train_images/{image}\").size\n",
    "        if image_size[0] == image_size[1]:\n",
    "            df_squarred.append(image)\n",
    "    return df_squarred"
   ]
  },
  {
   "cell_type": "code",
   "execution_count": 27,
   "id": "promising-penny",
   "metadata": {
    "ExecuteTime": {
     "end_time": "2021-04-26T10:36:18.289561Z",
     "start_time": "2021-04-26T10:35:54.114831Z"
    }
   },
   "outputs": [
    {
     "data": {
      "text/plain": [
       "['0000a68812bc7e98c42888dfb1c07da0.jpg',\n",
       " '00039780dfc94d01db8676fe789ecd05.jpg',\n",
       " '000a190fdd715a2a36faed16e2c65df7.jpg',\n",
       " '00117e4fc239b1b641ff08340b429633.jpg',\n",
       " '00136d1cf4edede0203f32f05f660588.jpg',\n",
       " '0013e7355ffc5ff8fb1ccad3e42d92fe.jpg',\n",
       " '00144a49c56599d45354a1c28104c039.jpg',\n",
       " '0014f61389cbaa687a58e38a97b6383d.jpg',\n",
       " '0019a3c6755a194cb2e2c12bfc63972e.jpg',\n",
       " '001be52b2beec40ddc1d2d7fc7a68f08.jpg',\n",
       " '001d7f5d9a2fac714f4d5f37b3baffb4.jpg',\n",
       " '001e11145b8e9bf5ac51110c0fdd8697.jpg',\n",
       " '001e11145b8e9bf5ac51110c0fdd8697.jpg',\n",
       " '001f4c8331d0554d133b10d85b7fafb2.jpg',\n",
       " '001f5580b058c6b8e33132190a757318.jpg',\n",
       " '002039aaf8618627a0442d5e89e5dda6.jpg',\n",
       " '0027aaf8dd8bdbf0e4f2c19024e436cf.jpg',\n",
       " '00286d2760e433a8a01cbd9e056144f7.jpg',\n",
       " '002f978c58a44a00aadfca71c3cad2bb.jpg',\n",
       " '00303ad1c062fdeaf5f41b9ffb71a5fb.jpg',\n",
       " '003524b70715bf6bfa00451ca08e66e0.jpg',\n",
       " '0035b8fc42955c0fa2301b68e2ffe861.jpg',\n",
       " '00369839c7d94411e54437b7cf59b603.jpg',\n",
       " '003906c6c6bba4cde15e5e854dba8f6d.jpg',\n",
       " '003a6fbbdf88f0f60dc074458911f01e.jpg',\n",
       " '003c7129aef72ad3ae8af64eac5bfd29.jpg',\n",
       " '004076b57135e761ab8b41d84acc4c94.jpg',\n",
       " '00416d439a613fb6cbede5cfc95176e6.jpg',\n",
       " '00416d439a613fb6cbede5cfc95176e6.jpg',\n",
       " '004811219262c545d74e427c5ea2d724.jpg',\n",
       " '004822e4ab7dd38455a134fb2f2dd05e.jpg',\n",
       " '004e512a55c80c07ae0684c58f5fcfd9.jpg',\n",
       " '004ede0e328d05780813f853857463f1.jpg',\n",
       " '004ee5243d3dc2ae78cd8a1ec8369156.jpg',\n",
       " '0052b0b2e8233836f2875a14a9808b92.jpg',\n",
       " '005742b269e0ea4b352235b084e88eb4.jpg',\n",
       " '0059bcdf255a1b95feed3a2799fc2696.jpg',\n",
       " '005a507afe7092537e4c6243c4e0d790.jpg',\n",
       " '005bb468c673fb7f70319c120fb7106b.jpg',\n",
       " '0060be82f37ed53560e033dd1973d547.jpg',\n",
       " '0061fff53b6eba569fb383da29fdcb47.jpg',\n",
       " '0062b7c015f3c821725dcf2087e81551.jpg',\n",
       " '0062ecb6613287fde4d3a6542e2d8bc7.jpg',\n",
       " '0065dd4c4dacac6b41c11079dd1e0da9.jpg',\n",
       " '006860e5c85173a4949a924ddcb5127a.jpg',\n",
       " '006f6bc53dc5696a5514fc4ba00b6c49.jpg',\n",
       " '007084f5652dbddedb3ab371c209cd25.jpg',\n",
       " '0075a4ad758adeda9c264e64fd1d2878.jpg',\n",
       " '007847916882fe2583b24428e8d68a9e.jpg',\n",
       " '007be583a5a4edc3fc54b0779e141a9f.jpg',\n",
       " '007d0a0225c599d9a68012d8e1aa4f92.jpg',\n",
       " '007d97e52d6da9ed8fc0eeb8cf4aab84.jpg',\n",
       " '007df656de4068984084848f9316e835.jpg',\n",
       " '007ed1560a37f2fc76297ed06af5c4a5.jpg',\n",
       " '007fc7acc773e85d7592f377556fcf73.jpg',\n",
       " '007fca8ce9a042f9e1656ce8f96ba19d.jpg',\n",
       " '007fca8ce9a042f9e1656ce8f96ba19d.jpg',\n",
       " '0082c9c530852846a5f970ca1b8dc334.jpg',\n",
       " '0082c9c530852846a5f970ca1b8dc334.jpg',\n",
       " '0083bce179f59cdb2234bb2e621bf4b9.jpg',\n",
       " '00844c7713155dcc12a657b7d4691117.jpg',\n",
       " '0087a5465491291911cdbb56debd5253.jpg',\n",
       " '008a7e4f77c10f36ace0314cff98ba09.jpg',\n",
       " '008ac00ee5ef28d2c1cd19fe08b016e3.jpg',\n",
       " '008b51588806c7649b8d9f359ecd352f.jpg',\n",
       " '008f8aac1d118f0b318b918aa783e9ed.jpg',\n",
       " '00957d8d80d5f5fc56e81dad56ee033b.jpg',\n",
       " '00974314c83c8ffcc3c584dc8011bb3f.jpg',\n",
       " '0097a3d7a30fe0079d5f9181f710bd8e.jpg',\n",
       " '009806730ca9c18b829239c9915d898f.jpg',\n",
       " '009ce3ba04dad4e7cc6d05b2a3e324e9.jpg',\n",
       " '009d89f1323ec58521af3fb2aaa4ea5e.jpg',\n",
       " '00a56fef82c06a746b24237f66f4c6de.jpg',\n",
       " '00a5b7d85f39222ad75b0d69886a6b58.jpg',\n",
       " '00a798efae9db3d6d5324daebfea2652.jpg',\n",
       " '00a85688de263b6d315d11e1223e15aa.jpg',\n",
       " '00a866b5d5db175b782db8c01a8e178a.jpg',\n",
       " '00a8d112066ea78e33d5ef987091a6b4.jpg',\n",
       " '00b116ee1a2f59352756dceddf542943.jpg',\n",
       " '00b2375ec81ee1a5c739a62acc74f216.jpg',\n",
       " '00b28182dd5b6f4615d92bd0a6d31810.jpg',\n",
       " '00b558da33ffb34b620b0b5e79420c23.jpg',\n",
       " '00b5bc701453b04717230b1a5f253a14.jpg',\n",
       " '00b84a9606509d5e0901bdb6e150fe69.jpg',\n",
       " '00b9f86046a30f68841671d510077cc6.jpg',\n",
       " '00bcc4e47b0469389105b7ffc143be52.jpg',\n",
       " '00be00018abbee3650a340d68a5eb5b0.jpg',\n",
       " '00be15de5ebf1c990320e35a0a07cf68.jpg',\n",
       " '00bf22807120bb5d2ffd4c1306622c0c.jpg',\n",
       " '00c0bf2f89a9b2fe6a16935dc4d284ef.jpg',\n",
       " '00c16e711348ef90d6929bbea5e029e1.jpg',\n",
       " '00c22ed25816814caa9c434c92d81172.jpg',\n",
       " '00c982e628bbc4dfed595fa941a920d5.jpg',\n",
       " '00ca272935530e43f8574b3ef967cddb.jpg',\n",
       " '00ca53e5d90eebb055e908978dc83b59.jpg',\n",
       " '00cefe6ea00dafa4e441757802c72636.jpg',\n",
       " '00d368b4331f37573f69d083f4437f0d.jpg',\n",
       " '00d4a4865fa5c81896287fc2c3ea0e1d.jpg',\n",
       " '00d4a4865fa5c81896287fc2c3ea0e1d.jpg',\n",
       " '00d51ca8c82a7aab77fee597477c4ca5.jpg',\n",
       " '00d97097eeeb5fb5929562d70b1c9928.jpg',\n",
       " '00da10b5912eb5484d0d2356b5afbd14.jpg',\n",
       " '00da7df0a12574b0e2d9f2a89ff7186a.jpg',\n",
       " '00e3e2ddacb5902fbd98dcb0a5d96ab9.jpg',\n",
       " '00e3e2ddacb5902fbd98dcb0a5d96ab9.jpg',\n",
       " '00e3e2ddacb5902fbd98dcb0a5d96ab9.jpg',\n",
       " '00e3e2ddacb5902fbd98dcb0a5d96ab9.jpg',\n",
       " '00e65d8466dfdaa6e120f9630acd0a95.jpg',\n",
       " '00e65d8466dfdaa6e120f9630acd0a95.jpg',\n",
       " '00e8bdeb54efedeb237bf11d10f2980d.jpg',\n",
       " '00ea50369abb3c61ebe3f8c52c9b4650.jpg',\n",
       " '00eacd479b6fc3af8e38fa666bdedd0c.jpg',\n",
       " '00ec8f7b866765f14a09a82e356c4e83.jpg',\n",
       " '00ed3811fc6176d6756118b14ae2f115.jpg',\n",
       " '00ed730f2e7680a457fea19797b98492.jpg',\n",
       " '00edb8b9fa46905f03ecfa49d505f44f.jpg',\n",
       " '00ee86a6810cd9f2da6dd0f0f01b867f.jpg',\n",
       " '00f02f109b48a4d169b9bd1a1e272fc7.jpg',\n",
       " '00f101ffa0cbcf2c40293058a73e8112.jpg',\n",
       " '00f101ffa0cbcf2c40293058a73e8112.jpg',\n",
       " '00f671f9cc25eb024d5e6efb1b578dfc.jpg',\n",
       " '00f713aa9c5b92e15ba9b2b3c92d2f70.jpg',\n",
       " '00fe14ef4de2ab2c9203887a2960d261.jpg',\n",
       " '0100b606b29c44d6f73f7febfade6c43.jpg',\n",
       " '0105b22c32a9b701766be74953fb9570.jpg',\n",
       " '0106b362ee6cdb37e72a25e9e6802ed9.jpg',\n",
       " '0106f54e3a61d9ef7aec65121b4aff3d.jpg',\n",
       " '010a545fc688209139e44078cfa0e6f0.jpg',\n",
       " '0110d5bb71d1c877b24e6770e7170147.jpg',\n",
       " '01131898e22d8e89f0f7fb64e244eba9.jpg',\n",
       " '011686ea40c8ef90f354a6bd832aec32.jpg',\n",
       " '01182b516872363f9de85c5412edbe08.jpg',\n",
       " '0119793166e3a9072b646afe1f0601cb.jpg',\n",
       " '011b432d05b89c74444701e39de39c92.jpg',\n",
       " '011c83541610e79e1a79e00a2232f51b.jpg',\n",
       " '011ceca9fe5e67d3863df8c43c47bc64.jpg',\n",
       " '011ddba96a571cde7c7d4392d11d50e3.jpg',\n",
       " '011e0d9393b1ff59e6420cdd956d8e92.jpg',\n",
       " '011e9a0d7876ff15b3c9c0cbdb520e1c.jpg',\n",
       " '0121f76d2053f2956bbefe86c5380ba9.jpg',\n",
       " '01231dcdd010dd8a7b2a0b3028c10e66.jpg',\n",
       " '012518f9e8f29fcf373a2010fdf06bbe.jpg',\n",
       " '0127f047038316759a29dd8c90863971.jpg',\n",
       " '0128d6733169314e72343b116c5b21b8.jpg',\n",
       " '0129a5622955c5bae0c1d132aa2d92cb.jpg',\n",
       " '012b36653e586d32aae70cb0ca671b1b.jpg',\n",
       " '012d0b2c6fdb496573e32a1d0cb18b6a.jpg',\n",
       " '01339a1eaee0f98303d81e2ebd789c7e.jpg',\n",
       " '0137b42bd1b328d5263f555787b53a61.jpg',\n",
       " '013878a03d10d03b1912925108c0e854.jpg',\n",
       " '013878a03d10d03b1912925108c0e854.jpg',\n",
       " '013892801a19847ab13c697742d26e1c.jpg',\n",
       " '0139906e4ced6277f8214c99cb84c79d.jpg',\n",
       " '013b6d6e9187dfd1623729358b8ed4e3.jpg',\n",
       " '013dc2aa3de1b329f89f427649226567.jpg',\n",
       " '013fc247a004da03f1674d754b3fcc2e.jpg',\n",
       " '013fd93df1573a04e85b3463e7a5f812.jpg',\n",
       " '0145f0943766b82df8afee7d81a03225.jpg',\n",
       " '0147527b95566a101d4c54800e399e21.jpg',\n",
       " '014a0cb0fe0268419f1a42286f46a8ed.jpg',\n",
       " '014a36a26a1a46ff78c19b7642c3a5a2.jpg',\n",
       " '014a476d97119bd4098f3f05e14818da.jpg',\n",
       " '014ff09619ff5cfb2c3c5c950e31ea7a.jpg',\n",
       " '01501fe1600ca36f25104f344e02714b.jpg',\n",
       " '01586ac90de49a725649406742d085cc.jpg',\n",
       " '015b1ea9c715a7a048fb5c387c5ba8db.jpg',\n",
       " '015da1976817ddd5e7047e9612ac1230.jpg',\n",
       " '015e17f441cf76ebc2034e995e4d3c50.jpg',\n",
       " '0163ecd19e6977a81e29c75252029533.jpg',\n",
       " '0168fbe9821914a34ac0e735e6b2665e.jpg',\n",
       " '0169c50d538901f56d8c7451db32da02.jpg',\n",
       " '0169e3b0d30c474c47e127aa77b82e1c.jpg',\n",
       " '016c46afbb498d3226512e6c0e173287.jpg',\n",
       " '016e4664a6a5a0fd95d725e853a504b0.jpg',\n",
       " '0172c6253f99d89bfbc50c57e5a491f6.jpg',\n",
       " '0174cc0f9dbf096873b3e103ae0576a8.jpg',\n",
       " '017bcfa0fad8e37781ef6d0fd15ecde8.jpg',\n",
       " '017cefe00058bfe59c9b08c2a2080a79.jpg',\n",
       " '017db1eab5069be828c2ac97a5b9286c.jpg',\n",
       " '017e186ec355b2a324315e86031efd90.jpg',\n",
       " '017e67bde7b71de6381ebf490b23dedb.jpg',\n",
       " '0180df2ff51c188a9b3996e028eff533.jpg',\n",
       " '0187b0448263fe39a6d8126067c93b60.jpg',\n",
       " '018d9280e7f7613e5ec098a1da194c3f.jpg',\n",
       " '018e7a1180c927a2133eb16bcbb9a3fd.jpg',\n",
       " '018f61ad1c903355f68fc49855bf9490.jpg',\n",
       " '0190b174d4759aa9f7d5b7830ddfe188.jpg',\n",
       " '0190b2d0679fceb877c9524fb4f0574e.jpg',\n",
       " '0190e8da4a4c315050a6d1884c25f907.jpg',\n",
       " '0192952a60f7b40faa2cc939eabbfb07.jpg',\n",
       " '01929997e48e6b2ed01e983bf537a881.jpg',\n",
       " '01958d0362ec1e73850dda16a3dd2f50.jpg',\n",
       " '0195cc4b21fdd80c8c7d810bb42b72d6.jpg',\n",
       " '0197b998b0c6f28d544a786067d6c59d.jpg',\n",
       " '019d467c70ed1c32531883c7078bd129.jpg',\n",
       " '019fe781633085c715d8d545a97e4493.jpg',\n",
       " '01a06493997f5cbcaa9ebfed982726d8.jpg',\n",
       " '01a084cea4b60138557d0bda038c24b1.jpg',\n",
       " '01a3cbd7bba577517922af0a3067e4a6.jpg',\n",
       " '01a62eeda1f0bfc46023c15de0ea0a00.jpg',\n",
       " '01a66343760f1ebf66a99fcf047d0c07.jpg',\n",
       " '01a7d6604bfe8074225b9447c8aacc87.jpg',\n",
       " '01a8af0a35eca54d534b4940f24b3360.jpg',\n",
       " '01a9b2d13e6eedf7dbdaa87219c8d8a2.jpg',\n",
       " '01aac98a0bd22623c33132145ed88a9c.jpg',\n",
       " '01ae502ac4bee2417e23f0dab68ffb2a.jpg',\n",
       " '01af016be065658b91478ef923d7096e.jpg',\n",
       " '01afa2a0d35bcf31b33803a51eb80e8b.jpg',\n",
       " '01b341c08022a00a951220400b2c6187.jpg',\n",
       " '01b3acd6cd7c20f561bc81b62d5fb10e.jpg',\n",
       " '01b85e3b84af1d7f843d1f920e56b87c.jpg',\n",
       " '01b86d3bf64a594bb03aa2173fe21367.jpg',\n",
       " '01b9a20670070651b6989f47d3389962.jpg',\n",
       " '01b9fa9097db6ef29374a387b63d8014.jpg',\n",
       " '01baeb3ff5bf6bc7e578c05e126971cf.jpg',\n",
       " '01bcfb5c460876464982fcac6e79ad92.jpg',\n",
       " '01c14310ef6fbf280f44194cd5bf0f12.jpg',\n",
       " '01c47e08e4d574194341172de92c1bab.jpg',\n",
       " '01c5ffd55b06677401205300fc938721.jpg',\n",
       " '01c6e51014064fbc1b10eff71434c963.jpg',\n",
       " '01caeb4246438a44688e115e43272150.jpg',\n",
       " '01cb3fd321ba1f8ab82666095bb3ffe6.jpg',\n",
       " '01cd4a85f3f96d51ed8dc938347858d8.jpg',\n",
       " '01cef15f9e73ee647ca4b6737e861279.jpg',\n",
       " '01d0349ae8a333ec602312e13271a84d.jpg',\n",
       " '01d5528ec0777f654d1f6b10cf99caeb.jpg',\n",
       " '01d7467d3a19e469bf18a238db3198e1.jpg',\n",
       " '01db666272cb7872eaeb2434a4695acb.jpg',\n",
       " '01dbfb017f79c5152f37e168e94068a7.jpg',\n",
       " '01dd0dba3310703f61d4376ff4e9e017.jpg',\n",
       " '01dd0dba3310703f61d4376ff4e9e017.jpg',\n",
       " '01dd0dba3310703f61d4376ff4e9e017.jpg',\n",
       " '01df311d1cea26cbebd732254706c973.jpg',\n",
       " '01e21c75894062b206cba9e4355c85df.jpg',\n",
       " '01e4c37a655015d9060ec293af5c77ed.jpg',\n",
       " '01e664943d59047bc372d32c3f5683bf.jpg',\n",
       " '01e7b529bf2ba7cac39a23005aa6dd91.jpg',\n",
       " '01e9fc9f3055279f8a1fb7934116d9be.jpg',\n",
       " '01e9fc9f3055279f8a1fb7934116d9be.jpg',\n",
       " '01eaabf790816c075b4aa560b2d8faf0.jpg',\n",
       " '01ed4552dfe630aa5bc0a49555977614.jpg',\n",
       " '01ef80c9ba5f247d2fcbb0edffa624e1.jpg',\n",
       " '01f048b5f6683868d649e6ced77f264c.jpg',\n",
       " '01f2dda960f6811d398d7c9f6224b72c.jpg',\n",
       " '01f40752b0bfd610a5f2df27c31f4e10.jpg',\n",
       " '01f77554f78d98c36adfc01a1ce79f9a.jpg',\n",
       " '01f7c8c015ef9999b3e0b137d81e3bba.jpg',\n",
       " '01f954e25dfee10bb67951cc269c055b.jpg',\n",
       " '01fa6b6a8717920e92cfbc040b0b91fe.jpg',\n",
       " '02016dacc898ebb6e02c53fa4e9ce17e.jpg',\n",
       " '02028b38792911a6084948d05155b7f6.jpg',\n",
       " '0203b45f99548debf5c211c828924303.jpg',\n",
       " '02041c7d749ce6127be796cb90b9d1fc.jpg',\n",
       " '020649a1ae344e55a90657a0356817ad.jpg',\n",
       " '02069a6491ba4eab8e76f19169d37519.jpg',\n",
       " '02070d57e839be2dc20781df466183dc.jpg',\n",
       " '020857b01876c47694a32e4ecd206c89.jpg',\n",
       " '0209401f403fe90cdcbbe46f89ae7cf0.jpg',\n",
       " '020af0cfa1a1115198149717496af7ae.jpg',\n",
       " '020c006d89965fda3ede250f08295776.jpg',\n",
       " '020e241595d433e247c906ef303e2bc7.jpg',\n",
       " '0217cc37511794b60f6089662a793424.jpg',\n",
       " '021bfc006d3a7273fd97c1456b28f900.jpg',\n",
       " '021e5b702cc88bb1e628bb6a498f6738.jpg',\n",
       " '021eadff1b126965b57f68f9bc8d5d84.jpg',\n",
       " '021f1065b0e71fa64dd990243d813797.jpg',\n",
       " '02245620de33cc6eca0788c2e8a7f547.jpg',\n",
       " '02268606a157de0bc53261b05cbd24e8.jpg',\n",
       " '02274b22e000b891aba806de48ded958.jpg',\n",
       " '0227fa045d5d0093263145c144fb3334.jpg',\n",
       " '02285c083579daaae701eae395a34451.jpg',\n",
       " '022d0f0e3629230be3fb5af47a88cb48.jpg',\n",
       " '022d11354bab52a770f9382dd3956382.jpg',\n",
       " '022f08b9f59000f83743d955ea75cd6a.jpg',\n",
       " '0233d1522f95031e111d777739e9f1e9.jpg',\n",
       " '02348268c4d84261a3447fd60a2b2e71.jpg',\n",
       " '02360fae8f67644b1dd7852f4393f58c.jpg',\n",
       " '0238a58b77a0b6141daf8ed3eed3f82b.jpg',\n",
       " '0238afea6513cf9a4be3cb68f39e7f95.jpg',\n",
       " '023a7615ee54da76a7c968e64bf7f87d.jpg',\n",
       " '023b2267f71a014d10c6cc5a07a71777.jpg',\n",
       " '023bd583a216f4d833b292829c2912e0.jpg',\n",
       " '023cb020eb85011d04ebdbbe2231eb2b.jpg',\n",
       " '02457d6e9dc187a88ac9157f31844075.jpg',\n",
       " '024863a1be4b02960823578c7df125a1.jpg',\n",
       " '024aa49ecd84837cc986eb0850b3acb1.jpg',\n",
       " '024aaec6865fcad7d1c3e90db535f59d.jpg',\n",
       " '024f14769533a95c3a1e7f67294f4565.jpg',\n",
       " '02585982df114a829f30c2af4c033dbc.jpg',\n",
       " '0258cb334b9ee42d455309926d837a58.jpg',\n",
       " '025ab66807e398a61af6a98f0c2f1d19.jpg',\n",
       " '025b254a3e309cb145713d9048b14d84.jpg',\n",
       " '025c0d3d874c1cf2719374e57873beb7.jpg',\n",
       " '025c8e627a0a591b5c71885a91fb237e.jpg',\n",
       " '025dcf228478192b3facd75c6718d111.jpg',\n",
       " '0261b5118a061cb6a858a6873c0ebb20.jpg',\n",
       " '02646c3da20cd90f6c640788542dc359.jpg',\n",
       " '02673a940442f69433e69dc46872cf24.jpg',\n",
       " '026928393954218f3c64bccb14fc41ed.jpg',\n",
       " '026adfb09f703902be226e149c3f237b.jpg',\n",
       " '026e47e775dd96bae2ef5409bf39a85f.jpg',\n",
       " '026fc573e6bbd4660f489cad706939c9.jpg',\n",
       " '027092d8b98cbb6c4ac9ee6b1a1a4c18.jpg',\n",
       " '0272a94ad2dcb821698a33488c87e0c4.jpg',\n",
       " '02730457ba3931aef9b9a6304ae42687.jpg',\n",
       " '027478fc15b3caf7d9be5465ad7bdf5c.jpg',\n",
       " '027483ca4aecc1d6f5013a9404c8dc71.jpg',\n",
       " '027514d2cf1e676f533aecbf7a3e8838.jpg',\n",
       " '027a160a1a84483930e075392c3d9758.jpg',\n",
       " '027bc0010b706789786b94c0a44329f7.jpg',\n",
       " '027c48e570e0ce0d179ade91ad54b307.jpg',\n",
       " '027c4b8be394e83b48e6f39c209a1dfa.jpg',\n",
       " '027df1b1101d68ad0ef31e8bf3b7fc73.jpg',\n",
       " '0281001f8689fb2f36579655d55782ce.jpg',\n",
       " '0285e420f1bfdab0acf45e0f64ae6ff1.jpg',\n",
       " '0288d0c75e4a65288eb05d21efce8a83.jpg',\n",
       " '028b1f761661813f9d6459218c157068.jpg',\n",
       " '028e44ff8e5cd4f4648818410a3796fa.jpg',\n",
       " '028f68fdfc5271a20b780e6dbc74e595.jpg',\n",
       " '0290e460bc655fb67a33324ec6d5a96f.jpg',\n",
       " '02939d28850e0d2ac0ad9d9ca44595d1.jpg',\n",
       " '0294c42ebf1e1c5b11c4db3ef739f2c9.jpg',\n",
       " '0296470e05d7164f15ac5b771df4c9eb.jpg',\n",
       " '029673b029ab3ffdc8d66839191ffd6f.jpg',\n",
       " '0296accb9e2a5c7c7a588869e0fb95d0.jpg',\n",
       " '02975fba2e56bfd5cebab52a78680379.jpg',\n",
       " '02989f736cfa6a1964c88caf246491e1.jpg',\n",
       " '0299fb4423e61a758ad741cfb02307c9.jpg',\n",
       " '029a6c2da4bea11888111537e09229d6.jpg',\n",
       " '029b00ecd52dd7255ed1955f3d9672f4.jpg',\n",
       " '029b2053e294c26f4a86a871bcddda9c.jpg',\n",
       " '029b467d9843baef72d0667455b80bfa.jpg',\n",
       " '029b9752f214b2d121ea62d01f0f4295.jpg',\n",
       " '029d57eb160258e773da508768c5e2a8.jpg',\n",
       " '029e9a520494db4a6152a0afa42369ae.jpg',\n",
       " '029f40148ba4cb36ebf5250fb24e3206.jpg',\n",
       " '029f6c8d46529ac359bc2eb7fb1b416b.jpg',\n",
       " '02a040244904358038649cd356e660d3.jpg',\n",
       " '02a0da1ce6cd19c9c0441fa5a11e265e.jpg',\n",
       " '02a22f1cba1baff113c9f10d57c19c9b.jpg',\n",
       " '02a3699cae984be52245d968fa3db999.jpg',\n",
       " '02a3729adad968e2435c85c6ffe8faa0.jpg',\n",
       " '02a399bafca7fa660b35b925f6d3e6fb.jpg',\n",
       " '02a3ab241b2f467a109b41893de37f18.jpg',\n",
       " '02a64f0faf68ed2e3a7fe35305fa9ff5.jpg',\n",
       " '02a88e276871b5d7053e1a78604d27ea.jpg',\n",
       " '02a8f7a2ddb210aebf91be0ce0206894.jpg',\n",
       " '02aa99cff86b865f6f2cf01deb317357.jpg',\n",
       " '02acc9a5a70c8586380d3acbb9b2dd46.jpg',\n",
       " '02aeca1354c0f9ed4ca9036a97e23737.jpg',\n",
       " '02b1a0a38a6514363ea3b1bb8224f55a.jpg',\n",
       " '02b258376ce15f26c35197f09c6e578c.jpg',\n",
       " '02b363295465812ffa0db5583a8b51b3.jpg',\n",
       " '02b46810ce0526b6d99ac61d637a023b.jpg',\n",
       " '02b66c6b01b9362e0a00af01ef46b8f5.jpg',\n",
       " '02b9fc146d13dd77b4c7fff87d3f32d2.jpg',\n",
       " '02bff263fefc2d89d8628ef6bc4305e5.jpg',\n",
       " '02c20c056fbac873315b29a61b9bd124.jpg',\n",
       " '02ca7858658aee9ef0178b2b4aaa4952.jpg',\n",
       " '02cb07bee1c4a6bce42e5c6f2aeab4c4.jpg',\n",
       " '02cbcfb56e45cbfca86845b4d7cc0294.jpg',\n",
       " '02cccac8dd3282fa37b8224680f14ec5.jpg',\n",
       " '02d0218428d73accb940893f1fa670d2.jpg',\n",
       " '02da54be3f8c0142cf0666bc56bdea7a.jpg',\n",
       " '02dc8bb0083e9f7100cf2fa6bea77716.jpg',\n",
       " '02dd972b190c802364caeb3f4999a5e6.jpg',\n",
       " '02e1ddf69e22b87bc2a61f7d587bf720.jpg',\n",
       " '02e1ddf69e22b87bc2a61f7d587bf720.jpg',\n",
       " '02e540982004af83f88840c15c644da5.jpg',\n",
       " '02e58c4707142f28ba126cc45ca992f1.jpg',\n",
       " '02ece83d8bd413869802d3e46ea13393.jpg',\n",
       " '02ef9b1f27b64c85f025bebde5159878.jpg',\n",
       " '02f0c8c7b9422752207cc7ab43c61c6f.jpg',\n",
       " '02f153ebd53084e999f377ff1d6eb3aa.jpg',\n",
       " '02f24344f2630c2606ac77b88eebf046.jpg',\n",
       " '02f670927e7a78e688f0a3f5d453391a.jpg',\n",
       " '02f6bfd27f2bd4682a01a9c2a8121f18.jpg',\n",
       " '02f8de7cf17d5396babf7e1d18b7c9ce.jpg',\n",
       " '02f9d8543d9967952ade3f73071dea6e.jpg',\n",
       " '02f9d8543d9967952ade3f73071dea6e.jpg',\n",
       " '02f9dc880acea885a6cd04afb9c390f8.jpg',\n",
       " '02fc9bd6796d7adac8e70cb51cdb2e63.jpg',\n",
       " '030180b67b8e9bd317b7ae6c5458b7a5.jpg',\n",
       " '030199f4feabd7cbc151b7d702d695a4.jpg',\n",
       " '0301bea83403e77f3659a99345b77a7b.jpg',\n",
       " '030c974314707cb3ba28d0fff0dc7486.jpg',\n",
       " '030e5133b5d32496b7541ad5112c86d2.jpg',\n",
       " '030fd3267ad5f7da950766bc206b9e78.jpg',\n",
       " '0312de3ccc2b00a0bc325a8cb2241bc5.jpg',\n",
       " '0313ee914b0a7ee3dad85f65b98f6007.jpg',\n",
       " '0315567829c98ce61b736bd4672a44d3.jpg',\n",
       " '031816a2f23d3ed90a66e000b32aa134.jpg',\n",
       " '0319699ba61a3359b66794ebf22d0763.jpg',\n",
       " '031af2b081d3647c6da9b56b50114177.jpg',\n",
       " '031caa93882842c2fb2902279b617d52.jpg',\n",
       " '031ee1a90fe5d09dd069106a2b07132f.jpg',\n",
       " '0320ef62a319ed55d0be1dcd8a18636c.jpg',\n",
       " '0324c12ddb628b811f9253834805a1e0.jpg',\n",
       " '0324f216fe4571bc9f4cf72c05acd262.jpg',\n",
       " '03284beae765087bcd14e188a7317496.jpg',\n",
       " '032c4e7aa98da4b86070984e3d23229f.jpg',\n",
       " '032dda2dfe081401ce48062f0f335972.jpg',\n",
       " '033159caddb316a75b558945222aca33.jpg',\n",
       " '03327a1d29a37e23457bfb0af62fdb1c.jpg',\n",
       " '03327a1d29a37e23457bfb0af62fdb1c.jpg',\n",
       " '033491558dc5eb7a7607d0d6b60731bd.jpg',\n",
       " '03356283f632e7cd17abb42541bddccd.jpg',\n",
       " '033737803638de239e414d14ed1ea1bb.jpg',\n",
       " '033b319ce9acf29f935be0a26ea64c88.jpg',\n",
       " '033d07a095644d21a3a8e1c4e79ce935.jpg',\n",
       " '0343b74bda2d9de8f2a97c41a6b8071b.jpg',\n",
       " '03443e41979706d0b4b87047d485d4da.jpg',\n",
       " '0347494f5cb638ca665277bbd34e0ec0.jpg',\n",
       " '0347494f5cb638ca665277bbd34e0ec0.jpg',\n",
       " '03492d89648cbb1c89b55fc47730f733.jpg',\n",
       " '034aa9ce45634c5bc5e1f8bca74356a4.jpg',\n",
       " '034d5772d117266948fa9a25ea91c960.jpg',\n",
       " '0353ebba48d7d7e6dd08bb29a95d8d3e.jpg',\n",
       " '03588a45bb505f640876881a94feab2f.jpg',\n",
       " '035ae4427ce419f5692ab241310100db.jpg',\n",
       " '035f90d076fab51a2f49b0981a67718e.jpg',\n",
       " '0360ce43f6b02ccd035703500317c795.jpg',\n",
       " '0369fbe3df901f7a61b78058d19e7b60.jpg',\n",
       " '036a8cabf6724ad15738fa5bf512acee.jpg',\n",
       " '036afaee5b1950c46afb66f4a47bbb7a.jpg',\n",
       " '036caa47c058c8fa5ed4892e27913cfb.jpg',\n",
       " '036ed3ec877143184ae9b7ea4b091600.jpg',\n",
       " '036ee9cc281bf3168c34470b8a8e9371.jpg',\n",
       " '0370e0820821ef97edbc138f5663dfbc.jpg',\n",
       " '0375f723a2a5a2c78a0cd6103f00f49f.jpg',\n",
       " '0378768a8cb5993e9ab04bae5d8c2101.jpg',\n",
       " '037b91143e8b57a8ea94bf5a27432eec.jpg',\n",
       " '038024158016c18e27637a6cc8b7fdfc.jpg',\n",
       " '0381bb5d3f9a1f211b6f5b45c4ff663e.jpg',\n",
       " '0383ad2a4cbe0691d861e376c81815fc.jpg',\n",
       " '0389c2cff9b77363de284e1c130258d3.jpg',\n",
       " '038b836a073982e014a1f52ecfcf3151.jpg',\n",
       " '038cf1d2ffaa2bdfec0802f21bfb9819.jpg',\n",
       " '0393d455e6b0f90e9754969e088c760d.jpg',\n",
       " '0393e58027891808f86a4ea9db8c4168.jpg',\n",
       " '0393e58027891808f86a4ea9db8c4168.jpg',\n",
       " '03952dc36e0e61eb6f25442414bc806d.jpg',\n",
       " '0396f5762aedc849678a585b43352850.jpg',\n",
       " '039a9b0c4d049f233aa92f7789de1f27.jpg',\n",
       " '039ad17208e4d282f9db05402113e905.jpg',\n",
       " '039b7194bfc5be44d0e7b4c092ff5961.jpg',\n",
       " '03a0244b0abc5fd23dba296c4cfcd070.jpg',\n",
       " '03a282f0dabd1c6ab169695af7d54831.jpg',\n",
       " '03a8f567b35d16e0422cdd6dd4143857.jpg',\n",
       " '03a9841aa70fbcdd588b19e6622b3f36.jpg',\n",
       " '03a9e0c8120d21bc1219bb28de59735d.jpg',\n",
       " '03ae04bd14113279190085fee52c37d0.jpg',\n",
       " '03b4341b88dd97bbe7f7b44fabfab30b.jpg',\n",
       " '03b60b788c6f02295d43cd0d36606185.jpg',\n",
       " '03b6c99cdc8e0bb3324a11290a43ae83.jpg',\n",
       " '03b82e7438b9c5547fdc9ab220852c8e.jpg',\n",
       " '03b86209a6c8c0c0a5719d308605fdca.jpg',\n",
       " '03ba78002ef0260e2d88a627152fbec4.jpg',\n",
       " '03ba8b8f7a3781acc61788dc557af1d3.jpg',\n",
       " '03bb7b2cad26bee8998341d4ce2e4824.jpg',\n",
       " '03bf33a0bba3db4c15e0d561464460dc.jpg',\n",
       " '03c167867de0a6834ef8769baaf36e1a.jpg',\n",
       " '03c1a0502eaf756ebcf6a35a61d604e0.jpg',\n",
       " '03c4f8e9669d31b6e129806dae1a7402.jpg',\n",
       " '03c994ef1e7d3f5449e3975d1f5ed231.jpg',\n",
       " '03c9aa4d005cf31d145434f4095ac5f9.jpg',\n",
       " '03c9c3973cd4b4f3142af9cb486cfdd0.jpg',\n",
       " '03cee0099893beece6986a183bdc3342.jpg',\n",
       " '03d3c97610540792cb5e53889160cd29.jpg',\n",
       " '03d42a05a9bf2bd027ddea39e0120d8d.jpg',\n",
       " '03d7dd4a957a473ac67438d17fe264cb.jpg',\n",
       " '03d976855b24305a41fa0f2bd0240001.jpg',\n",
       " '03dacaebb7f13423c30911c4f01bde7d.jpg',\n",
       " '03de765fd1059b0cb7472631e4a0579c.jpg',\n",
       " '03e027656171420583db686600b59cf8.jpg',\n",
       " '03e1c0f4227b523cfdfb9205f240ca39.jpg',\n",
       " '03e5678583225519d424edb59bc92f67.jpg',\n",
       " '03ea776cf40f6fe06aafae43b1bcaccb.jpg',\n",
       " '03eb9a2871862b37dfa375d3f830655a.jpg',\n",
       " '03ebb65008cdbe2b553e97e1992cf502.jpg',\n",
       " '03ed1de3688c83c139aef39088aad083.jpg',\n",
       " '03eddc8a882614f8aa7a0f212f98c72e.jpg',\n",
       " '03ef8d1cd5804c0a1ebc7632f058d7f2.jpg',\n",
       " '03f0c235b2e56a460e23587c4d4c3ad0.jpg',\n",
       " '03f0c92e2f79f3054547aab785bfb185.jpg',\n",
       " '03f3b26cbe5419d68cb4eb8b06938741.jpg',\n",
       " '03f44ae0d5f1938ceb30ac6a2f609c1d.jpg',\n",
       " '03f94cf522101e71933eb4047c5091fe.jpg',\n",
       " '03fa79210b60eff815326ef31325adea.jpg',\n",
       " '03fd0a5413c03a05e43aa8b78d759c66.jpg',\n",
       " '03fe7e408acc2ef838ac3899897c2387.jpg',\n",
       " '03ffd2c162cdd40ed3816e3a8a0e8b72.jpg',\n",
       " '0403ae0b674415bfc675483e7e5a1e0b.jpg',\n",
       " '040481c9a5c57a613fab2710882ddc8f.jpg',\n",
       " '04056b0b275ab9774c4a2d4a77c4c982.jpg',\n",
       " '040717829d61e53c6274b476bc367b28.jpg',\n",
       " '040c5df3dd8849ec045ea8ceb5b88bc7.jpg',\n",
       " '040cdc5eb85306d99f25ba70cb7b0f9a.jpg',\n",
       " '040e776d754184dcc5c909424308f3a7.jpg',\n",
       " '04106bbabca50fec42c39649e5af0857.jpg',\n",
       " '0411784efaf3e9fa1d97a1fd07fbe79c.jpg',\n",
       " '0411d8f891c61cdc37ea066eee4eb60d.jpg',\n",
       " '0412b32924da4797d2e60676864a0245.jpg',\n",
       " '04151686c31eefb2ed9f5736ad9b4eac.jpg',\n",
       " '04164dcca25716b0a3d0dc2d44e4b900.jpg',\n",
       " '0417bad4cbee84d96183b26428d4326f.jpg',\n",
       " '0418de923fec638a4f8f2033959963e5.jpg',\n",
       " '04198ddfc9091f7e8f467a75db3eab29.jpg',\n",
       " '041c4ed0dfca106e6f3c76ce705db152.jpg',\n",
       " '041eb2a38f0c7062237cedbc8e4565cd.jpg',\n",
       " '041f0c176b6cd8b2dfa0d8e4510fccd5.jpg',\n",
       " '041f533906bf52f67cdd67069308964c.jpg',\n",
       " '0425d2ad8c048eb9832ef71d8ef9e6c7.jpg',\n",
       " '0426c8d10556e748192b4df3a223c0fe.jpg',\n",
       " '0426f873aad38961ecbd4d1da27f6b28.jpg',\n",
       " '04284f022738667140273e2b2e6da08f.jpg',\n",
       " '042a301f7a13f1476692926360663fb5.jpg',\n",
       " '042bd9e1c544b0bf5657b4d47bd2eede.jpg',\n",
       " '04325d767af190517379650dacd02493.jpg',\n",
       " '0433a8e9bee270cdf66f8dfa8c4ba977.jpg',\n",
       " '0433b6a0283e2d082b92de383469fc6e.jpg',\n",
       " '04352cb66c9f237ae435308ca48cea2e.jpg',\n",
       " '0436ca524d418500fbda7fdad85f3405.jpg',\n",
       " '0436f37e97eb578293cb6682cad1821e.jpg',\n",
       " '04375b5e38ea3949184ab1ef21cfd30c.jpg',\n",
       " '0439533532252dca458cea0adbe5cb77.jpg',\n",
       " '04399b5e0278bc4696ff0ff600abb1be.jpg',\n",
       " '043a4fc74cf6db66caa3934327f59811.jpg',\n",
       " '043ac186829fd44fc0898c1e9fbbade8.jpg',\n",
       " '043eca9076348c6e80294cb6475cd39e.jpg',\n",
       " '044432ff5602bb2b135d2a6717910b62.jpg',\n",
       " '04468200f8e8b29f0c77df631c2443e1.jpg',\n",
       " '0447359733b571517bb18cad5b0e1a09.jpg',\n",
       " '04473bbbfa1b701ab9f9e8ace26e2877.jpg',\n",
       " '0449f7437f5534f0643db1446809948d.jpg',\n",
       " '0451bc44b59faaaabfd55f2254a27169.jpg',\n",
       " '045261a2bfd591357e8ca0bf665f8ea1.jpg',\n",
       " '0452760307e388e0f0d6f54382e3f920.jpg',\n",
       " '045296d18ca07dc640c31d8d026a9cb3.jpg',\n",
       " '0457d6e25257f86a81d889454b84b961.jpg',\n",
       " '0457edf9b986eca73d44a06422b308bb.jpg',\n",
       " '04583373c00e20d94731f348e6059ee1.jpg',\n",
       " '045a61fef06b0b5e19fefb5aad8e5b3e.jpg',\n",
       " '045a61fef06b0b5e19fefb5aad8e5b3e.jpg',\n",
       " '045aaead2c30aecb5d5d58152128ca9c.jpg',\n",
       " '045ef086182593ec05cda831227e8818.jpg',\n",
       " '045f968d85cba3456134bb9ff078b720.jpg',\n",
       " '04600c7612a6e1790ee318d0d4f78384.jpg',\n",
       " '04604583b3f39554f0ffbb57da4dd92d.jpg',\n",
       " '0460e2bb2efa8d0a4b0127a22476e975.jpg',\n",
       " '0464a51feb065a04d3325e854f913362.jpg',\n",
       " '0465bd6fa9281435c72e24b0b9d1132d.jpg',\n",
       " '0466d8f7f1e7f608a7c19d1b05fadbe2.jpg',\n",
       " '0467e7f54c1c999107c8e285211a9e94.jpg',\n",
       " '0469adcd80163d0524994037fea91945.jpg',\n",
       " '046b7455b4a15e6e03ed7ea35ebeede7.jpg',\n",
       " '046d98c48fcb51feaffc52b44b68072b.jpg',\n",
       " '046dad725af117fc9021af9476f813f4.jpg',\n",
       " '047028e327ddf813836d4382d1910fe5.jpg',\n",
       " '0474da62ce0c02a02c33e475777c330a.jpg',\n",
       " '0479300de5519b14eb61eec2a22e5e91.jpg',\n",
       " '0479ad6ffddf5e17efe80065eccf6f8d.jpg',\n",
       " '047b423244dcefca6913dab0902cb44e.jpg',\n",
       " '047f5ad8430206aec8aebb92f7cde07e.jpg',\n",
       " '047f737210010aaa09b99024d91e378e.jpg',\n",
       " '04867557f7189bd1f14448fe60f3bb44.jpg',\n",
       " '04890431c62d054efb91819c30735e41.jpg',\n",
       " '048b68b2063cf1799610e07ced24937e.jpg',\n",
       " '048cc38935532d4ae30bbb961c24e47f.jpg',\n",
       " '048cdf5620da90b4914fec558a826cea.jpg',\n",
       " '048e10c88a5fd60e13fc64e1cef041c0.jpg',\n",
       " '048eb9cadb33c1c6a7fc48219b398227.jpg',\n",
       " '0491eceeb0e180f40670057af3002dbe.jpg',\n",
       " '04920df7a7869b183044aa4724024f57.jpg',\n",
       " '04955b7795209baec13116c47a628469.jpg',\n",
       " '0497e6f852f47e14672f91273a7aebd6.jpg',\n",
       " '049d6e000ee2012d0f19da4e30dfabcb.jpg',\n",
       " '04a00bccb7f1560e755f5f1def73db59.jpg',\n",
       " '04a1b056f47f9f8a7d9e4fe2eae26c15.jpg',\n",
       " '04a2246140a352f753127c2f0ddc9d05.jpg',\n",
       " '04a2b54fcef6ea4745c4123cc2d32a9b.jpg',\n",
       " '04a38fee24f54bcf390b9ec338237455.jpg',\n",
       " '04a55813ff6045512b4741c590114543.jpg',\n",
       " '04a5a4c56b2a2cfe0409ba25705fd664.jpg',\n",
       " '04a822c76ece324265ad38365ea94e2b.jpg',\n",
       " '04ad50c09d4d1203e10c5d43c5119e83.jpg',\n",
       " '04adc9307baf0e7fa76713a851d3fbc3.jpg',\n",
       " '04adc9307baf0e7fa76713a851d3fbc3.jpg',\n",
       " '04b0189aae1c7ee77160e001c8bc1423.jpg',\n",
       " '04b4dd5ede0e13683840c3fbd4b87477.jpg',\n",
       " '04b4ff25cdaef1a7aa5e4a541acb46dc.jpg',\n",
       " '04b7344ff6ee98735bc4afbbff4bb9db.jpg',\n",
       " '04bb65b241cd4640bf6f631a68468287.jpg',\n",
       " '04bbf3581ccbbe9b849047e5ae82506f.jpg',\n",
       " '04bcb2694108a7d48da329748ec5aac0.jpg',\n",
       " '04bd52193e4d0436a326c5ad937142c6.jpg',\n",
       " '04bda641d156c7dbbcd98baec1e50565.jpg',\n",
       " '04bfc08d2e535b00c2c6fd0b67e90a44.jpg',\n",
       " '04c4d951c4e046216f2192f7ce668cba.jpg',\n",
       " '04c74e78e5b038a71a84533df3cfa9a4.jpg',\n",
       " '04c7beed2e8b05e76d366fd1d10f6906.jpg',\n",
       " '04c97eebdd7586844a0bf288531a10a2.jpg',\n",
       " '04cf7dd4a4f90759034b1953b58472e9.jpg',\n",
       " '04d1c54217c33c91710ed5fc24f3e851.jpg',\n",
       " '04d1ed5f9999213ea0fba59c4c4c56a7.jpg',\n",
       " '04d2bd873d46bb277078f2a17a84d428.jpg',\n",
       " '04d3ba459c5b1b260d9106fbb9d50205.jpg',\n",
       " '04d88a063d3528d70fb925c7e0003631.jpg',\n",
       " '04d935aaf95a944feca0226b042ba62f.jpg',\n",
       " '04da77b24c66210c5669cccf57edd575.jpg',\n",
       " '04ddb93e632caa44ee28eba623e1ce44.jpg',\n",
       " '04de770e55019a535a88786693c16cea.jpg',\n",
       " '04e25c96a027db9b56a31c93adbfa1c0.jpg',\n",
       " '04e2acca455976ecd572938561d591d6.jpg',\n",
       " '04e4d2d9c225eafe01418a97291cc53b.jpg',\n",
       " '04e5ae70f2e2a7ce9cf7839fdaa81bd2.jpg',\n",
       " '04f2b96bb547db3e34e677a48dfb0013.jpg',\n",
       " '04f51bba75be7df36f6fbefd436dde76.jpg',\n",
       " '04f5d86e0aa1ea0d3e6aa22d03fc21b4.jpg',\n",
       " '04f62b06059bebeb7e2b3d06ba868c26.jpg',\n",
       " '04f62b06059bebeb7e2b3d06ba868c26.jpg',\n",
       " '04f90222e2e2e34ed12fb6f7652d1b0b.jpg',\n",
       " '04fdefcdb6b3b509d1c07e783b4f0cd9.jpg',\n",
       " '04ffd8d0703edd3cbc9b998f99c10bd1.jpg',\n",
       " '0501f1241c8648c6b5d03da798bfeea5.jpg',\n",
       " '05024c9bf9f5ee9b57d83083f69b9ef8.jpg',\n",
       " '0504ade64df7d9289648bb49488d3318.jpg',\n",
       " '05050cf1c464f6eb8ac61ac47c25fdb1.jpg',\n",
       " '0507b917633a9c81359c38edc5fdad22.jpg',\n",
       " '0507dab91e0beb65798ac1e9e7ba4b7d.jpg',\n",
       " '05081b418469c424f676be0de384b430.jpg',\n",
       " '05081d28da274974350ab7c21eca16b9.jpg',\n",
       " '0508c579de8854e39673df65f752eef2.jpg',\n",
       " '0508e79847d13a7dd5b369ba9aa904b4.jpg',\n",
       " '0509d7afa2d136362666c8cdc02e465b.jpg',\n",
       " '050a3439e9c246b5edc64962e587ac6f.jpg',\n",
       " '050c3f3a2da6d14713e09501d6fb9902.jpg',\n",
       " '05101ef96bc438200eb44903e2f1689b.jpg',\n",
       " '051064bb25017473e6ab1ba10f6266a9.jpg',\n",
       " '0510c35ef87c20a9fbbf72a56453c64e.jpg',\n",
       " '051423c28aff48edbc06008c639bddc4.jpg',\n",
       " '0514dc81f58fb4bfbea36f1d929ac840.jpg',\n",
       " '0515964fceacad26000e5ea3607328d2.jpg',\n",
       " '051a66a5300789ffa64f089cac7fce07.jpg',\n",
       " '051cb1760896a6245492cd5442105bfc.jpg',\n",
       " '05240a815f61de55a37624da423549b4.jpg',\n",
       " '052599229626cd608f06c18157a69daf.jpg',\n",
       " '0525c8ff23d4fd7058f67e435a6faba4.jpg',\n",
       " '0525f2b5c8ac5af4fa5f4e097b27ccfd.jpg',\n",
       " '0527703ef6ce0d71fe4adeb506ab261f.jpg',\n",
       " '05294ac1c3211c5d3f0c29d938142f41.jpg',\n",
       " '052e998cb7b0b336e32faef16aa65632.jpg',\n",
       " '052f210d451349a3b12df2a887d51563.jpg',\n",
       " '052f210d451349a3b12df2a887d51563.jpg',\n",
       " '052f8cf7a2cd458b5485fde4bb1facd7.jpg',\n",
       " '0530593fdb69c4505d9cc3953a32a90d.jpg',\n",
       " '05305aace32283388649d3fd79af0913.jpg',\n",
       " '05319116819e35785440f4946559af7e.jpg',\n",
       " '05341be4ef9ac04013ee511aabe8a51a.jpg',\n",
       " '0536fb2befc707cbe676ae9027c3ec9d.jpg',\n",
       " '05383c0d22984b3cf4e857a15a27237f.jpg',\n",
       " '053aa8c91522add119f7ff8644ac49db.jpg',\n",
       " '053ac5fff8aa6053f3fcaa80bad7a400.jpg',\n",
       " '0541772eb55db4a8ac753c20868362b7.jpg',\n",
       " '05418e2d7a8b0a566a61e1ec86867e9a.jpg',\n",
       " '0542372c09839b9d71fb7809259abc49.jpg',\n",
       " '054731f58120632b4426bbafaec634ff.jpg',\n",
       " '0547d8c7d08b73f7175935a29e10a0c6.jpg',\n",
       " '0548460b2b91be10bf8afa2bc8518457.jpg',\n",
       " '05497aa87a063a996a723d15bc9c900b.jpg',\n",
       " '054de6f21fc453869056e499bdf975cf.jpg',\n",
       " '054e2b666a1e22f74dd55c7e88da4520.jpg',\n",
       " '054e4300728030ad452ae813df29e5c6.jpg',\n",
       " '054ee4814906aef62516ba02dd8d4dc5.jpg',\n",
       " '05523d914a93dd95d2f1918e852b1f92.jpg',\n",
       " '05551b3ce4892481b74bad64c8a73b5a.jpg',\n",
       " '05574c9130be4ed3a178f889cecdf9e9.jpg',\n",
       " '05574cbe7d0307254554f518dbabda8c.jpg',\n",
       " '0557b2622fb2e46d530ca7ba6085db58.jpg',\n",
       " '0558ee2467f471b70b0940652be8c784.jpg',\n",
       " '0558ff7a7c65595d93d79bb6fa3e2d11.jpg',\n",
       " '055a1825d72a06ef9714e4c8cae777c5.jpg',\n",
       " '055df1184b09a222506d7b0621029187.jpg',\n",
       " '055e5c3e260b9a75ac59a5d14bec658b.jpg',\n",
       " '056004302f5d2b4f2815cc2b904e182c.jpg',\n",
       " '05617235b5b14e63ebf21a2e4cf760c5.jpg',\n",
       " '05683b8ee751d0c97dda48c5290c9119.jpg',\n",
       " '05683b8ee751d0c97dda48c5290c9119.jpg',\n",
       " '05687596934c59535e4fb37265b28ed1.jpg',\n",
       " '0568aff5b0c7d127c528b54a92ac7bb4.jpg',\n",
       " '056abe07b8611a723043fa76e3cd29dc.jpg',\n",
       " '05745199cf35633972eb3f82f992bb81.jpg',\n",
       " '057a23b2aa4ac832b459c5e73f869a82.jpg',\n",
       " '057b576b6d3c179edd5a01bb22f55289.jpg',\n",
       " '057b576b6d3c179edd5a01bb22f55289.jpg',\n",
       " '057ba8a700c9209b8ee55475aadea046.jpg',\n",
       " '057e717a42b4162c72f696a022ff1b78.jpg',\n",
       " '057ff16f680c9a7e97fcaff74dc94eb2.jpg',\n",
       " '0581d7f5d8f39282f8347c99b47a6661.jpg',\n",
       " '05822707197fc53717852ced4dcbc730.jpg',\n",
       " '05864fb95cc126433f0298db01b9edd6.jpg',\n",
       " '05871d5d46ad73dfa18aa02c2e6ebff8.jpg',\n",
       " '058b2234f7ab73f0fd16b47a98bcc5fe.jpg',\n",
       " '058b79db614c524ff790ac3722bc18ef.jpg',\n",
       " '058c2150488ee0ef5bae388d70391931.jpg',\n",
       " '058ee6d2e4823ab0a64d9a3a7971ac2b.jpg',\n",
       " '05918a4d290ed5d9873e576d7ce9c54d.jpg',\n",
       " '059265f6e8886cc979a87cc5e396281d.jpg',\n",
       " '05935d1a9e93e582e2db430dfe256546.jpg',\n",
       " '0596bba76004542dc02bc19af7467ac7.jpg',\n",
       " '05978059283886deee6b2d15464ccb7c.jpg',\n",
       " '05978059283886deee6b2d15464ccb7c.jpg',\n",
       " '05978059283886deee6b2d15464ccb7c.jpg',\n",
       " '059a01e40c791760333d49ec0b3da964.jpg',\n",
       " '05a15cd486668115b3b940d60715c791.jpg',\n",
       " '05a2c80e4eecd98fc502fbed59eb9b08.jpg',\n",
       " '05a336f857edc2ed3cf3917e9219d824.jpg',\n",
       " '05a489bb6a363359cb0f2c77f17e28ec.jpg',\n",
       " '05a9ca557e4cdca791b3ccd05f845359.jpg',\n",
       " '05a9e8b2f138603a17576a9d786a1bd0.jpg',\n",
       " '05ab3fb7954d9b61c1e18546c8d51eca.jpg',\n",
       " '05ab976ba3d587795e0dd3459d990f0b.jpg',\n",
       " '05ad8aa53b6e62fa9568b1f27417d4aa.jpg',\n",
       " '05aecc859618f87a9a20b13f06c4ac39.jpg',\n",
       " '05b6e2a8f8465a6207af0a17dd8c70fd.jpg',\n",
       " '05b8d3274aed9e83cdb2893e8d3a1100.jpg',\n",
       " '05b8d3274aed9e83cdb2893e8d3a1100.jpg',\n",
       " '05bafbe3d4bb1ef846e57d023dbb5a5f.jpg',\n",
       " '05bbba6828fa60b2475581185592a6e2.jpg',\n",
       " '05bbba6828fa60b2475581185592a6e2.jpg',\n",
       " '05bc01a74504395b1fe0c7090022aaa4.jpg',\n",
       " '05bd0a7aaae1218a94134368e7d9cbd1.jpg',\n",
       " '05bf47aebbd0b904c095920683549fdf.jpg',\n",
       " '05c0542d590c6f72c02c381abbdad408.jpg',\n",
       " '05c1f40f69ad047fb4714d7ad1a4d841.jpg',\n",
       " '05c4b28e17201eb2e2158f463c9428ff.jpg',\n",
       " '05c6b847550a523f1e4daa96c22357ff.jpg',\n",
       " '05c9201bc77aeb638193bc5ceec1afe6.jpg',\n",
       " '05cbe17bff8277ad2fa7b89429af9b5f.jpg',\n",
       " '05ccc8d9ce97738a5ba0422671bbad32.jpg',\n",
       " '05ce0046f45f9c599da4edf6868f7d87.jpg',\n",
       " '05cf69ee7df368f75eda81ce74527620.jpg',\n",
       " '05d3a604fd7d035af0fb1ba8cc3f91c3.jpg',\n",
       " '05d65f97cf93a3a60e22331640020c48.jpg',\n",
       " '05d67f3573420af6c170a47eaa70540c.jpg',\n",
       " '05daba3232347660bb0d51fda94d4570.jpg',\n",
       " '05dcbc89f5d455980899fa67e3cb06f7.jpg',\n",
       " '05de1a1b1e7d305cdfd166caa9f3fde4.jpg',\n",
       " '05e31e6f5a7b315584b960a954839dad.jpg',\n",
       " '05e6475d387888d735677e7bd53f63d2.jpg',\n",
       " '05e9ea453836ffe3fae91a739a64f0a5.jpg',\n",
       " '05ec1e8eee3cd15cf451866342b56e54.jpg',\n",
       " '05edda2a806eb9a30790a096ba13ebeb.jpg',\n",
       " '05ef22a0711d4b99d06cce3e5b4cab2c.jpg',\n",
       " '05f10b1d560c8b4892bf186865fca8e3.jpg',\n",
       " '05f1bc3c03271e5d4b5af7a7b263facf.jpg',\n",
       " '05f5d76b9106954e5c26a60f31adc355.jpg',\n",
       " '05f62c88f91440962eeba121af36aea3.jpg',\n",
       " '05f6b21121a6ff99b0ae8f8eb1f9c62e.jpg',\n",
       " '05f8dbdd742ac7e77cffd783c89ea2c0.jpg',\n",
       " '05ff0c31a10589ee9ed56733363c69fe.jpg',\n",
       " '05ff342000e89832fbc6ee050097b2b8.jpg',\n",
       " '0601660f4866ac2234e69f2228173dc1.jpg',\n",
       " '0604dae23d1713dd201ba8a9059cc2d9.jpg',\n",
       " '0609196667b20479bac58da45efd1437.jpg',\n",
       " '060a23ba655567b5c034bbdbb7aa0d4c.jpg',\n",
       " '060a49f0af0b50e47c4dfc3d8ff51fbc.jpg',\n",
       " '060e2851e9969f339068de88cec1a86c.jpg',\n",
       " '060ffd9779c0499b2c15c22618e183bf.jpg',\n",
       " '06107987560205c7cfb4f53d1423330c.jpg',\n",
       " '061289d029749c148b510ff5ea804022.jpg',\n",
       " '0619b5594fbb06cab42966cbd1e86a11.jpg',\n",
       " '061accc75c4ef2cfe18315b8b9c8794d.jpg',\n",
       " '061e29d2ac8b9e433edf8413819dc708.jpg',\n",
       " '061e834e437b66e496cc1a5704ffc7cf.jpg',\n",
       " '06213748beed3b1bade182f1a32bb6bb.jpg',\n",
       " '062236c022166f8190f1661430ef7fb2.jpg',\n",
       " '062367336647160725e1c0da9db174d7.jpg',\n",
       " '06265903953d5253e9df722b6ee9738a.jpg',\n",
       " '0626c82b75b81bac20084a86d69cf9aa.jpg',\n",
       " '0628740b31f65f6c53b24509aaee443f.jpg',\n",
       " '062b2aa68126f1ee5d2578927df05568.jpg',\n",
       " '062f953544732d620d8d8c50a89e4cef.jpg',\n",
       " '062f953544732d620d8d8c50a89e4cef.jpg',\n",
       " '06318e738b83f3fbe854a756e03fc43a.jpg',\n",
       " '0633fa896cd7435dd603e43c43d6d409.jpg',\n",
       " '06342c6394472d72e12e4ed1f4f317cd.jpg',\n",
       " '063444f0f4eab476bd99b9c593c242f1.jpg',\n",
       " '06390822149c956400ca22ca855eaf46.jpg',\n",
       " '063aafd6efb673574ea6896b00fef63e.jpg',\n",
       " '064000ffd173802f049d97ac94f30b1a.jpg',\n",
       " '0640cfedec89f66decc544c12bb73fe1.jpg',\n",
       " '06419a00c252e4a3c97c9a2861477526.jpg',\n",
       " '06423ee30eb15bfb729e12420c07ed31.jpg',\n",
       " '06465e9c339647b51eb368a7bc6a23f2.jpg',\n",
       " '06468be69455febe6e3e6126bca1984e.jpg',\n",
       " '0646dd97b50476098e5309fc06570471.jpg',\n",
       " '0646dd97b50476098e5309fc06570471.jpg',\n",
       " '064d85466a59e793cf3e7adf97117d43.jpg',\n",
       " '064fcb29e6814607b5b94e394238bb26.jpg',\n",
       " '0650c55628cc521be4eed39c02eb32c1.jpg',\n",
       " '06534dadab731a413f3d45fc35e242f8.jpg',\n",
       " '0655497073262359861905a0d8c9cac1.jpg',\n",
       " '0660b68442af99d3ab8c422a2a655f6e.jpg',\n",
       " '0661287e5ae947fe4ce26da2e1b03483.jpg',\n",
       " '0663ae2982ebe07145a59cebb89d62e6.jpg',\n",
       " '0664dcd44ecb4effac7a11cee66d8c09.jpg',\n",
       " '0669be1403baecc36fa5eec8e6263e33.jpg',\n",
       " '066bd357c25bace462930d41aeeeda3e.jpg',\n",
       " '067058271aee5fe6eff27e6cbf866156.jpg',\n",
       " '067319a650f85444c0267d4fce8771b7.jpg',\n",
       " '0673e377d8d5875fe26e705dc94769df.jpg',\n",
       " '067a28ebb59279954e6ebe5d30aa6648.jpg',\n",
       " '067c4ddb61ccc1f70f496e6fc357ea77.jpg',\n",
       " '067c83ad2d415a2ac2b38432f06d33f6.jpg',\n",
       " '067f2b7cd04a52b701e339d282d045b1.jpg',\n",
       " '0681947841e5adf7db0fe6392bb4f628.jpg',\n",
       " '0682147556a43a5e9db75a2ff7526703.jpg',\n",
       " '0682147556a43a5e9db75a2ff7526703.jpg',\n",
       " '0682e23445175268dbc29b353a03950a.jpg',\n",
       " '06878d2d72dd57a8ce5407dbddf9195f.jpg',\n",
       " '06882b60b9977d0d28cf54aadb9c370d.jpg',\n",
       " '0688841400a76d696471f2a8ce32c671.jpg',\n",
       " '06897b00066819e96f2b3a41f4afe814.jpg',\n",
       " '068b4039d4babb3b4baf194d7ad4077f.jpg',\n",
       " '06906553c3132c17522a5d40d4ebc16b.jpg',\n",
       " '0690b078cb06dc93681427a1d74b13e8.jpg',\n",
       " '0693d5a4ef62095bc178ffc6eacc06ad.jpg',\n",
       " '0695c69420546d588de6162e71bedb95.jpg',\n",
       " '069c0e9c2522c252251d2bc4e5c98722.jpg',\n",
       " '069cc1d3b445008704229eb117beafac.jpg',\n",
       " '069ce428a003fb43ba0ed3cf36d94343.jpg',\n",
       " '06a30c1186bba5d8bd43a0b7ea82f4ab.jpg',\n",
       " '06a8d732b960fe1640ff9d0b04aa3a77.jpg',\n",
       " '06aa0915d8cc443f0796240bdffe2343.jpg',\n",
       " '06ace9c2e440d7d17db4356b5e6ec76c.jpg',\n",
       " '06aead2700b50e8bc210b6d29ec9db54.jpg',\n",
       " '06aedbc8ca4fdc44e310c2af5e68921b.jpg',\n",
       " '06b3bc18ff28a64d33ae3be2527ecb58.jpg',\n",
       " '06b3f3f16b1a435bd46bf23ed3f6fca4.jpg',\n",
       " '06b3f3f16b1a435bd46bf23ed3f6fca4.jpg',\n",
       " '06b4a73e92706cf1602d1505ca3ae9f9.jpg',\n",
       " '06b6f44680303a96f5c59cc7a9c40d97.jpg',\n",
       " '06b789c6c559b37ad032331422d3243b.jpg',\n",
       " '06b789c6c559b37ad032331422d3243b.jpg',\n",
       " '06b789c6c559b37ad032331422d3243b.jpg',\n",
       " '06b789c6c559b37ad032331422d3243b.jpg',\n",
       " '06ba2698bf9b326bf0e432229271d8f5.jpg',\n",
       " '06bdc5ea51377afeabb1bbe92e4e905b.jpg',\n",
       " '06bdc5ea51377afeabb1bbe92e4e905b.jpg',\n",
       " '06c011d93330217a07d0d0bd618220ab.jpg',\n",
       " '06c15404e7b9cd1eb49baefee3e17779.jpg',\n",
       " '06c2d4240ae702ec85f8db57aa10396b.jpg',\n",
       " '06c75125ecd55038ff55f574608d1a04.jpg',\n",
       " '06c8e0513be9c3ef4218303b9d28bc60.jpg',\n",
       " '06cbf7256134e63e2998380b72d56b18.jpg',\n",
       " '06cca2d5f8beefd8d73dd4405de09cf7.jpg',\n",
       " '06ce1651c8dfb67f7d986eb45f03cd7b.jpg',\n",
       " '06d013ca52942c8f20c3082ac5ab935d.jpg',\n",
       " '06d159e07614245cc45c432c6bb04f8a.jpg',\n",
       " '06d1731370e48d29a471451ff985fdbf.jpg',\n",
       " '06d23527b587061356f605d3d8ed66f2.jpg',\n",
       " '06d6d932ebbd249231f9fc018860bc6a.jpg',\n",
       " '06dcb3c42a3b1f2f7d1be943a6f8b22a.jpg',\n",
       " '06dd728a303fe0bd33b59a1b66f50be8.jpg',\n",
       " '06de84d310c2c93c8593e1861b15ee27.jpg',\n",
       " '06deffb3e19c815d2f5dddd7f0425b3b.jpg',\n",
       " '06df75e3aef776c6bbbfadfe3dd1fda1.jpg',\n",
       " '06df75e3aef776c6bbbfadfe3dd1fda1.jpg',\n",
       " '06dfdd895fddce428d89b0abe0562547.jpg',\n",
       " '06e141fd4cef94c986c65a4277fb8108.jpg',\n",
       " '06e4d920598e0178c9cb6ffc7d5d1ece.jpg',\n",
       " '06ea22ba7a7ac8c29395bf48c25766fd.jpg',\n",
       " '06ea581235d0273376de791bb4037430.jpg',\n",
       " '06eadffc15939c48e0090de9eb3c5ae3.jpg',\n",
       " '06ed42252e14964b3388a360f9ba9000.jpg',\n",
       " '06f65fce753388b73b63e0ccb0c69261.jpg',\n",
       " '06f7022abf0285cfe0c61d7ecb21c1e6.jpg',\n",
       " '06f831d5d5f9ad4fa4144f197d94f10b.jpg',\n",
       " '06fbff431c3a85283713fd1a435d21fd.jpg',\n",
       " '070152bb11f7ef67475524c41db7ebc6.jpg',\n",
       " '070196d9f3374c5c01345c07bfa1bf36.jpg',\n",
       " '0702432226b85eda034d54993c356316.jpg',\n",
       " '0702e39f1340215535647b90b582df0b.jpg',\n",
       " '0703ea09d44d0a5bf409e3a87ca4a12e.jpg',\n",
       " '070469390c277329c358158b0ae7d920.jpg',\n",
       " '070469390c277329c358158b0ae7d920.jpg',\n",
       " '070469390c277329c358158b0ae7d920.jpg',\n",
       " '0704a7fea796ce89431e4474792c1f37.jpg',\n",
       " '0706cc0d33b8e804484e97a416eca1c9.jpg',\n",
       " '07086015944553e9702b072381c5b49d.jpg',\n",
       " '07094d27fe103aef2cd1d3cccf62651a.jpg',\n",
       " '070bb981adce47ebf9488e7a8a4b7629.jpg',\n",
       " '070bc2d14e1d71423367d1250db4d55d.jpg',\n",
       " '070c02b5a355c680953b673713588652.jpg',\n",
       " '070ff2d87d52ee0fcac37ac1d7194d45.jpg',\n",
       " '07110a45e7b2f77b301d3eb54a162647.jpg',\n",
       " '071327e5335eda4c9811fdf1466db141.jpg',\n",
       " '0713b8ea0f09d938895250bf4867eb6a.jpg',\n",
       " '0714f69935afcb7d70fdec2772124400.jpg',\n",
       " '0714f69935afcb7d70fdec2772124400.jpg',\n",
       " '0715af9d74616c6482334ee14046b2c1.jpg',\n",
       " '0717db92b829540d5c18aad6045b1997.jpg',\n",
       " '07185f198bbb95e7b4911832fdedbeb7.jpg',\n",
       " '0719900a777374c3ca65677a66018160.jpg',\n",
       " '071d2deb4a8cad2c6ae930b96cd40664.jpg',\n",
       " '071ea84454bc185f05e4c6dfc56d19c4.jpg',\n",
       " '072260d8e02378de68d76b318aa96e9c.jpg',\n",
       " '0723eb6cabc0ac78528d4850c74839c8.jpg',\n",
       " '07258de9828c9df99c26c3c23b9056bf.jpg',\n",
       " '0725a83a3d51ff5f78232d73e58ffd11.jpg',\n",
       " '0725e392a48f5ad587a60e08855d42a0.jpg',\n",
       " '07266487405fc38cb810f9bf11275c7a.jpg',\n",
       " '0728167ad63d954828ead460c34a18f1.jpg',\n",
       " '072bbe0fe1fbb0af6bb578c4e986a682.jpg',\n",
       " '073414a2dac79c6ca76ddab4396ef037.jpg',\n",
       " '0735117c6f6baf755aa89711722129a6.jpg',\n",
       " '07390f71854d38ac9cda63ad862d9429.jpg',\n",
       " '073de1bc6cb21962f4e5517f433bd6e9.jpg',\n",
       " '073e0985016db7af65996f3787e54b3a.jpg',\n",
       " '073e80fd38262c5655a5df2f2cb2e157.jpg',\n",
       " '073fe788b7976ab38e1dac5c8617dea1.jpg',\n",
       " '0740f3d85cd3cebebf2118b4825eac2b.jpg',\n",
       " '074ae41615fcc6b73487d9adef679f3e.jpg',\n",
       " '074c57734f2502e40ac0b2aa5151db75.jpg',\n",
       " '074ec0becce1a9ab91b822148054bf59.jpg',\n",
       " '074f1a8a406430b4a87ac8fc855cddb1.jpg',\n",
       " '074fbd93331759150768418c5a38bdb5.jpg',\n",
       " '075189148de609619a262f91e3e4c56f.jpg',\n",
       " '0753717fa3d333c4215da6cdadc2ff2b.jpg',\n",
       " '075e2b3bc46b65b3612005135ef8ee60.jpg',\n",
       " '0760236a0db6af6b5e304a314cc6b020.jpg',\n",
       " '076031e6eb5c19cbf606d6481e9a6925.jpg',\n",
       " '07616121d418af2188b80d1652aff21f.jpg',\n",
       " '0762e6fac9230ba70d5ab261487d0851.jpg',\n",
       " '0763964e158f04b1a01c1df277468f70.jpg',\n",
       " '0767a8048c5c5862318d52755d63b8cb.jpg',\n",
       " '0767e7798d3c78c1f8570dbf445a9492.jpg',\n",
       " '076c9f06c734ad0194462ee8bdff0b31.jpg',\n",
       " '076d9354b8be65f503f23395b06c7496.jpg',\n",
       " '076dd1f6b078a857272ca0e6e9f12baf.jpg',\n",
       " '076ee9c5e39528817de97bab5d94cc8c.jpg',\n",
       " '076ef8287a5cb124b4d55cd7275dcd3d.jpg',\n",
       " '076f04e02a413111336abf780d20e3e8.jpg',\n",
       " '076f13ea7ae8788e3b9b789d5e4ce904.jpg',\n",
       " '076f457afa2e1ef8ee007b4789ed0473.jpg',\n",
       " '0773fb57a009303d68b3a7f1a5ab8cd1.jpg',\n",
       " '07742b1a91496e7a6311353aa89fcd3d.jpg',\n",
       " '07761d666c0a9c0852a8f8e3f0dd9e45.jpg',\n",
       " '07764fa5742e669f0a0d04684ff54a9d.jpg',\n",
       " '0777cb1521f7357fccc47ea4790e0a44.jpg',\n",
       " '0779d82422d22f8fd666c9dfc7c4c59d.jpg',\n",
       " '077b1a6482084e2e6a77eb1ec57abe24.jpg',\n",
       " '0782457d2016001ef37b951c0be72dce.jpg',\n",
       " '0784a75959ee9d6df60d73ec15fd0cb1.jpg',\n",
       " '0787717493312f42d46b0846ae218c6c.jpg',\n",
       " '0787e12ce90e7f4476cb4d7a4256682c.jpg',\n",
       " '078fa2863ea19ee8fb6d70c9257eb44c.jpg',\n",
       " '07914ac8ae2298086494a5aa61462140.jpg',\n",
       " '079a0797bf9aa528762211206cab25d5.jpg',\n",
       " '079b0c185b1591c59982fd11cde1cf5e.jpg',\n",
       " '079d0390d16312b02f5baf6c660d234e.jpg',\n",
       " '079de452c8f447cb2d6bcdf9c5d05446.jpg',\n",
       " '079ec0e31db55cb68d12ac90f7f5d571.jpg',\n",
       " '07a2712a61718a26a656efdf221fb8d3.jpg',\n",
       " '07a49e3bf7ee1e0af3e8f7fc796b8e66.jpg',\n",
       " '07a4ec67c55e6c8c4dadab41d252a493.jpg',\n",
       " '07a59561c8352a5d3b09b9f897198f64.jpg',\n",
       " '07a6fd3f65603bbfed2b69120ac9ba0c.jpg',\n",
       " '07a814244755eb38318b15f414a5be16.jpg',\n",
       " '07ac27311757badb756f126234c05da3.jpg',\n",
       " '07ad2447c4f2ef115f7ad36e791dde4c.jpg',\n",
       " '07ae287807cc36ab5250c2ea58f1bcde.jpg',\n",
       " '07af112f4551b5bfe18afbfab3234f47.jpg',\n",
       " '07b102b6ef74cdaaadb3c49ebc50ab09.jpg',\n",
       " '07b7d4a2b8b0bbad3ac0b66152e349bc.jpg',\n",
       " '07bc0cefcb8a1e167b7eda9024692fb7.jpg',\n",
       " '07befecb47efaee5ea0175142a5d9e59.jpg',\n",
       " '07c251a26b8266c85730ab8d870f1356.jpg',\n",
       " '07c35dc41eedd9093817b51ecd809f9c.jpg',\n",
       " '07c49d9c2f057f7bc61671ff1bbbd890.jpg',\n",
       " '07c61824359a9b947a8c6b6fb53154a1.jpg',\n",
       " '07c7a3ec900c417d8b16c36860547352.jpg',\n",
       " '07c9ca37d416021fdbcc55c5acd8602b.jpg',\n",
       " '07ca052921933341b1c7a69dd7ead324.jpg',\n",
       " '07cb941b2bdbe9a04d1dcae9ae981f20.jpg',\n",
       " '07cc2915b7ab933e3ff3bb702d5110da.jpg',\n",
       " '07ce73adb509196a76b65fd5dc7b613e.jpg',\n",
       " '07d1139446265a29cda71658ad9d3ce7.jpg',\n",
       " '07d632524fa8e31e901201b2ac42bb79.jpg',\n",
       " '07d6820577c9b9bc0757fc18e5b5be04.jpg',\n",
       " '07df304ea3123879bf0cd0308b93f5d7.jpg',\n",
       " '07dfb4dff4bdfb1aa486192f94a8b11e.jpg',\n",
       " '07e130a2369bd30c351a43982d8eae69.jpg',\n",
       " '07e4a963a2f062b8badf1df49abdc585.jpg',\n",
       " '07e7e5b79c433d37b866e5ae2f1d3819.jpg',\n",
       " '07e8c586dbe132ef070a1843173e7f2d.jpg',\n",
       " '07e8eaaccdba04a20d9f7c3b368e32d9.jpg',\n",
       " '07e9a68f8c2cbc8ccebaf891c22d4808.jpg',\n",
       " '07e9e691cedddf2b6db631d810cd4687.jpg',\n",
       " ...]"
      ]
     },
     "execution_count": 27,
     "metadata": {},
     "output_type": "execute_result"
    }
   ],
   "source": [
    "df_squarred = drop_unsquarred()\n",
    "df_squarred"
   ]
  },
  {
   "cell_type": "code",
   "execution_count": 28,
   "id": "worse-reply",
   "metadata": {
    "ExecuteTime": {
     "end_time": "2021-04-26T10:36:18.318609Z",
     "start_time": "2021-04-26T10:36:18.291903Z"
    },
    "scrolled": true
   },
   "outputs": [],
   "source": [
    "def resize_save_unsquarred():\n",
    "    img_squarred = []\n",
    "    for image in df_squarred:\n",
    "        image_open=Image.open(f\"../raw_data/shopee-product-matching/train_images/{image}\").resize((100,100))\n",
    "        image_open.save(f\"../raw_data/shopee-product-matching/train_images/resized/{image}\")\n",
    "        img_squarred.append(image_open)\n",
    "    return img_squarred"
   ]
  },
  {
   "cell_type": "code",
   "execution_count": 29,
   "id": "distributed-privilege",
   "metadata": {
    "ExecuteTime": {
     "end_time": "2021-04-26T10:45:02.777819Z",
     "start_time": "2021-04-26T10:36:18.321550Z"
    }
   },
   "outputs": [],
   "source": [
    "img_squarred = resize_save_unsquarred()"
   ]
  },
  {
   "cell_type": "code",
   "execution_count": 30,
   "id": "documented-mounting",
   "metadata": {
    "ExecuteTime": {
     "end_time": "2021-04-26T10:45:03.005568Z",
     "start_time": "2021-04-26T10:45:02.779788Z"
    }
   },
   "outputs": [
    {
     "data": {
      "text/plain": [
       "<matplotlib.image.AxesImage at 0x129589160>"
      ]
     },
     "execution_count": 30,
     "metadata": {},
     "output_type": "execute_result"
    },
    {
     "data": {
      "image/png": "[encoded data removed]",
      "text/plain": [
       "<Figure size 432x288 with 1 Axes>"
      ]
     },
     "metadata": {
      "needs_background": "light"
     },
     "output_type": "display_data"
    }
   ],
   "source": [
    "plt.imshow(img_squarred[1100])"
   ]
  },
  {
   "cell_type": "code",
   "execution_count": 31,
   "id": "nearby-fourth",
   "metadata": {
    "ExecuteTime": {
     "end_time": "2021-04-26T10:45:03.053168Z",
     "start_time": "2021-04-26T10:45:03.014828Z"
    }
   },
   "outputs": [],
   "source": [
    "# train_df['resized_image'] = pd.read_csv('../raw_data/shopee-product-matching/train_images/resized/train.csv') "
   ]
  },
  {
   "cell_type": "code",
   "execution_count": null,
   "id": "after-cache",
   "metadata": {},
   "outputs": [],
   "source": []
  },
  {
   "cell_type": "code",
   "execution_count": 32,
   "id": "funky-characteristic",
   "metadata": {
    "ExecuteTime": {
     "end_time": "2021-04-26T10:45:08.816922Z",
     "start_time": "2021-04-26T10:45:03.056918Z"
    }
   },
   "outputs": [],
   "source": [
    "from tensorflow.keras import models\n",
    "from tensorflow.keras import layers\n",
    "\n",
    "# Minimal Network + Common tricks + First hyperparameters tests\n",
    "\n",
    "model = models.Sequential()\n",
    "\n",
    "# First convolution & max-pooling\n",
    "model.add(layers.Conv2D(100, (10,4), strides=(2,2), input_shape=(28, 28, 1), padding='same'))\n",
    "model.add(layers.MaxPool2D(pool_size=(3,3)))\n",
    "\n",
    "# Second convolution & max-pooling\n",
    "model.add(layers.Conv2D(32, (3,3), strides=(2,2), padding='same'))\n",
    "model.add(layers.MaxPool2D(pool_size=(2,2)))\n",
    "\n",
    "model.add(layers.Flatten())\n",
    "model.add(layers.Dense(100, activation='relu'))\n",
    "model.add(layers.Dense(10, activation='softmax'))\n",
    "\n",
    "# ––– This is where your Data Scientist skills begin"
   ]
  },
  {
   "cell_type": "raw",
   "id": "closing-adrian",
   "metadata": {},
   "source": []
  },
  {
   "cell_type": "code",
   "execution_count": null,
   "id": "finnish-joint",
   "metadata": {},
   "outputs": [],
   "source": []
  },
  {
   "cell_type": "code",
   "execution_count": 33,
   "id": "protected-caribbean",
   "metadata": {
    "ExecuteTime": {
     "end_time": "2021-04-26T10:45:09.020511Z",
     "start_time": "2021-04-26T10:45:08.819666Z"
    }
   },
   "outputs": [],
   "source": [
    "from skimage.transform import resize\n",
    "from skimage import io\n",
    "import os\n",
    "\n",
    "def resize_images():\n",
    "    images = [image for image in train_df['image']]\n",
    "    # img_shape = []\n",
    "    for image in images[0:10]:\n",
    "        image_path =  f'{image}'\n",
    "        filename = os.path.abspath(os.path.join('../raw_data/shopee-product-matching/train_images/resized/', image_path))\n",
    "        img = io.imread(filename)\n",
    "        x = img.shape\n",
    "        # img_shape.append(x)\n",
    "        # print(x)\n",
    "        # print(img_shape)\n",
    "        # size_img = pd.DataFrame(img_shape)\n",
    "        # print(size_img)\n",
    "        # print(img_shape)\n",
    "        # for img in size_img.loc[0,[0, 1]]:\n",
    "            #print(img[0],img[1])\n",
    "        #image_resized = resize(img, (img_shape[0][0] // img_shape[0][0] * 100, img_shape[0][1] // img_shape[0][1] * 100), anti_aliasing=True)\n",
    "        # train_df['shape_resized'] = x\n",
    "    return train_df"
   ]
  },
  {
   "cell_type": "code",
   "execution_count": 34,
   "id": "disabled-transsexual",
   "metadata": {
    "ExecuteTime": {
     "end_time": "2021-04-26T10:45:09.126263Z",
     "start_time": "2021-04-26T10:45:09.023040Z"
    }
   },
   "outputs": [
    {
     "data": {
      "text/html": [
       "<div>\n",
       "<style scoped>\n",
       "    .dataframe tbody tr th:only-of-type {\n",
       "        vertical-align: middle;\n",
       "    }\n",
       "\n",
       "    .dataframe tbody tr th {\n",
       "        vertical-align: top;\n",
       "    }\n",
       "\n",
       "    .dataframe thead th {\n",
       "        text-align: right;\n",
       "    }\n",
       "</style>\n",
       "<table border=\"1\" class=\"dataframe\">\n",
       "  <thead>\n",
       "    <tr style=\"text-align: right;\">\n",
       "      <th></th>\n",
       "      <th>posting_id</th>\n",
       "      <th>image</th>\n",
       "      <th>image_phash</th>\n",
       "      <th>title</th>\n",
       "      <th>label_group</th>\n",
       "    </tr>\n",
       "  </thead>\n",
       "  <tbody>\n",
       "    <tr>\n",
       "      <th>0</th>\n",
       "      <td>train_129225211</td>\n",
       "      <td>0000a68812bc7e98c42888dfb1c07da0.jpg</td>\n",
       "      <td>94974f937d4c2433</td>\n",
       "      <td>Paper Bag Victoria Secret</td>\n",
       "      <td>249114794</td>\n",
       "    </tr>\n",
       "    <tr>\n",
       "      <th>1</th>\n",
       "      <td>train_3386243561</td>\n",
       "      <td>00039780dfc94d01db8676fe789ecd05.jpg</td>\n",
       "      <td>af3f9460c2838f0f</td>\n",
       "      <td>Double Tape 3M VHB 12 mm x 4,5 m ORIGINAL / DO...</td>\n",
       "      <td>2937985045</td>\n",
       "    </tr>\n",
       "    <tr>\n",
       "      <th>2</th>\n",
       "      <td>train_2288590299</td>\n",
       "      <td>000a190fdd715a2a36faed16e2c65df7.jpg</td>\n",
       "      <td>b94cb00ed3e50f78</td>\n",
       "      <td>Maling TTS Canned Pork Luncheon Meat 397 gr</td>\n",
       "      <td>2395904891</td>\n",
       "    </tr>\n",
       "    <tr>\n",
       "      <th>3</th>\n",
       "      <td>train_2406599165</td>\n",
       "      <td>00117e4fc239b1b641ff08340b429633.jpg</td>\n",
       "      <td>8514fc58eafea283</td>\n",
       "      <td>Daster Batik Lengan pendek - Motif Acak / Camp...</td>\n",
       "      <td>4093212188</td>\n",
       "    </tr>\n",
       "    <tr>\n",
       "      <th>4</th>\n",
       "      <td>train_3369186413</td>\n",
       "      <td>00136d1cf4edede0203f32f05f660588.jpg</td>\n",
       "      <td>a6f319f924ad708c</td>\n",
       "      <td>Nescafe \\xc3\\x89clair Latte 220ml</td>\n",
       "      <td>3648931069</td>\n",
       "    </tr>\n",
       "    <tr>\n",
       "      <th>...</th>\n",
       "      <td>...</td>\n",
       "      <td>...</td>\n",
       "      <td>...</td>\n",
       "      <td>...</td>\n",
       "      <td>...</td>\n",
       "    </tr>\n",
       "    <tr>\n",
       "      <th>34245</th>\n",
       "      <td>train_4028265689</td>\n",
       "      <td>fff1c07ceefc2c970a7964cfb81981c5.jpg</td>\n",
       "      <td>e3cd72389f248f21</td>\n",
       "      <td>Masker Bahan Kain Spunbond Non Woven 75 gsm 3 ...</td>\n",
       "      <td>3776555725</td>\n",
       "    </tr>\n",
       "    <tr>\n",
       "      <th>34246</th>\n",
       "      <td>train_769054909</td>\n",
       "      <td>fff401691371bdcb382a0d9075dfea6a.jpg</td>\n",
       "      <td>be86851f72e2853c</td>\n",
       "      <td>MamyPoko Pants Royal Soft - S 70 - Popok Celana</td>\n",
       "      <td>2736479533</td>\n",
       "    </tr>\n",
       "    <tr>\n",
       "      <th>34247</th>\n",
       "      <td>train_614977732</td>\n",
       "      <td>fff421b78fa7284284724baf249f522e.jpg</td>\n",
       "      <td>ad27f0d08c0fcbf0</td>\n",
       "      <td>KHANZAACC Robot RE101S 1.2mm Subwoofer Bass Me...</td>\n",
       "      <td>4101248785</td>\n",
       "    </tr>\n",
       "    <tr>\n",
       "      <th>34248</th>\n",
       "      <td>train_3630949769</td>\n",
       "      <td>fff51b87916dbfb6d0f8faa01bee67b8.jpg</td>\n",
       "      <td>e3b13bd1d896c05c</td>\n",
       "      <td>Kaldu NON MSG HALAL Mama Kamu Ayam Kampung , S...</td>\n",
       "      <td>1663538013</td>\n",
       "    </tr>\n",
       "    <tr>\n",
       "      <th>34249</th>\n",
       "      <td>train_1792180725</td>\n",
       "      <td>ffffa0ab2ae542357671e96254fa7167.jpg</td>\n",
       "      <td>af8bc4b2d2cf9083</td>\n",
       "      <td>FLEX TAPE PELAPIS BOCOR / ISOLASI AJAIB / ANTI...</td>\n",
       "      <td>459464107</td>\n",
       "    </tr>\n",
       "  </tbody>\n",
       "</table>\n",
       "<p>34250 rows × 5 columns</p>\n",
       "</div>"
      ],
      "text/plain": [
       "             posting_id                                 image  \\\n",
       "0       train_129225211  0000a68812bc7e98c42888dfb1c07da0.jpg   \n",
       "1      train_3386243561  00039780dfc94d01db8676fe789ecd05.jpg   \n",
       "2      train_2288590299  000a190fdd715a2a36faed16e2c65df7.jpg   \n",
       "3      train_2406599165  00117e4fc239b1b641ff08340b429633.jpg   \n",
       "4      train_3369186413  00136d1cf4edede0203f32f05f660588.jpg   \n",
       "...                 ...                                   ...   \n",
       "34245  train_4028265689  fff1c07ceefc2c970a7964cfb81981c5.jpg   \n",
       "34246   train_769054909  fff401691371bdcb382a0d9075dfea6a.jpg   \n",
       "34247   train_614977732  fff421b78fa7284284724baf249f522e.jpg   \n",
       "34248  train_3630949769  fff51b87916dbfb6d0f8faa01bee67b8.jpg   \n",
       "34249  train_1792180725  ffffa0ab2ae542357671e96254fa7167.jpg   \n",
       "\n",
       "            image_phash                                              title  \\\n",
       "0      94974f937d4c2433                          Paper Bag Victoria Secret   \n",
       "1      af3f9460c2838f0f  Double Tape 3M VHB 12 mm x 4,5 m ORIGINAL / DO...   \n",
       "2      b94cb00ed3e50f78        Maling TTS Canned Pork Luncheon Meat 397 gr   \n",
       "3      8514fc58eafea283  Daster Batik Lengan pendek - Motif Acak / Camp...   \n",
       "4      a6f319f924ad708c                  Nescafe \\xc3\\x89clair Latte 220ml   \n",
       "...                 ...                                                ...   \n",
       "34245  e3cd72389f248f21  Masker Bahan Kain Spunbond Non Woven 75 gsm 3 ...   \n",
       "34246  be86851f72e2853c    MamyPoko Pants Royal Soft - S 70 - Popok Celana   \n",
       "34247  ad27f0d08c0fcbf0  KHANZAACC Robot RE101S 1.2mm Subwoofer Bass Me...   \n",
       "34248  e3b13bd1d896c05c  Kaldu NON MSG HALAL Mama Kamu Ayam Kampung , S...   \n",
       "34249  af8bc4b2d2cf9083  FLEX TAPE PELAPIS BOCOR / ISOLASI AJAIB / ANTI...   \n",
       "\n",
       "       label_group  \n",
       "0        249114794  \n",
       "1       2937985045  \n",
       "2       2395904891  \n",
       "3       4093212188  \n",
       "4       3648931069  \n",
       "...            ...  \n",
       "34245   3776555725  \n",
       "34246   2736479533  \n",
       "34247   4101248785  \n",
       "34248   1663538013  \n",
       "34249    459464107  \n",
       "\n",
       "[34250 rows x 5 columns]"
      ]
     },
     "execution_count": 34,
     "metadata": {},
     "output_type": "execute_result"
    }
   ],
   "source": [
    "resize_images()"
   ]
  },
  {
   "cell_type": "code",
   "execution_count": null,
   "id": "gorgeous-dealer",
   "metadata": {},
   "outputs": [],
   "source": []
  },
  {
   "cell_type": "markdown",
   "id": "overall-nirvana",
   "metadata": {
    "heading_collapsed": true
   },
   "source": [
    "## Intensity normalization"
   ]
  },
  {
   "cell_type": "markdown",
   "id": "occasional-guide",
   "metadata": {
    "hidden": true
   },
   "source": [
    "Neural networks converge faster if the inputs are somewhat normalized. Therefore we want to transform the image pixels with values between 0 and 255 (for each color) into values between -1 and 1, thanks to Keras libraries (or just by dividing all the data by 255)"
   ]
  },
  {
   "cell_type": "code",
   "execution_count": null,
   "id": "right-render",
   "metadata": {
    "hidden": true
   },
   "outputs": [],
   "source": []
  },
  {
   "cell_type": "code",
   "execution_count": null,
   "id": "pursuant-technique",
   "metadata": {
    "hidden": true
   },
   "outputs": [],
   "source": []
  },
  {
   "cell_type": "markdown",
   "id": "announced-voltage",
   "metadata": {},
   "source": [
    "## Data augmentation"
   ]
  },
  {
   "cell_type": "markdown",
   "id": "gentle-measurement",
   "metadata": {},
   "source": [
    "Creation of additionnal data to explore : \n",
    "- Mirror\n",
    "- Crop\n",
    "- rotations\n",
    "- slight transformation of the colors\n",
    "- change of the textures\n",
    "- \"photoshop effects\": blur, halo, ...\n",
    "- deformations\n",
    "- ..."
   ]
  },
  {
   "cell_type": "markdown",
   "id": "professional-plastic",
   "metadata": {},
   "source": []
  },
  {
   "cell_type": "code",
   "execution_count": null,
   "id": "powered-killer",
   "metadata": {},
   "outputs": [],
   "source": []
  },
  {
   "cell_type": "code",
   "execution_count": null,
   "id": "universal-litigation",
   "metadata": {},
   "outputs": [],
   "source": []
  },
  {
   "cell_type": "code",
   "execution_count": 35,
   "id": "proprietary-greenhouse",
   "metadata": {
    "ExecuteTime": {
     "end_time": "2021-04-26T10:45:09.236534Z",
     "start_time": "2021-04-26T10:45:09.128951Z"
    }
   },
   "outputs": [],
   "source": [
    "from tensorflow.keras.models import Sequential\n",
    "from tensorflow.keras.layers import Dense, Reshape\n",
    "\n",
    "model = Sequential()\n",
    "model.add(Reshape((5*5*1,), input_shape=(5,5,1)))  # This flattens the (5, 5, 1) image to a vector of size 25\n",
    "model.add(Dense(100, activation='relu'))\n",
    "model.add(Dense(10, activation='softmax')) "
   ]
  },
  {
   "cell_type": "code",
   "execution_count": null,
   "id": "received-opposition",
   "metadata": {},
   "outputs": [],
   "source": []
  },
  {
   "cell_type": "code",
   "execution_count": null,
   "id": "impressive-wealth",
   "metadata": {},
   "outputs": [],
   "source": []
  },
  {
   "cell_type": "markdown",
   "id": "applied-companion",
   "metadata": {},
   "source": [
    "# Preprocessing on titles "
   ]
  },
  {
   "cell_type": "code",
   "execution_count": 36,
   "id": "enhanced-priest",
   "metadata": {
    "ExecuteTime": {
     "end_time": "2021-04-26T10:45:09.302864Z",
     "start_time": "2021-04-26T10:45:09.238897Z"
    }
   },
   "outputs": [],
   "source": [
    "# pip install nltk"
   ]
  },
  {
   "cell_type": "markdown",
   "id": "american-stamp",
   "metadata": {},
   "source": [
    "- Lowercase\n",
    "- remove numbers\n",
    "- remove punctuation\n",
    "- remove stop words\n",
    "- select important words with stemmer"
   ]
  },
  {
   "cell_type": "code",
   "execution_count": 37,
   "id": "alien-merit",
   "metadata": {
    "ExecuteTime": {
     "end_time": "2021-04-26T10:45:09.361732Z",
     "start_time": "2021-04-26T10:45:09.304761Z"
    }
   },
   "outputs": [
    {
     "name": "stdout",
     "output_type": "stream",
     "text": [
      "label_group unique values: 11014\n"
     ]
    }
   ],
   "source": [
    "#labels\n",
    "print(f\"label_group unique values: {train_df['label_group'].nunique()}\")"
   ]
  },
  {
   "cell_type": "code",
   "execution_count": 38,
   "id": "lightweight-insert",
   "metadata": {
    "ExecuteTime": {
     "end_time": "2021-04-26T10:45:09.424042Z",
     "start_time": "2021-04-26T10:45:09.364095Z"
    }
   },
   "outputs": [
    {
     "name": "stdout",
     "output_type": "stream",
     "text": [
      "Max no. of apparitions in 1 group: 51 \n",
      "Min no. of apparitions in 1 group: 2\n"
     ]
    }
   ],
   "source": [
    "groups_df = train_df[\"label_group\"].value_counts().reset_index()\n",
    "groups_df.columns = [\"group\", \"count\"]\n",
    "print(\"Max no. of apparitions in 1 group: {}\".format(groups_df[\"count\"].max()), \"\\n\" +\n",
    "      \"Min no. of apparitions in 1 group: {}\".format(groups_df[\"count\"].min()))"
   ]
  },
  {
   "cell_type": "code",
   "execution_count": 39,
   "id": "accepted-synthesis",
   "metadata": {
    "ExecuteTime": {
     "end_time": "2021-04-26T10:45:09.862845Z",
     "start_time": "2021-04-26T10:45:09.426979Z"
    }
   },
   "outputs": [
    {
     "data": {
      "image/png": "[encoded data removed]",
      "text/plain": [
       "<Figure size 864x432 with 1 Axes>"
      ]
     },
     "metadata": {},
     "output_type": "display_data"
    }
   ],
   "source": [
    "# Plot labels distribution\n",
    "sns.set_style(\"whitegrid\")\n",
    "plt.figure(figsize = (12, 6))\n",
    "plt.title('Group Count Distribution', fontsize = '15')\n",
    "sns.kdeplot(groups_df['count'], fill = True, \n",
    "            color = '#f15335', \n",
    "            edgecolor = 'black', alpha = 0.9)\n",
    "plt.xlabel('Label count')\n",
    "plt.show();"
   ]
  },
  {
   "cell_type": "code",
   "execution_count": 40,
   "id": "signed-superior",
   "metadata": {
    "ExecuteTime": {
     "end_time": "2021-04-26T10:45:10.484355Z",
     "start_time": "2021-04-26T10:45:09.866094Z"
    }
   },
   "outputs": [
    {
     "data": {
      "image/png": "[encoded data removed]",
      "text/plain": [
       "<Figure size 864x432 with 1 Axes>"
      ]
     },
     "metadata": {},
     "output_type": "display_data"
    }
   ],
   "source": [
    "# Plot titles length distribution\n",
    "sns.set_style(\"whitegrid\")\n",
    "plt.figure(figsize = (12, 6))\n",
    "plt.title('Distribution of title length', fontsize = '15')\n",
    "sns.kdeplot(train_df['title'].apply(lambda x: len(x)), fill = True, \n",
    "            color = '#f15335', \n",
    "            edgecolor = 'black', alpha = 0.9)\n",
    "plt.xlabel('Title length')\n",
    "plt.show();"
   ]
  },
  {
   "cell_type": "code",
   "execution_count": 41,
   "id": "discrete-milan",
   "metadata": {
    "ExecuteTime": {
     "end_time": "2021-04-26T10:45:10.544196Z",
     "start_time": "2021-04-26T10:45:10.486874Z"
    }
   },
   "outputs": [],
   "source": [
    "# !pip install -U textblob\n",
    "# !python -m textblob.download_corpora"
   ]
  },
  {
   "cell_type": "code",
   "execution_count": 42,
   "id": "racial-cooling",
   "metadata": {
    "ExecuteTime": {
     "end_time": "2021-04-26T10:45:14.476279Z",
     "start_time": "2021-04-26T10:45:10.548160Z"
    }
   },
   "outputs": [
    {
     "name": "stdout",
     "output_type": "stream",
     "text": [
      "Before: Double Tape 3M VHB 12 mm x 4,5 m ORIGINAL / DOUBLE FOAM TAPE\n",
      "Lower case: double tape 3m vhb 12 mm x 4,5 m original / double foam tape\n",
      "Remove punctuation: double tape 3m vhb 12 mm x 45 m original  double foam tape\n",
      "Remove whitespaces: double tape 3m vhb 12 mm x 45 m original  double foam tape\n",
      "Tokenized: ['double', 'tape', '3m', 'vhb', '12', 'mm', 'x', '45', 'm', 'original', 'double', 'foam', 'tape']\n",
      "Remove stopwords: ['double', 'tape', '3m', 'vhb', '12', 'mm', 'x', '45', 'original', 'double', 'foam', 'tape']\n",
      "Lemmatization: ['double', 'tape', '3m', 'vhb', '12', 'mm', 'x', '45', 'original', 'double', 'foam', 'tape']\n",
      "Part_Of_Speech: [('double', 'JJ'), ('tape', 'NN'), ('3m', 'CD'), ('vhb', 'NN'), ('12', 'CD'), ('mm', 'NN'), ('x', 'VBD'), ('45', 'CD'), ('original', 'JJ'), ('double', 'JJ'), ('foam', 'NN'), ('tape', 'NN')]\n"
     ]
    }
   ],
   "source": [
    "import string \n",
    "from nltk.corpus import stopwords \n",
    "from nltk.tokenize import word_tokenize\n",
    "from nltk.stem.porter import PorterStemmer\n",
    "from nltk.stem import PorterStemmer, WordNetLemmatizer\n",
    "from textblob import TextBlob\n",
    "\n",
    "unpreproc_title = train_df[\"title\"][1]\n",
    "print(f\"Before: {unpreproc_title}\")\n",
    "lower_title = unpreproc_title.lower()\n",
    "print(f\"Lower case: {lower_title}\")\n",
    "punct = \"!”#$%&’()*+,-./:;<=>?@[\\]^_`{|}~]:\"\n",
    "rem_punct = lower_title.translate(str.maketrans('','',string.punctuation))\n",
    "print(f\"Remove punctuation: {rem_punct}\")\n",
    "rem_whitespaces = rem_punct.strip()\n",
    "print(f\"Remove whitespaces: {rem_whitespaces}\")\n",
    "tokenize = word_tokenize(rem_whitespaces)\n",
    "print(f\"Tokenized: {tokenize}\")\n",
    "rem_stop_words = [word for word in tokenize if not word in stopwords.words()]\n",
    "print(f\"Remove stopwords: {rem_stop_words}\")\n",
    "lemmatizer = WordNetLemmatizer()\n",
    "lemmatized_text = [lemmatizer.lemmatize(word) for word in rem_stop_words]\n",
    "print(f\"Lemmatization: {lemmatized_text}\")\n",
    "pos_text = TextBlob(' '.join(lemmatized_text))\n",
    "print(f\"Part_Of_Speech: {pos_text.tags}\")\n"
   ]
  },
  {
   "cell_type": "code",
   "execution_count": 43,
   "id": "adopted-patio",
   "metadata": {
    "ExecuteTime": {
     "end_time": "2021-04-26T10:45:14.583559Z",
     "start_time": "2021-04-26T10:45:14.480203Z"
    }
   },
   "outputs": [],
   "source": [
    "def preproc_title(title):\n",
    "    title = title.lower()\n",
    "    title = title.translate(str.maketrans('','',string.punctuation))\n",
    "    title = title.strip()\n",
    "    tokens_title = word_tokenize(title)\n",
    "    tokens_title = [word for word in tokens_title if not word in stopwords.words()]\n",
    "    lemmatizer = WordNetLemmatizer()\n",
    "    lemm_text = [lemmatizer.lemmatize(word) for word in tokens_title]\n",
    "    preproc_title = ' '.join(lemm_text)\n",
    "    return preproc_title\n",
    "\n",
    "def get_part_of_speech(prepped_title):\n",
    "    part_of_speech = TextBlob(prepped_title)\n",
    "    part_of_speech = ' '.join([j for (i, j) in pos_text.tags])\n",
    "    return part_of_speech"
   ]
  },
  {
   "cell_type": "code",
   "execution_count": 44,
   "id": "local-flash",
   "metadata": {
    "ExecuteTime": {
     "end_time": "2021-04-26T11:04:58.004038Z",
     "start_time": "2021-04-26T10:45:14.586110Z"
    }
   },
   "outputs": [],
   "source": [
    "train_df[\"preproc_title\"] = train_df[\"title\"].apply(lambda x: preproc_title(x))"
   ]
  },
  {
   "cell_type": "code",
   "execution_count": 45,
   "id": "protecting-pendant",
   "metadata": {
    "ExecuteTime": {
     "end_time": "2021-04-26T11:04:58.376338Z",
     "start_time": "2021-04-26T11:04:58.006339Z"
    }
   },
   "outputs": [],
   "source": [
    "train_df[\"part_of_speech\"] = train_df[\"preproc_title\"].apply(lambda x: get_part_of_speech(x))"
   ]
  },
  {
   "cell_type": "code",
   "execution_count": 46,
   "id": "three-favorite",
   "metadata": {
    "ExecuteTime": {
     "end_time": "2021-04-26T11:04:58.474242Z",
     "start_time": "2021-04-26T11:04:58.378847Z"
    }
   },
   "outputs": [],
   "source": [
    "# Read in prepped data\n",
    "# train_df_prep = pd.read_csv(\"../raw_data/shopee-preprocessed-data/train_title_prepped.csv\")\n",
    "# train_df_prep[\"label_group\"] = train_df_prep[\"label_group\"].astype(str)"
   ]
  },
  {
   "cell_type": "code",
   "execution_count": null,
   "id": "acquired-faculty",
   "metadata": {},
   "outputs": [],
   "source": []
  }
 ],
 "metadata": {
  "kernelspec": {
   "display_name": "Python 3",
   "language": "python",
   "name": "python3"
  },
  "language_info": {
   "codemirror_mode": {
    "name": "ipython",
    "version": 3
   },
   "file_extension": ".py",
   "mimetype": "text/x-python",
   "name": "python",
   "nbconvert_exporter": "python",
   "pygments_lexer": "ipython3",
   "version": "3.8.6"
  },
  "toc": {
   "base_numbering": 1,
   "nav_menu": {},
   "number_sections": true,
   "sideBar": true,
   "skip_h1_title": false,
   "title_cell": "Table of Contents",
   "title_sidebar": "Contents",
   "toc_cell": false,
   "toc_position": {},
   "toc_section_display": true,
   "toc_window_display": false
  },
  "varInspector": {
   "cols": {
    "lenName": 16,
    "lenType": 16,
    "lenVar": 40
   },
   "kernels_config": {
    "python": {
     "delete_cmd_postfix": "",
     "delete_cmd_prefix": "del ",
     "library": "var_list.py",
     "varRefreshCmd": "print(var_dic_list())"
    },
    "r": {
     "delete_cmd_postfix": ") ",
     "delete_cmd_prefix": "rm(",
     "library": "var_list.r",
     "varRefreshCmd": "cat(var_dic_list()) "
    }
   },
   "position": {
    "height": "457.5px",
    "left": "1437.5px",
    "right": "20px",
    "top": "120px",
    "width": "342.5px"
   },
   "types_to_exclude": [
    "module",
    "function",
    "builtin_function_or_method",
    "instance",
    "_Feature"
   ],
   "window_display": false
  }
 },
 "nbformat": 4,
 "nbformat_minor": 5
}
