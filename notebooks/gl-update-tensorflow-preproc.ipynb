{
 "cells": [
  {
   "cell_type": "code",
   "execution_count": null,
   "id": "dressed-gentleman",
   "metadata": {
    "ExecuteTime": {
     "end_time": "2021-04-29T18:03:24.106538Z",
     "start_time": "2021-04-29T18:03:24.079600Z"
    }
   },
   "outputs": [],
   "source": [
    "# Enable autoreload\n",
    "%load_ext autoreload\n",
    "%autoreload 2\n",
    "\n",
    "# Pylint parameters\n",
    "%config Completer.use_jedi = False\n",
    "\n",
    "# Measure Runtime\n",
    "# !pip install ipython-autotime\n",
    "# %load_ext autotime\n",
    "\n",
    "# Mute warnings\n",
    "import warnings\n",
    "warnings.filterwarnings('ignore')"
   ]
  },
  {
   "cell_type": "code",
   "execution_count": null,
   "id": "metric-panama",
   "metadata": {
    "ExecuteTime": {
     "end_time": "2021-04-29T18:03:25.119412Z",
     "start_time": "2021-04-29T18:03:24.109080Z"
    }
   },
   "outputs": [],
   "source": [
    "import matplotlib.pyplot as plt\n",
    "import numpy as np\n",
    "import pandas as pd\n",
    "import seaborn as sns"
   ]
  },
  {
   "cell_type": "code",
   "execution_count": null,
   "id": "exempt-absorption",
   "metadata": {
    "ExecuteTime": {
     "end_time": "2021-04-29T18:03:25.277630Z",
     "start_time": "2021-04-29T18:03:25.122129Z"
    }
   },
   "outputs": [],
   "source": [
    "!pwd"
   ]
  },
  {
   "cell_type": "code",
   "execution_count": null,
   "id": "rental-ending",
   "metadata": {
    "ExecuteTime": {
     "end_time": "2021-04-29T18:03:25.429436Z",
     "start_time": "2021-04-29T18:03:25.282449Z"
    }
   },
   "outputs": [],
   "source": [
    "train_data = pd.read_csv('../raw_data/shopee-product-matching/train.csv') \n",
    "test_data = pd.read_csv('../raw_data/shopee-product-matching/test.csv')\n",
    "ss_data = pd.read_csv('../raw_data/shopee-product-matching/sample_submission.csv', index_col = 0)"
   ]
  },
  {
   "cell_type": "code",
   "execution_count": null,
   "id": "lucky-swift",
   "metadata": {
    "ExecuteTime": {
     "end_time": "2021-04-29T18:03:25.457177Z",
     "start_time": "2021-04-29T18:03:25.431902Z"
    }
   },
   "outputs": [],
   "source": [
    "train_df = train_data.copy()\n",
    "test_df = train_data.copy()\n",
    "ss_df = train_data.copy()"
   ]
  },
  {
   "cell_type": "code",
   "execution_count": null,
   "id": "ecological-workplace",
   "metadata": {
    "ExecuteTime": {
     "end_time": "2021-04-29T18:03:25.482454Z",
     "start_time": "2021-04-29T18:03:25.459348Z"
    }
   },
   "outputs": [],
   "source": [
    "train_df.size"
   ]
  },
  {
   "cell_type": "code",
   "execution_count": null,
   "id": "copyrighted-extra",
   "metadata": {
    "ExecuteTime": {
     "end_time": "2021-04-29T18:03:25.521811Z",
     "start_time": "2021-04-29T18:03:25.488496Z"
    }
   },
   "outputs": [],
   "source": [
    "train_df.head()"
   ]
  },
  {
   "cell_type": "code",
   "execution_count": null,
   "id": "experimental-association",
   "metadata": {
    "ExecuteTime": {
     "end_time": "2021-04-29T18:03:25.564736Z",
     "start_time": "2021-04-29T18:03:25.526152Z"
    }
   },
   "outputs": [],
   "source": [
    "train_df.info()"
   ]
  },
  {
   "cell_type": "code",
   "execution_count": null,
   "id": "administrative-healthcare",
   "metadata": {
    "ExecuteTime": {
     "end_time": "2021-04-29T18:03:25.615491Z",
     "start_time": "2021-04-29T18:03:25.567201Z"
    }
   },
   "outputs": [],
   "source": [
    "train_df.describe()"
   ]
  },
  {
   "cell_type": "code",
   "execution_count": null,
   "id": "catholic-slave",
   "metadata": {
    "ExecuteTime": {
     "end_time": "2021-04-29T18:03:25.650225Z",
     "start_time": "2021-04-29T18:03:25.618142Z"
    }
   },
   "outputs": [],
   "source": [
    "train_df['image'].shape"
   ]
  },
  {
   "cell_type": "code",
   "execution_count": null,
   "id": "competitive-yemen",
   "metadata": {
    "ExecuteTime": {
     "end_time": "2021-04-29T18:03:25.748254Z",
     "start_time": "2021-04-29T18:03:25.654169Z"
    }
   },
   "outputs": [],
   "source": [
    "train_df.nunique()"
   ]
  },
  {
   "cell_type": "code",
   "execution_count": null,
   "id": "written-malta",
   "metadata": {
    "ExecuteTime": {
     "end_time": "2021-04-29T18:03:25.795320Z",
     "start_time": "2021-04-29T18:03:25.751460Z"
    }
   },
   "outputs": [],
   "source": [
    "train_df.isna().sum()"
   ]
  },
  {
   "cell_type": "markdown",
   "id": "minus-sigma",
   "metadata": {},
   "source": [
    "# Image preprocessing"
   ]
  },
  {
   "cell_type": "markdown",
   "id": "amateur-milwaukee",
   "metadata": {},
   "source": [
    "## Resizing"
   ]
  },
  {
   "cell_type": "markdown",
   "id": "functional-tyler",
   "metadata": {},
   "source": [
    "We want to reshape the images in smaller size (state-of-the-art networks are trained on (224,224,3) images / tensors)"
   ]
  },
  {
   "cell_type": "code",
   "execution_count": null,
   "id": "acquired-faculty",
   "metadata": {
    "ExecuteTime": {
     "end_time": "2021-04-29T18:03:31.299633Z",
     "start_time": "2021-04-29T18:03:25.799076Z"
    }
   },
   "outputs": [],
   "source": [
    "import numpy as np\n",
    "import os\n",
    "import PIL\n",
    "import PIL.Image\n",
    "import tensorflow as tf\n",
    "#import tensorflow_datasets as tfds\n",
    "import pathlib"
   ]
  },
  {
   "cell_type": "code",
   "execution_count": null,
   "id": "productive-wales",
   "metadata": {
    "ExecuteTime": {
     "end_time": "2021-04-29T18:03:31.361387Z",
     "start_time": "2021-04-29T18:03:31.302354Z"
    }
   },
   "outputs": [],
   "source": [
    "batch_size = 32\n",
    "img_height = 100\n",
    "img_width = 100"
   ]
  },
  {
   "cell_type": "code",
   "execution_count": null,
   "id": "nuclear-institution",
   "metadata": {
    "ExecuteTime": {
     "end_time": "2021-04-29T18:03:31.408793Z",
     "start_time": "2021-04-29T18:03:31.363025Z"
    }
   },
   "outputs": [],
   "source": [
    "dataset_url = \"../raw_data/shopee-product-matching/train_images/resized/\"\n"
   ]
  },
  {
   "cell_type": "code",
   "execution_count": null,
   "id": "public-october",
   "metadata": {
    "ExecuteTime": {
     "end_time": "2021-04-29T18:03:35.087867Z",
     "start_time": "2021-04-29T18:03:31.411050Z"
    }
   },
   "outputs": [],
   "source": [
    "train_ds = tf.keras.preprocessing.image_dataset_from_directory(\n",
    "  '../raw_data/shopee-product-matching/train_images/',\n",
    "  image_size=(img_height, img_width),\n",
    "  batch_size=batch_size)"
   ]
  },
  {
   "cell_type": "code",
   "execution_count": null,
   "id": "iraqi-style",
   "metadata": {
    "ExecuteTime": {
     "end_time": "2021-04-29T18:03:35.171425Z",
     "start_time": "2021-04-29T18:03:35.090784Z"
    }
   },
   "outputs": [],
   "source": [
    "os.path.dirname(os.path.abspath(os.getcwd()))"
   ]
  },
  {
   "cell_type": "code",
   "execution_count": null,
   "id": "perceived-bracket",
   "metadata": {
    "ExecuteTime": {
     "end_time": "2021-04-29T18:03:35.240983Z",
     "start_time": "2021-04-29T18:03:35.174458Z"
    }
   },
   "outputs": [],
   "source": [
    "    parent_dir = os.path.dirname(os.path.abspath(os.getcwd()))\n",
    "    data = 'raw_data/shopee-product-matching/train_images/resized'"
   ]
  },
  {
   "cell_type": "code",
   "execution_count": null,
   "id": "white-sender",
   "metadata": {
    "ExecuteTime": {
     "end_time": "2021-04-29T18:03:43.507842Z",
     "start_time": "2021-04-29T18:03:35.244902Z"
    }
   },
   "outputs": [],
   "source": [
    "for value in train_data.label_group.values:\n",
    "    directory = str(value)\n",
    "    parent_dir = os.path.dirname(os.path.abspath(os.getcwd()))\n",
    "    data = 'raw_data/shopee-product-matching/train_images/'\n",
    "    path_to_create = os.path.join(parent_dir, data, directory)\n",
    "    try:\n",
    "        os.mkdir(path_to_create)\n",
    "        print(\"Directory '% s' created\" % directory)\n",
    "    except:\n",
    "        print(\"File existing\")\n",
    "    #print(path_to_create)"
   ]
  },
  {
   "cell_type": "code",
   "execution_count": null,
   "id": "likely-joyce",
   "metadata": {
    "ExecuteTime": {
     "end_time": "2021-04-29T18:03:43.575879Z",
     "start_time": "2021-04-29T18:03:43.509761Z"
    }
   },
   "outputs": [],
   "source": [
    "parent_path = os.path.join(parent_dir, data)"
   ]
  },
  {
   "cell_type": "code",
   "execution_count": null,
   "id": "comic-stanley",
   "metadata": {
    "ExecuteTime": {
     "end_time": "2021-04-29T18:03:43.825870Z",
     "start_time": "2021-04-29T18:03:43.579432Z"
    }
   },
   "outputs": [],
   "source": [
    "parent_path = os.path.join(parent_dir, data)\n",
    "list_dir = os.listdir(parent_path)\n",
    "list_image = []\n",
    "for i in os.listdir(parent_path):\n",
    "    #print(i)\n",
    "    if os.path.isfile(os.path.join(os.path.join(parent_dir, data),i)):\n",
    "         list_image.append(i)\n",
    "list_image"
   ]
  },
  {
   "cell_type": "code",
   "execution_count": null,
   "id": "acute-there",
   "metadata": {
    "ExecuteTime": {
     "end_time": "2021-04-29T18:03:43.898882Z",
     "start_time": "2021-04-29T18:03:43.834684Z"
    }
   },
   "outputs": [],
   "source": [
    "train_data"
   ]
  },
  {
   "cell_type": "code",
   "execution_count": null,
   "id": "double-cambridge",
   "metadata": {
    "ExecuteTime": {
     "end_time": "2021-04-29T18:03:43.987148Z",
     "start_time": "2021-04-29T18:03:43.905416Z"
    },
    "scrolled": true
   },
   "outputs": [],
   "source": [
    "import shutil\n",
    "\n",
    "for image in list_image:\n",
    "    try:\n",
    "        source = parent_path\n",
    "        destination = str(list(train_data[train_data['image'] == image]['label_group'])[0])\n",
    "        print(image)\n",
    "        print(destination)\n",
    "        print(os.path.join(source,destination))\n",
    "        new_path = shutil.move(f\"{source}/{image}\", f\"{source}/{destination}/{image}\")\n",
    "    except:\n",
    "        print('nothing')"
   ]
  },
  {
   "cell_type": "code",
   "execution_count": null,
   "id": "persistent-seven",
   "metadata": {
    "ExecuteTime": {
     "end_time": "2021-04-29T18:03:45.999154Z",
     "start_time": "2021-04-29T18:03:43.991660Z"
    }
   },
   "outputs": [],
   "source": [
    "import matplotlib.pyplot as plt\n",
    "import seaborn as sns\n",
    "\n",
    "import tensorflow.keras\n",
    "from tensorflow.keras.models import Sequential\n",
    "from tensorflow.keras.layers import Dense, Conv2D , MaxPool2D , Flatten , Dropout \n",
    "from tensorflow.keras.preprocessing.image import ImageDataGenerator\n",
    "from tensorflow.keras.optimizers import Adam\n",
    "\n",
    "from sklearn.metrics import classification_report,confusion_matrix\n",
    "\n",
    "import tensorflow as tf\n",
    "\n",
    "!pip install cv2\n",
    "\n",
    "# import cv2\n",
    "import os\n",
    "\n",
    "import numpy as np"
   ]
  },
  {
   "cell_type": "code",
   "execution_count": null,
   "id": "velvet-photographer",
   "metadata": {
    "ExecuteTime": {
     "end_time": "2021-04-29T18:03:46.089392Z",
     "start_time": "2021-04-29T18:03:46.003525Z"
    }
   },
   "outputs": [],
   "source": [
    "data_dir = pathlib.Path(parent_path)\n",
    "data_dir"
   ]
  },
  {
   "cell_type": "code",
   "execution_count": null,
   "id": "clean-antarctica",
   "metadata": {
    "ExecuteTime": {
     "end_time": "2021-04-29T18:03:46.916014Z",
     "start_time": "2021-04-29T18:03:46.092262Z"
    }
   },
   "outputs": [],
   "source": [
    "image_count = len(list(data_dir.glob('*/*.jpg')))\n",
    "print(image_count)"
   ]
  },
  {
   "cell_type": "code",
   "execution_count": null,
   "id": "asian-monster",
   "metadata": {
    "ExecuteTime": {
     "end_time": "2021-04-29T18:03:47.243524Z",
     "start_time": "2021-04-29T18:03:46.919036Z"
    }
   },
   "outputs": [],
   "source": [
    "check_1 = list(data_dir.glob('1429052699/*'))\n",
    "PIL.Image.open(str(check_1[1]))"
   ]
  },
  {
   "cell_type": "code",
   "execution_count": null,
   "id": "labeled-grenada",
   "metadata": {
    "ExecuteTime": {
     "end_time": "2021-04-29T18:03:47.304047Z",
     "start_time": "2021-04-29T18:03:47.246130Z"
    }
   },
   "outputs": [],
   "source": [
    "batch_size = 64\n",
    "img_height = 256\n",
    "img_width = 256"
   ]
  },
  {
   "cell_type": "code",
   "execution_count": null,
   "id": "clean-toronto",
   "metadata": {
    "ExecuteTime": {
     "end_time": "2021-04-29T18:03:50.057798Z",
     "start_time": "2021-04-29T18:03:47.306921Z"
    }
   },
   "outputs": [],
   "source": [
    "train_ds = tf.keras.preprocessing.image_dataset_from_directory(\n",
    "  data_dir,\n",
    "  # validation_split=0.2,\n",
    "  # subset=\"training\",\n",
    "  # seed=123,\n",
    "  image_size=(img_height, img_width),\n",
    "  batch_size=batch_size)"
   ]
  },
  {
   "cell_type": "code",
   "execution_count": null,
   "id": "major-controversy",
   "metadata": {
    "ExecuteTime": {
     "end_time": "2021-04-29T18:03:52.761985Z",
     "start_time": "2021-04-29T18:03:50.059649Z"
    }
   },
   "outputs": [],
   "source": [
    "val_ds = tf.keras.preprocessing.image_dataset_from_directory(\n",
    "  data_dir,\n",
    "  validation_split=0.2,\n",
    "  subset=\"validation\",\n",
    "  seed=123,\n",
    "  image_size=(img_height, img_width),\n",
    "  batch_size=batch_size)"
   ]
  },
  {
   "cell_type": "code",
   "execution_count": null,
   "id": "catholic-factory",
   "metadata": {
    "ExecuteTime": {
     "end_time": "2021-04-29T18:03:52.828101Z",
     "start_time": "2021-04-29T18:03:52.763919Z"
    }
   },
   "outputs": [],
   "source": [
    "class_names = train_ds.class_names\n",
    "print(class_names)"
   ]
  },
  {
   "cell_type": "code",
   "execution_count": null,
   "id": "norman-vocabulary",
   "metadata": {
    "ExecuteTime": {
     "end_time": "2021-04-29T18:03:55.976276Z",
     "start_time": "2021-04-29T18:03:52.832570Z"
    }
   },
   "outputs": [],
   "source": [
    "import matplotlib.pyplot as plt\n",
    "\n",
    "plt.figure(figsize=(10, 10))\n",
    "for images, labels in train_ds.take(1):\n",
    "  for i in range(9):\n",
    "    ax = plt.subplot(3, 3, i + 1)\n",
    "    plt.imshow(images[i].numpy().astype(\"uint8\"))\n",
    "    plt.title(class_names[labels[i]])\n",
    "    plt.axis(\"off\")"
   ]
  },
  {
   "cell_type": "code",
   "execution_count": null,
   "id": "known-champion",
   "metadata": {
    "ExecuteTime": {
     "end_time": "2021-04-29T18:03:58.011248Z",
     "start_time": "2021-04-29T18:03:55.979189Z"
    }
   },
   "outputs": [],
   "source": [
    "for image_batch, labels_batch in train_ds:\n",
    "  print(image_batch.shape)\n",
    "  print(labels_batch.shape)\n",
    "  break"
   ]
  },
  {
   "cell_type": "code",
   "execution_count": null,
   "id": "accepting-spirit",
   "metadata": {
    "ExecuteTime": {
     "end_time": "2021-04-29T18:03:58.095912Z",
     "start_time": "2021-04-29T18:03:58.014193Z"
    }
   },
   "outputs": [],
   "source": [
    "from tensorflow.keras import layers\n",
    "\n",
    "normalization_layer = tf.keras.layers.experimental.preprocessing.Rescaling(1./255)"
   ]
  },
  {
   "cell_type": "code",
   "execution_count": null,
   "id": "multiple-amazon",
   "metadata": {
    "ExecuteTime": {
     "end_time": "2021-04-29T18:04:00.051166Z",
     "start_time": "2021-04-29T18:03:58.099597Z"
    }
   },
   "outputs": [],
   "source": [
    "normalized_ds = train_ds.map(lambda x, y: (normalization_layer(x), y))\n",
    "image_batch, labels_batch = next(iter(normalized_ds))\n",
    "first_image = image_batch[0]\n",
    "# Notice the pixels values are now in `[0,1]`.\n",
    "print(np.min(first_image), np.max(first_image))"
   ]
  },
  {
   "cell_type": "code",
   "execution_count": null,
   "id": "mathematical-pilot",
   "metadata": {
    "ExecuteTime": {
     "end_time": "2021-04-29T18:04:00.153901Z",
     "start_time": "2021-04-29T18:04:00.053097Z"
    }
   },
   "outputs": [],
   "source": [
    "num_classes = 11015\n",
    "\n",
    "model = tf.keras.Sequential([\n",
    "  layers.experimental.preprocessing.Rescaling(1./255),\n",
    "  layers.Conv2D(64, 3, activation='tanh'),\n",
    "  layers.MaxPooling2D(),\n",
    "  layers.Conv2D(64, 3, activation='tanh'),\n",
    "  layers.MaxPooling2D(),\n",
    "  layers.Conv2D(64, 3, activation='tanh'),\n",
    "  layers.MaxPooling2D(),\n",
    "  layers.Flatten(),\n",
    "  layers.Dense(64, activation='softmax'),\n",
    "  layers.Dense(num_classes)\n",
    "])"
   ]
  },
  {
   "cell_type": "code",
   "execution_count": null,
   "id": "typical-viking",
   "metadata": {
    "ExecuteTime": {
     "end_time": "2021-04-29T18:04:00.232730Z",
     "start_time": "2021-04-29T18:04:00.157014Z"
    }
   },
   "outputs": [],
   "source": [
    "model.compile(\n",
    "  optimizer='adam',\n",
    "  loss=tf.losses.SparseCategoricalCrossentropy(from_logits=True),\n",
    "  metrics=['accuracy'])"
   ]
  },
  {
   "cell_type": "code",
   "execution_count": null,
   "id": "afraid-dynamics",
   "metadata": {
    "ExecuteTime": {
     "start_time": "2021-04-29T18:03:24.114Z"
    }
   },
   "outputs": [],
   "source": [
    "model.fit(\n",
    "  train_ds,\n",
    "  validation_data=val_ds,\n",
    "  epochs=128\n",
    ")"
   ]
  },
  {
   "cell_type": "code",
   "execution_count": null,
   "id": "patent-barbados",
   "metadata": {
    "ExecuteTime": {
     "start_time": "2021-04-29T18:03:24.115Z"
    }
   },
   "outputs": [],
   "source": [
    "model_2 = tf.keras.Sequential([\n",
    "  layers.experimental.preprocessing.Rescaling(1./255),\n",
    "  layers.Conv2D(64, 3, activation='tanh'),\n",
    "  layers.MaxPooling2D(),\n",
    "  layers.Conv2D(32, 3, activation='tanh'),\n",
    "  layers.MaxPooling2D(),\n",
    "  layers.Flatten(),\n",
    "  layers.Dense(32, activation='softmax'),\n",
    "  layers.Dense(num_classes)\n",
    "])"
   ]
  },
  {
   "cell_type": "code",
   "execution_count": null,
   "id": "descending-destiny",
   "metadata": {
    "ExecuteTime": {
     "start_time": "2021-04-29T18:03:24.117Z"
    }
   },
   "outputs": [],
   "source": [
    "model_2.compile(\n",
    "  optimizer='RMSprop',\n",
    "  loss=tf.losses.SparseCategoricalCrossentropy(from_logits=True),\n",
    "  metrics=['accuracy'])"
   ]
  },
  {
   "cell_type": "code",
   "execution_count": null,
   "id": "handled-breath",
   "metadata": {
    "ExecuteTime": {
     "start_time": "2021-04-29T18:03:24.118Z"
    }
   },
   "outputs": [],
   "source": [
    "model_2.fit(\n",
    "  train_ds,\n",
    "  validation_data=val_ds,\n",
    "  epochs=128\n",
    ")"
   ]
  },
  {
   "cell_type": "code",
   "execution_count": null,
   "id": "neural-pocket",
   "metadata": {},
   "outputs": [],
   "source": []
  }
 ],
 "metadata": {
  "kernelspec": {
   "display_name": "Python 3",
   "language": "python",
   "name": "python3"
  },
  "language_info": {
   "codemirror_mode": {
    "name": "ipython",
    "version": 3
   },
   "file_extension": ".py",
   "mimetype": "text/x-python",
   "name": "python",
   "nbconvert_exporter": "python",
   "pygments_lexer": "ipython3",
   "version": "3.8.6"
  },
  "toc": {
   "base_numbering": 1,
   "nav_menu": {},
   "number_sections": true,
   "sideBar": true,
   "skip_h1_title": false,
   "title_cell": "Table of Contents",
   "title_sidebar": "Contents",
   "toc_cell": false,
   "toc_position": {},
   "toc_section_display": true,
   "toc_window_display": false
  },
  "varInspector": {
   "cols": {
    "lenName": 16,
    "lenType": 16,
    "lenVar": 40
   },
   "kernels_config": {
    "python": {
     "delete_cmd_postfix": "",
     "delete_cmd_prefix": "del ",
     "library": "var_list.py",
     "varRefreshCmd": "print(var_dic_list())"
    },
    "r": {
     "delete_cmd_postfix": ") ",
     "delete_cmd_prefix": "rm(",
     "library": "var_list.r",
     "varRefreshCmd": "cat(var_dic_list()) "
    }
   },
   "position": {
    "height": "457.5px",
    "left": "1437.5px",
    "right": "20px",
    "top": "120px",
    "width": "342.5px"
   },
   "types_to_exclude": [
    "module",
    "function",
    "builtin_function_or_method",
    "instance",
    "_Feature"
   ],
   "window_display": false
  }
 },
 "nbformat": 4,
 "nbformat_minor": 5
}
