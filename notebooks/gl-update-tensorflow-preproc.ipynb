{
 "cells": [
  {
   "cell_type": "code",
   "execution_count": null,
   "id": "dressed-gentleman",
   "metadata": {
    "ExecuteTime": {
     "end_time": "2021-04-29T18:10:29.169253Z",
     "start_time": "2021-04-29T18:10:29.138329Z"
    }
   },
   "outputs": [],
   "source": [
    "# Enable autoreload\n",
    "%load_ext autoreload\n",
    "%autoreload 2\n",
    "\n",
    "# Pylint parameters\n",
    "%config Completer.use_jedi = False\n",
    "\n",
    "# Measure Runtime\n",
    "# !pip install ipython-autotime\n",
    "# %load_ext autotime\n",
    "\n",
    "# Mute warnings\n",
    "import warnings\n",
    "warnings.filterwarnings('ignore')"
   ]
  },
  {
   "cell_type": "code",
   "execution_count": null,
   "id": "metric-panama",
   "metadata": {
    "ExecuteTime": {
     "end_time": "2021-04-29T18:10:30.821073Z",
     "start_time": "2021-04-29T18:10:29.172449Z"
    }
   },
   "outputs": [],
   "source": [
    "import matplotlib.pyplot as plt\n",
    "import numpy as np\n",
    "import pandas as pd\n",
    "import seaborn as sns"
   ]
  },
  {
   "cell_type": "code",
   "execution_count": null,
   "id": "exempt-absorption",
   "metadata": {
    "ExecuteTime": {
     "end_time": "2021-04-29T18:10:30.985842Z",
     "start_time": "2021-04-29T18:10:30.824396Z"
    }
   },
   "outputs": [],
   "source": [
    "!pwd"
   ]
  },
  {
   "cell_type": "code",
   "execution_count": null,
   "id": "rental-ending",
   "metadata": {
    "ExecuteTime": {
     "end_time": "2021-04-29T18:10:31.148211Z",
     "start_time": "2021-04-29T18:10:30.988247Z"
    }
   },
   "outputs": [],
   "source": [
    "train_data = pd.read_csv('../raw_data/shopee-product-matching/train.csv') \n",
    "test_data = pd.read_csv('../raw_data/shopee-product-matching/test.csv')\n",
    "ss_data = pd.read_csv('../raw_data/shopee-product-matching/sample_submission.csv', index_col = 0)"
   ]
  },
  {
   "cell_type": "code",
   "execution_count": null,
   "id": "lucky-swift",
   "metadata": {
    "ExecuteTime": {
     "end_time": "2021-04-29T18:10:31.184328Z",
     "start_time": "2021-04-29T18:10:31.150707Z"
    }
   },
   "outputs": [],
   "source": [
    "train_df = train_data.copy()\n",
    "test_df = train_data.copy()\n",
    "ss_df = train_data.copy()"
   ]
  },
  {
   "cell_type": "code",
   "execution_count": null,
   "id": "ecological-workplace",
   "metadata": {
    "ExecuteTime": {
     "end_time": "2021-04-29T18:10:31.222287Z",
     "start_time": "2021-04-29T18:10:31.186658Z"
    }
   },
   "outputs": [],
   "source": [
    "train_df.size"
   ]
  },
  {
   "cell_type": "code",
   "execution_count": null,
   "id": "copyrighted-extra",
   "metadata": {
    "ExecuteTime": {
     "end_time": "2021-04-29T18:10:31.267269Z",
     "start_time": "2021-04-29T18:10:31.228174Z"
    }
   },
   "outputs": [],
   "source": [
    "train_df.head()"
   ]
  },
  {
   "cell_type": "code",
   "execution_count": null,
   "id": "experimental-association",
   "metadata": {
    "ExecuteTime": {
     "end_time": "2021-04-29T18:10:31.324928Z",
     "start_time": "2021-04-29T18:10:31.272319Z"
    }
   },
   "outputs": [],
   "source": [
    "train_df.info()"
   ]
  },
  {
   "cell_type": "code",
   "execution_count": null,
   "id": "administrative-healthcare",
   "metadata": {
    "ExecuteTime": {
     "end_time": "2021-04-29T18:10:31.393014Z",
     "start_time": "2021-04-29T18:10:31.328070Z"
    }
   },
   "outputs": [],
   "source": [
    "train_df.describe()"
   ]
  },
  {
   "cell_type": "code",
   "execution_count": null,
   "id": "catholic-slave",
   "metadata": {
    "ExecuteTime": {
     "end_time": "2021-04-29T18:10:31.435331Z",
     "start_time": "2021-04-29T18:10:31.395847Z"
    }
   },
   "outputs": [],
   "source": [
    "train_df['image'].shape"
   ]
  },
  {
   "cell_type": "code",
   "execution_count": null,
   "id": "competitive-yemen",
   "metadata": {
    "ExecuteTime": {
     "end_time": "2021-04-29T18:10:31.547043Z",
     "start_time": "2021-04-29T18:10:31.439362Z"
    }
   },
   "outputs": [],
   "source": [
    "train_df.nunique()"
   ]
  },
  {
   "cell_type": "code",
   "execution_count": null,
   "id": "written-malta",
   "metadata": {
    "ExecuteTime": {
     "end_time": "2021-04-29T18:10:31.601327Z",
     "start_time": "2021-04-29T18:10:31.551392Z"
    }
   },
   "outputs": [],
   "source": [
    "train_df.isna().sum()"
   ]
  },
  {
   "cell_type": "markdown",
   "id": "minus-sigma",
   "metadata": {},
   "source": [
    "# Image preprocessing"
   ]
  },
  {
   "cell_type": "markdown",
   "id": "amateur-milwaukee",
   "metadata": {},
   "source": [
    "## Resizing"
   ]
  },
  {
   "cell_type": "markdown",
   "id": "functional-tyler",
   "metadata": {},
   "source": [
    "We want to reshape the images in smaller size (state-of-the-art networks are trained on (224,224,3) images / tensors)"
   ]
  },
  {
   "cell_type": "code",
   "execution_count": null,
   "id": "acquired-faculty",
   "metadata": {
    "ExecuteTime": {
     "end_time": "2021-04-29T18:10:37.108531Z",
     "start_time": "2021-04-29T18:10:31.606457Z"
    }
   },
   "outputs": [],
   "source": [
    "import numpy as np\n",
    "import os\n",
    "import PIL\n",
    "import PIL.Image\n",
    "import tensorflow as tf\n",
    "#import tensorflow_datasets as tfds\n",
    "import pathlib"
   ]
  },
  {
   "cell_type": "code",
   "execution_count": null,
   "id": "productive-wales",
   "metadata": {
    "ExecuteTime": {
     "end_time": "2021-04-29T18:10:37.186806Z",
     "start_time": "2021-04-29T18:10:37.112128Z"
    }
   },
   "outputs": [],
   "source": [
    "batch_size = 32\n",
    "img_height = 100\n",
    "img_width = 100"
   ]
  },
  {
   "cell_type": "code",
   "execution_count": null,
   "id": "nuclear-institution",
   "metadata": {
    "ExecuteTime": {
     "end_time": "2021-04-29T18:10:37.283438Z",
     "start_time": "2021-04-29T18:10:37.191512Z"
    }
   },
   "outputs": [],
   "source": [
    "dataset_url = \"../raw_data/shopee-product-matching/train_images/resized/\"\n"
   ]
  },
  {
   "cell_type": "code",
   "execution_count": null,
   "id": "public-october",
   "metadata": {
    "ExecuteTime": {
     "end_time": "2021-04-29T18:10:42.163007Z",
     "start_time": "2021-04-29T18:10:37.286621Z"
    }
   },
   "outputs": [],
   "source": [
    "train_ds = tf.keras.preprocessing.image_dataset_from_directory(\n",
    "  '../raw_data/shopee-product-matching/train_images/',\n",
    "  image_size=(img_height, img_width),\n",
    "  batch_size=batch_size)"
   ]
  },
  {
   "cell_type": "code",
   "execution_count": null,
   "id": "iraqi-style",
   "metadata": {
    "ExecuteTime": {
     "end_time": "2021-04-29T18:10:42.244427Z",
     "start_time": "2021-04-29T18:10:42.165822Z"
    }
   },
   "outputs": [],
   "source": [
    "os.path.dirname(os.path.abspath(os.getcwd()))"
   ]
  },
  {
   "cell_type": "code",
   "execution_count": null,
   "id": "perceived-bracket",
   "metadata": {
    "ExecuteTime": {
     "end_time": "2021-04-29T18:10:42.331843Z",
     "start_time": "2021-04-29T18:10:42.247092Z"
    }
   },
   "outputs": [],
   "source": [
    "    parent_dir = os.path.dirname(os.path.abspath(os.getcwd()))\n",
    "    data = 'raw_data/shopee-product-matching/train_images/resized'"
   ]
  },
  {
   "cell_type": "code",
   "execution_count": null,
   "id": "white-sender",
   "metadata": {
    "ExecuteTime": {
     "end_time": "2021-04-29T18:10:52.944819Z",
     "start_time": "2021-04-29T18:10:42.336486Z"
    }
   },
   "outputs": [],
   "source": [
    "for value in train_data.label_group.values:\n",
    "    directory = str(value)\n",
    "    parent_dir = os.path.dirname(os.path.abspath(os.getcwd()))\n",
    "    data = 'raw_data/shopee-product-matching/train_images/'\n",
    "    path_to_create = os.path.join(parent_dir, data, directory)\n",
    "    try:\n",
    "        os.mkdir(path_to_create)\n",
    "        print(\"Directory '% s' created\" % directory)\n",
    "    except:\n",
    "        print(\"File existing\")\n",
    "    #print(path_to_create)"
   ]
  },
  {
   "cell_type": "code",
   "execution_count": null,
   "id": "likely-joyce",
   "metadata": {
    "ExecuteTime": {
     "end_time": "2021-04-29T18:10:53.027546Z",
     "start_time": "2021-04-29T18:10:52.947405Z"
    }
   },
   "outputs": [],
   "source": [
    "parent_path = os.path.join(parent_dir, data)"
   ]
  },
  {
   "cell_type": "code",
   "execution_count": null,
   "id": "comic-stanley",
   "metadata": {
    "ExecuteTime": {
     "end_time": "2021-04-29T18:10:53.311589Z",
     "start_time": "2021-04-29T18:10:53.030990Z"
    }
   },
   "outputs": [],
   "source": [
    "parent_path = os.path.join(parent_dir, data)\n",
    "list_dir = os.listdir(parent_path)\n",
    "list_image = []\n",
    "for i in os.listdir(parent_path):\n",
    "    #print(i)\n",
    "    if os.path.isfile(os.path.join(os.path.join(parent_dir, data),i)):\n",
    "         list_image.append(i)\n",
    "list_image"
   ]
  },
  {
   "cell_type": "code",
   "execution_count": null,
   "id": "acute-there",
   "metadata": {
    "ExecuteTime": {
     "end_time": "2021-04-29T18:10:53.413116Z",
     "start_time": "2021-04-29T18:10:53.321453Z"
    }
   },
   "outputs": [],
   "source": [
    "train_data"
   ]
  },
  {
   "cell_type": "code",
   "execution_count": null,
   "id": "double-cambridge",
   "metadata": {
    "ExecuteTime": {
     "end_time": "2021-04-29T18:10:53.516456Z",
     "start_time": "2021-04-29T18:10:53.421863Z"
    },
    "scrolled": true
   },
   "outputs": [],
   "source": [
    "import shutil\n",
    "\n",
    "for image in list_image:\n",
    "    try:\n",
    "        source = parent_path\n",
    "        destination = str(list(train_data[train_data['image'] == image]['label_group'])[0])\n",
    "        print(image)\n",
    "        print(destination)\n",
    "        print(os.path.join(source,destination))\n",
    "        new_path = shutil.move(f\"{source}/{image}\", f\"{source}/{destination}/{image}\")\n",
    "    except:\n",
    "        print('nothing')"
   ]
  },
  {
   "cell_type": "code",
   "execution_count": null,
   "id": "persistent-seven",
   "metadata": {
    "ExecuteTime": {
     "end_time": "2021-04-29T18:10:56.121865Z",
     "start_time": "2021-04-29T18:10:53.520652Z"
    }
   },
   "outputs": [],
   "source": [
    "import matplotlib.pyplot as plt\n",
    "import seaborn as sns\n",
    "\n",
    "import tensorflow.keras\n",
    "from tensorflow.keras.models import Sequential\n",
    "from tensorflow.keras.layers import Dense, Conv2D , MaxPool2D , Flatten , Dropout \n",
    "from tensorflow.keras.preprocessing.image import ImageDataGenerator\n",
    "from tensorflow.keras.optimizers import Adam\n",
    "\n",
    "from sklearn.metrics import classification_report,confusion_matrix\n",
    "\n",
    "import tensorflow as tf\n",
    "\n",
    "!pip install cv2\n",
    "\n",
    "# import cv2\n",
    "import os\n",
    "\n",
    "import numpy as np"
   ]
  },
  {
   "cell_type": "code",
   "execution_count": null,
   "id": "velvet-photographer",
   "metadata": {
    "ExecuteTime": {
     "end_time": "2021-04-29T18:10:56.211591Z",
     "start_time": "2021-04-29T18:10:56.125379Z"
    }
   },
   "outputs": [],
   "source": [
    "data_dir = pathlib.Path(parent_path)\n",
    "data_dir"
   ]
  },
  {
   "cell_type": "code",
   "execution_count": null,
   "id": "clean-antarctica",
   "metadata": {
    "ExecuteTime": {
     "end_time": "2021-04-29T18:10:57.000924Z",
     "start_time": "2021-04-29T18:10:56.214361Z"
    }
   },
   "outputs": [],
   "source": [
    "image_count = len(list(data_dir.glob('*/*.jpg')))\n",
    "print(image_count)"
   ]
  },
  {
   "cell_type": "code",
   "execution_count": null,
   "id": "asian-monster",
   "metadata": {
    "ExecuteTime": {
     "end_time": "2021-04-29T18:10:57.519036Z",
     "start_time": "2021-04-29T18:10:57.005672Z"
    }
   },
   "outputs": [],
   "source": [
    "check_1 = list(data_dir.glob('1429052699/*'))\n",
    "PIL.Image.open(str(check_1[1]))"
   ]
  },
  {
   "cell_type": "code",
   "execution_count": null,
   "id": "labeled-grenada",
   "metadata": {
    "ExecuteTime": {
     "end_time": "2021-04-29T18:10:57.612519Z",
     "start_time": "2021-04-29T18:10:57.523366Z"
    }
   },
   "outputs": [],
   "source": [
    "batch_size = 64\n",
    "img_height = 256\n",
    "img_width = 256"
   ]
  },
  {
   "cell_type": "code",
   "execution_count": null,
   "id": "clean-toronto",
   "metadata": {
    "ExecuteTime": {
     "end_time": "2021-04-29T18:11:01.535864Z",
     "start_time": "2021-04-29T18:10:57.616793Z"
    }
   },
   "outputs": [],
   "source": [
    "train_ds = tf.keras.preprocessing.image_dataset_from_directory(\n",
    "  data_dir,\n",
    "  # validation_split=0.2,\n",
    "  # subset=\"training\",\n",
    "  # seed=123,\n",
    "  image_size=(img_height, img_width),\n",
    "  batch_size=batch_size)"
   ]
  },
  {
   "cell_type": "code",
   "execution_count": null,
   "id": "major-controversy",
   "metadata": {
    "ExecuteTime": {
     "end_time": "2021-04-29T18:11:04.851146Z",
     "start_time": "2021-04-29T18:11:01.538567Z"
    }
   },
   "outputs": [],
   "source": [
    "val_ds = tf.keras.preprocessing.image_dataset_from_directory(\n",
    "  data_dir,\n",
    "  validation_split=0.2,\n",
    "  subset=\"validation\",\n",
    "  seed=123,\n",
    "  image_size=(img_height, img_width),\n",
    "  batch_size=batch_size)"
   ]
  },
  {
   "cell_type": "code",
   "execution_count": null,
   "id": "catholic-factory",
   "metadata": {
    "ExecuteTime": {
     "end_time": "2021-04-29T18:11:04.938212Z",
     "start_time": "2021-04-29T18:11:04.854904Z"
    }
   },
   "outputs": [],
   "source": [
    "class_names = train_ds.class_names\n",
    "print(class_names)"
   ]
  },
  {
   "cell_type": "code",
   "execution_count": null,
   "id": "norman-vocabulary",
   "metadata": {
    "ExecuteTime": {
     "end_time": "2021-04-29T18:11:12.308608Z",
     "start_time": "2021-04-29T18:11:04.942413Z"
    }
   },
   "outputs": [],
   "source": [
    "import matplotlib.pyplot as plt\n",
    "\n",
    "plt.figure(figsize=(10, 10))\n",
    "for images, labels in train_ds.take(1):\n",
    "  for i in range(9):\n",
    "    ax = plt.subplot(3, 3, i + 1)\n",
    "    plt.imshow(images[i].numpy().astype(\"uint8\"))\n",
    "    plt.title(class_names[labels[i]])\n",
    "    plt.axis(\"off\")"
   ]
  },
  {
   "cell_type": "code",
   "execution_count": null,
   "id": "known-champion",
   "metadata": {
    "ExecuteTime": {
     "end_time": "2021-04-29T18:11:18.182361Z",
     "start_time": "2021-04-29T18:11:12.314314Z"
    }
   },
   "outputs": [],
   "source": [
    "for image_batch, labels_batch in train_ds:\n",
    "  print(image_batch.shape)\n",
    "  print(labels_batch.shape)\n",
    "  break"
   ]
  },
  {
   "cell_type": "code",
   "execution_count": null,
   "id": "accepting-spirit",
   "metadata": {
    "ExecuteTime": {
     "end_time": "2021-04-29T18:11:18.261582Z",
     "start_time": "2021-04-29T18:11:18.184329Z"
    }
   },
   "outputs": [],
   "source": [
    "from tensorflow.keras import layers\n",
    "\n",
    "normalization_layer = tf.keras.layers.experimental.preprocessing.Rescaling(1./255)"
   ]
  },
  {
   "cell_type": "code",
   "execution_count": null,
   "id": "multiple-amazon",
   "metadata": {
    "ExecuteTime": {
     "end_time": "2021-04-29T18:11:22.582383Z",
     "start_time": "2021-04-29T18:11:18.267348Z"
    }
   },
   "outputs": [],
   "source": [
    "normalized_ds = train_ds.map(lambda x, y: (normalization_layer(x), y))\n",
    "image_batch, labels_batch = next(iter(normalized_ds))\n",
    "first_image = image_batch[0]\n",
    "# Notice the pixels values are now in `[0,1]`.\n",
    "print(np.min(first_image), np.max(first_image))"
   ]
  },
  {
   "cell_type": "code",
   "execution_count": null,
   "id": "mathematical-pilot",
   "metadata": {
    "ExecuteTime": {
     "end_time": "2021-04-29T18:11:22.716254Z",
     "start_time": "2021-04-29T18:11:22.585083Z"
    }
   },
   "outputs": [],
   "source": [
    "num_classes = 11014\n",
    "\n",
    "model = tf.keras.Sequential([\n",
    "  layers.experimental.preprocessing.Rescaling(1./255),\n",
    "  layers.Conv2D(64, 3, activation='tanh'),\n",
    "  layers.MaxPooling2D(),\n",
    "  layers.Conv2D(64, 3, activation='tanh'),\n",
    "  layers.MaxPooling2D(),\n",
    "  layers.Conv2D(64, 3, activation='tanh'),\n",
    "  layers.MaxPooling2D(),\n",
    "  layers.Flatten(),\n",
    "  layers.Dense(64, activation='softmax'),\n",
    "  layers.Dense(num_classes)\n",
    "])"
   ]
  },
  {
   "cell_type": "code",
   "execution_count": null,
   "id": "typical-viking",
   "metadata": {
    "ExecuteTime": {
     "end_time": "2021-04-29T18:11:22.856812Z",
     "start_time": "2021-04-29T18:11:22.722376Z"
    }
   },
   "outputs": [],
   "source": [
    "model.compile(\n",
    "  optimizer='adam',\n",
    "  loss=tf.losses.SparseCategoricalCrossentropy(from_logits=True),\n",
    "  metrics=['accuracy'])"
   ]
  },
  {
   "cell_type": "code",
   "execution_count": null,
   "id": "afraid-dynamics",
   "metadata": {
    "ExecuteTime": {
     "end_time": "2021-04-29T18:11:45.964571Z",
     "start_time": "2021-04-29T18:11:22.863156Z"
    }
   },
   "outputs": [],
   "source": [
    "model.fit(\n",
    "  train_ds,\n",
    "  validation_data=val_ds,\n",
    "  epochs=128\n",
    ")"
   ]
  },
  {
   "cell_type": "code",
   "execution_count": null,
   "id": "patent-barbados",
   "metadata": {
    "ExecuteTime": {
     "end_time": "2021-04-29T18:11:46.028458Z",
     "start_time": "2021-04-29T18:10:29.204Z"
    }
   },
   "outputs": [],
   "source": [
    "model_2 = tf.keras.Sequential([\n",
    "  layers.experimental.preprocessing.Rescaling(1./255),\n",
    "  layers.Conv2D(64, 3, activation='tanh'),\n",
    "  layers.MaxPooling2D(),\n",
    "  layers.Conv2D(32, 3, activation='tanh'),\n",
    "  layers.MaxPooling2D(),\n",
    "  layers.Flatten(),\n",
    "  layers.Dense(32, activation='softmax'),\n",
    "  layers.Dense(num_classes)\n",
    "])"
   ]
  },
  {
   "cell_type": "code",
   "execution_count": null,
   "id": "descending-destiny",
   "metadata": {
    "ExecuteTime": {
     "end_time": "2021-04-29T18:11:46.032333Z",
     "start_time": "2021-04-29T18:10:29.209Z"
    }
   },
   "outputs": [],
   "source": [
    "model_2.compile(\n",
    "  optimizer='RMSprop',\n",
    "  loss=tf.losses.SparseCategoricalCrossentropy(from_logits=True),\n",
    "  metrics=['accuracy'])"
   ]
  },
  {
   "cell_type": "code",
   "execution_count": null,
   "id": "handled-breath",
   "metadata": {
    "ExecuteTime": {
     "end_time": "2021-04-29T18:11:46.035866Z",
     "start_time": "2021-04-29T18:10:29.211Z"
    }
   },
   "outputs": [],
   "source": [
    "model_2.fit(\n",
    "  train_ds,\n",
    "  validation_data=val_ds,\n",
    "  epochs=128\n",
    ")"
   ]
  },
  {
   "cell_type": "code",
   "execution_count": null,
   "id": "neural-pocket",
   "metadata": {},
   "outputs": [],
   "source": []
  }
 ],
 "metadata": {
  "kernelspec": {
   "display_name": "Python 3",
   "language": "python",
   "name": "python3"
  },
  "language_info": {
   "codemirror_mode": {
    "name": "ipython",
    "version": 3
   },
   "file_extension": ".py",
   "mimetype": "text/x-python",
   "name": "python",
   "nbconvert_exporter": "python",
   "pygments_lexer": "ipython3",
   "version": "3.8.6"
  },
  "toc": {
   "base_numbering": 1,
   "nav_menu": {},
   "number_sections": true,
   "sideBar": true,
   "skip_h1_title": false,
   "title_cell": "Table of Contents",
   "title_sidebar": "Contents",
   "toc_cell": false,
   "toc_position": {},
   "toc_section_display": true,
   "toc_window_display": false
  },
  "varInspector": {
   "cols": {
    "lenName": 16,
    "lenType": 16,
    "lenVar": 40
   },
   "kernels_config": {
    "python": {
     "delete_cmd_postfix": "",
     "delete_cmd_prefix": "del ",
     "library": "var_list.py",
     "varRefreshCmd": "print(var_dic_list())"
    },
    "r": {
     "delete_cmd_postfix": ") ",
     "delete_cmd_prefix": "rm(",
     "library": "var_list.r",
     "varRefreshCmd": "cat(var_dic_list()) "
    }
   },
   "position": {
    "height": "457.5px",
    "left": "1437.5px",
    "right": "20px",
    "top": "120px",
    "width": "342.5px"
   },
   "types_to_exclude": [
    "module",
    "function",
    "builtin_function_or_method",
    "instance",
    "_Feature"
   ],
   "window_display": false
  }
 },
 "nbformat": 4,
 "nbformat_minor": 5
}
