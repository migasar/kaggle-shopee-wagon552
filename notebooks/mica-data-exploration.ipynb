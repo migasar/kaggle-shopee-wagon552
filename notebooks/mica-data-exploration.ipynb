{
 "cells": [
  {
   "cell_type": "markdown",
   "id": "6474116c-7ca1-411f-ba94-a38be8dca611",
   "metadata": {},
   "source": [
    "# Notebook Parameters\n",
    "---\n"
   ]
  },
  {
   "cell_type": "markdown",
   "id": "4de9a303-4658-4288-bfd4-f54ee625f1cd",
   "metadata": {},
   "source": [
    "## Notebook Settings"
   ]
  },
  {
   "cell_type": "code",
   "execution_count": 2,
   "id": "820d5c0e-5cd5-4b7d-8e28-29ed6391dc7f",
   "metadata": {
    "tags": []
   },
   "outputs": [
    {
     "name": "stdout",
     "output_type": "stream",
     "text": [
      "time: 597 µs (started: 2021-04-23 10:25:52 +02:00)\n"
     ]
    }
   ],
   "source": [
    "\"\"\"Jupyter settings\"\"\"\n",
    "# Enable autoreload\n",
    "%load_ext autoreload\n",
    "%autoreload 2\n",
    "\n",
    "# Pylint parameters\n",
    "%config Completer.use_jedi = False\n",
    "\n",
    "# Measure Runtime\n",
    "# !pip install ipython-autotime\n",
    "%load_ext autotime\n",
    "\n",
    "# Mute warnings\n",
    "import warnings\n",
    "warnings.filterwarnings('ignore')"
   ]
  },
  {
   "cell_type": "markdown",
   "id": "36f319cd-53e3-49d7-801d-1f7ba7696617",
   "metadata": {},
   "source": [
    "## Imported Packages"
   ]
  },
  {
   "cell_type": "code",
   "execution_count": 3,
   "id": "94ba57df-cae8-4089-8962-c28eb5a32421",
   "metadata": {},
   "outputs": [
    {
     "name": "stdout",
     "output_type": "stream",
     "text": [
      "time: 1.23 s (started: 2021-04-23 10:25:52 +02:00)\n"
     ]
    }
   ],
   "source": [
    "\"\"\"Packages for manipulation of vectors, arrays, dataframes\"\"\"\n",
    "import numpy as np\n",
    "import pandas as pd\n",
    "\n",
    "# Change display settings of pandas\n",
    "pd.set_option(\"display.max_row\", 100)\n",
    "pd.set_option(\"display.max_columns\", 50)\n",
    "pd.set_option(\"display.max_colwidth\", None)\n",
    "\n",
    "\"\"\"Packages for data visualization\"\"\"\n",
    "import seaborn as sns\n",
    "from matplotlib import pyplot as plt\n",
    "\n",
    "# %matplotlib inline"
   ]
  },
  {
   "cell_type": "code",
   "execution_count": 4,
   "id": "630b5135-edc3-4e51-a012-d339b355224f",
   "metadata": {},
   "outputs": [
    {
     "name": "stdout",
     "output_type": "stream",
     "text": [
      "time: 390 µs (started: 2021-04-23 10:25:53 +02:00)\n"
     ]
    }
   ],
   "source": [
    "import os"
   ]
  },
  {
   "cell_type": "code",
   "execution_count": 5,
   "id": "3bc76c66-02ba-46d7-a890-4c6bea6c2298",
   "metadata": {},
   "outputs": [
    {
     "name": "stdout",
     "output_type": "stream",
     "text": [
      "time: 50.1 ms (started: 2021-04-23 10:25:53 +02:00)\n"
     ]
    }
   ],
   "source": [
    "import skimage.io as io"
   ]
  },
  {
   "cell_type": "code",
   "execution_count": 6,
   "id": "9e88cf83-4eb2-45e7-b4d0-e95cd7e645fc",
   "metadata": {},
   "outputs": [
    {
     "name": "stdout",
     "output_type": "stream",
     "text": [
      "time: 456 ms (started: 2021-04-23 10:25:53 +02:00)\n"
     ]
    }
   ],
   "source": [
    "import string\n",
    "\n",
    "import nltk\n",
    "# nltk.download('stopwords')\n",
    "# nltk.download('punkt')\n",
    "# nltk.download('wordnet')\n",
    "# nltk.download('averaged_perceptron_tagger')\n",
    "from nltk.corpus import stopwords\n",
    "from nltk.tokenize import word_tokenize\n",
    "from nltk.stem import PorterStemmer, WordNetLemmatizer\n",
    "from nltk import pos_tag, ne_chunk\n",
    "from textblob import TextBlob"
   ]
  },
  {
   "cell_type": "markdown",
   "id": "c23d2053-67db-407e-9294-a81ddd2a21b1",
   "metadata": {},
   "source": [
    "# Loading Data\n",
    "---\n",
    "ref: [Shopee: Before we start](https://www.kaggle.com/maksymshkliarevskyi/shopee-before-we-start-eda-phash-baseline)"
   ]
  },
  {
   "cell_type": "markdown",
   "id": "8b74bb4e-db16-4631-aeec-7a5a33aec21a",
   "metadata": {},
   "source": [
    "## Work Directory"
   ]
  },
  {
   "cell_type": "code",
   "execution_count": 7,
   "id": "56175cda-69cc-4d30-91d6-d7191b4944a8",
   "metadata": {},
   "outputs": [
    {
     "data": {
      "text/plain": [
       "['test_images',\n",
       " '.DS_Store',\n",
       " 'test.csv',\n",
       " 'train.csv',\n",
       " 'train_images',\n",
       " 'sample_submission.csv']"
      ]
     },
     "execution_count": 7,
     "metadata": {},
     "output_type": "execute_result"
    },
    {
     "name": "stdout",
     "output_type": "stream",
     "text": [
      "time: 2.64 ms (started: 2021-04-23 10:25:54 +02:00)\n"
     ]
    }
   ],
   "source": [
    "WORK_DIR = '../raw_data/shopee-product-matching'\n",
    "os.listdir(WORK_DIR)"
   ]
  },
  {
   "cell_type": "markdown",
   "id": "4f495c32-ddbc-437a-9bad-276d617a0f30",
   "metadata": {},
   "source": [
    "## CSV to DataFrame"
   ]
  },
  {
   "cell_type": "code",
   "execution_count": 8,
   "id": "deca6a15-a536-4b02-9535-71d966ed8d0b",
   "metadata": {},
   "outputs": [
    {
     "name": "stdout",
     "output_type": "stream",
     "text": [
      "time: 82.2 ms (started: 2021-04-23 10:25:54 +02:00)\n"
     ]
    }
   ],
   "source": [
    "train_data = pd.read_csv('../raw_data/shopee-product-matching/train.csv') \n",
    "test_data = pd.read_csv('../raw_data/shopee-product-matching/test.csv')\n",
    "ss_data = pd.read_csv('../raw_data/shopee-product-matching/sample_submission.csv', index_col = 0)"
   ]
  },
  {
   "cell_type": "code",
   "execution_count": 9,
   "id": "8f7cb06c-6ff6-4a55-95db-228fc4333364",
   "metadata": {},
   "outputs": [
    {
     "name": "stdout",
     "output_type": "stream",
     "text": [
      "time: 1.59 ms (started: 2021-04-23 10:25:54 +02:00)\n"
     ]
    }
   ],
   "source": [
    "train_df = train_data.copy()"
   ]
  },
  {
   "cell_type": "code",
   "execution_count": 10,
   "id": "9566c9fc-ac0e-49b2-97a0-dbdbafa882c2",
   "metadata": {},
   "outputs": [
    {
     "name": "stdout",
     "output_type": "stream",
     "text": [
      "time: 491 µs (started: 2021-04-23 10:25:54 +02:00)\n"
     ]
    }
   ],
   "source": [
    "test_df = test_data.copy()"
   ]
  },
  {
   "cell_type": "code",
   "execution_count": 11,
   "id": "3b3ef377-69f6-45a1-80a3-0e307168364c",
   "metadata": {},
   "outputs": [
    {
     "name": "stdout",
     "output_type": "stream",
     "text": [
      "time: 498 µs (started: 2021-04-23 10:25:54 +02:00)\n"
     ]
    }
   ],
   "source": [
    "ss_df = ss_data.copy()"
   ]
  },
  {
   "cell_type": "code",
   "execution_count": 12,
   "id": "c4f1e8ea-acbe-46cd-81ff-4d41e9c4d5fe",
   "metadata": {},
   "outputs": [
    {
     "name": "stdout",
     "output_type": "stream",
     "text": [
      "----------------------------------- test -----------------------------------\n",
      "test_df shape: (3, 4)\n",
      "test_df head:\n"
     ]
    },
    {
     "data": {
      "text/html": [
       "<div>\n",
       "<style scoped>\n",
       "    .dataframe tbody tr th:only-of-type {\n",
       "        vertical-align: middle;\n",
       "    }\n",
       "\n",
       "    .dataframe tbody tr th {\n",
       "        vertical-align: top;\n",
       "    }\n",
       "\n",
       "    .dataframe thead th {\n",
       "        text-align: right;\n",
       "    }\n",
       "</style>\n",
       "<table border=\"1\" class=\"dataframe\">\n",
       "  <thead>\n",
       "    <tr style=\"text-align: right;\">\n",
       "      <th></th>\n",
       "      <th>posting_id</th>\n",
       "      <th>image</th>\n",
       "      <th>image_phash</th>\n",
       "      <th>title</th>\n",
       "    </tr>\n",
       "  </thead>\n",
       "  <tbody>\n",
       "    <tr>\n",
       "      <th>0</th>\n",
       "      <td>test_2255846744</td>\n",
       "      <td>0006c8e5462ae52167402bac1c2e916e.jpg</td>\n",
       "      <td>ecc292392dc7687a</td>\n",
       "      <td>Edufuntoys - CHARACTER PHONE ada lampu dan musik/ mainan telepon</td>\n",
       "    </tr>\n",
       "    <tr>\n",
       "      <th>1</th>\n",
       "      <td>test_3588702337</td>\n",
       "      <td>0007585c4d0f932859339129f709bfdc.jpg</td>\n",
       "      <td>e9968f60d2699e2c</td>\n",
       "      <td>(Beli 1 Free Spatula) Masker Komedo | Blackheads Mask 10gr by Flawless Go Surabaya | Flawless.Go</td>\n",
       "    </tr>\n",
       "    <tr>\n",
       "      <th>2</th>\n",
       "      <td>test_4015706929</td>\n",
       "      <td>0008377d3662e83ef44e1881af38b879.jpg</td>\n",
       "      <td>ba81c17e3581cabe</td>\n",
       "      <td>READY Lemonilo Mie instant sehat kuah dan goreng</td>\n",
       "    </tr>\n",
       "  </tbody>\n",
       "</table>\n",
       "</div>"
      ],
      "text/plain": [
       "        posting_id                                 image       image_phash  \\\n",
       "0  test_2255846744  0006c8e5462ae52167402bac1c2e916e.jpg  ecc292392dc7687a   \n",
       "1  test_3588702337  0007585c4d0f932859339129f709bfdc.jpg  e9968f60d2699e2c   \n",
       "2  test_4015706929  0008377d3662e83ef44e1881af38b879.jpg  ba81c17e3581cabe   \n",
       "\n",
       "                                                                                              title  \n",
       "0                                  Edufuntoys - CHARACTER PHONE ada lampu dan musik/ mainan telepon  \n",
       "1  (Beli 1 Free Spatula) Masker Komedo | Blackheads Mask 10gr by Flawless Go Surabaya | Flawless.Go  \n",
       "2                                                  READY Lemonilo Mie instant sehat kuah dan goreng  "
      ]
     },
     "execution_count": 12,
     "metadata": {},
     "output_type": "execute_result"
    },
    {
     "name": "stdout",
     "output_type": "stream",
     "text": [
      "time: 6.62 ms (started: 2021-04-23 10:25:54 +02:00)\n"
     ]
    }
   ],
   "source": [
    "print('-' * 35, 'test', '-' * 35)\n",
    "print(f\"test_df shape: {test_df.shape}\")\n",
    "print(\"test_df head:\")\n",
    "test_df.head()"
   ]
  },
  {
   "cell_type": "code",
   "execution_count": 13,
   "id": "8d76812b-229a-48fa-a1c6-07bc78cae41a",
   "metadata": {},
   "outputs": [
    {
     "name": "stdout",
     "output_type": "stream",
     "text": [
      "----------------------------------- sample submission -----------------------------------\n",
      "ss_df shape: (3, 1)\n",
      "ss_df head:\n"
     ]
    },
    {
     "data": {
      "text/html": [
       "<div>\n",
       "<style scoped>\n",
       "    .dataframe tbody tr th:only-of-type {\n",
       "        vertical-align: middle;\n",
       "    }\n",
       "\n",
       "    .dataframe tbody tr th {\n",
       "        vertical-align: top;\n",
       "    }\n",
       "\n",
       "    .dataframe thead th {\n",
       "        text-align: right;\n",
       "    }\n",
       "</style>\n",
       "<table border=\"1\" class=\"dataframe\">\n",
       "  <thead>\n",
       "    <tr style=\"text-align: right;\">\n",
       "      <th></th>\n",
       "      <th>matches</th>\n",
       "    </tr>\n",
       "    <tr>\n",
       "      <th>posting_id</th>\n",
       "      <th></th>\n",
       "    </tr>\n",
       "  </thead>\n",
       "  <tbody>\n",
       "    <tr>\n",
       "      <th>test_2255846744</th>\n",
       "      <td>test_2255846744</td>\n",
       "    </tr>\n",
       "    <tr>\n",
       "      <th>test_3588702337</th>\n",
       "      <td>test_3588702337</td>\n",
       "    </tr>\n",
       "    <tr>\n",
       "      <th>test_4015706929</th>\n",
       "      <td>test_4015706929</td>\n",
       "    </tr>\n",
       "  </tbody>\n",
       "</table>\n",
       "</div>"
      ],
      "text/plain": [
       "                         matches\n",
       "posting_id                      \n",
       "test_2255846744  test_2255846744\n",
       "test_3588702337  test_3588702337\n",
       "test_4015706929  test_4015706929"
      ]
     },
     "execution_count": 13,
     "metadata": {},
     "output_type": "execute_result"
    },
    {
     "name": "stdout",
     "output_type": "stream",
     "text": [
      "time: 4.81 ms (started: 2021-04-23 10:25:54 +02:00)\n"
     ]
    }
   ],
   "source": [
    "print('-' * 35, 'sample submission', '-' * 35)\n",
    "print(f\"ss_df shape: {ss_df.shape}\")\n",
    "print(\"ss_df head:\")\n",
    "ss_df.head()"
   ]
  },
  {
   "cell_type": "code",
   "execution_count": 14,
   "id": "82df073d-3140-474e-984b-a47a9820e989",
   "metadata": {},
   "outputs": [
    {
     "name": "stdout",
     "output_type": "stream",
     "text": [
      "----------------------------------- train -----------------------------------\n",
      "train_df shape: (34250, 5)\n",
      "train_df head:\n"
     ]
    },
    {
     "data": {
      "text/html": [
       "<div>\n",
       "<style scoped>\n",
       "    .dataframe tbody tr th:only-of-type {\n",
       "        vertical-align: middle;\n",
       "    }\n",
       "\n",
       "    .dataframe tbody tr th {\n",
       "        vertical-align: top;\n",
       "    }\n",
       "\n",
       "    .dataframe thead th {\n",
       "        text-align: right;\n",
       "    }\n",
       "</style>\n",
       "<table border=\"1\" class=\"dataframe\">\n",
       "  <thead>\n",
       "    <tr style=\"text-align: right;\">\n",
       "      <th></th>\n",
       "      <th>posting_id</th>\n",
       "      <th>image</th>\n",
       "      <th>image_phash</th>\n",
       "      <th>title</th>\n",
       "      <th>label_group</th>\n",
       "    </tr>\n",
       "  </thead>\n",
       "  <tbody>\n",
       "    <tr>\n",
       "      <th>0</th>\n",
       "      <td>train_129225211</td>\n",
       "      <td>0000a68812bc7e98c42888dfb1c07da0.jpg</td>\n",
       "      <td>94974f937d4c2433</td>\n",
       "      <td>Paper Bag Victoria Secret</td>\n",
       "      <td>249114794</td>\n",
       "    </tr>\n",
       "    <tr>\n",
       "      <th>1</th>\n",
       "      <td>train_3386243561</td>\n",
       "      <td>00039780dfc94d01db8676fe789ecd05.jpg</td>\n",
       "      <td>af3f9460c2838f0f</td>\n",
       "      <td>Double Tape 3M VHB 12 mm x 4,5 m ORIGINAL / DOUBLE FOAM TAPE</td>\n",
       "      <td>2937985045</td>\n",
       "    </tr>\n",
       "    <tr>\n",
       "      <th>2</th>\n",
       "      <td>train_2288590299</td>\n",
       "      <td>000a190fdd715a2a36faed16e2c65df7.jpg</td>\n",
       "      <td>b94cb00ed3e50f78</td>\n",
       "      <td>Maling TTS Canned Pork Luncheon Meat 397 gr</td>\n",
       "      <td>2395904891</td>\n",
       "    </tr>\n",
       "    <tr>\n",
       "      <th>3</th>\n",
       "      <td>train_2406599165</td>\n",
       "      <td>00117e4fc239b1b641ff08340b429633.jpg</td>\n",
       "      <td>8514fc58eafea283</td>\n",
       "      <td>Daster Batik Lengan pendek - Motif Acak / Campur - Leher Kancing (DPT001-00) Batik karakter Alhadi</td>\n",
       "      <td>4093212188</td>\n",
       "    </tr>\n",
       "    <tr>\n",
       "      <th>4</th>\n",
       "      <td>train_3369186413</td>\n",
       "      <td>00136d1cf4edede0203f32f05f660588.jpg</td>\n",
       "      <td>a6f319f924ad708c</td>\n",
       "      <td>Nescafe \\xc3\\x89clair Latte 220ml</td>\n",
       "      <td>3648931069</td>\n",
       "    </tr>\n",
       "  </tbody>\n",
       "</table>\n",
       "</div>"
      ],
      "text/plain": [
       "         posting_id                                 image       image_phash  \\\n",
       "0   train_129225211  0000a68812bc7e98c42888dfb1c07da0.jpg  94974f937d4c2433   \n",
       "1  train_3386243561  00039780dfc94d01db8676fe789ecd05.jpg  af3f9460c2838f0f   \n",
       "2  train_2288590299  000a190fdd715a2a36faed16e2c65df7.jpg  b94cb00ed3e50f78   \n",
       "3  train_2406599165  00117e4fc239b1b641ff08340b429633.jpg  8514fc58eafea283   \n",
       "4  train_3369186413  00136d1cf4edede0203f32f05f660588.jpg  a6f319f924ad708c   \n",
       "\n",
       "                                                                                                title  \\\n",
       "0                                                                           Paper Bag Victoria Secret   \n",
       "1                                        Double Tape 3M VHB 12 mm x 4,5 m ORIGINAL / DOUBLE FOAM TAPE   \n",
       "2                                                         Maling TTS Canned Pork Luncheon Meat 397 gr   \n",
       "3  Daster Batik Lengan pendek - Motif Acak / Campur - Leher Kancing (DPT001-00) Batik karakter Alhadi   \n",
       "4                                                                   Nescafe \\xc3\\x89clair Latte 220ml   \n",
       "\n",
       "   label_group  \n",
       "0    249114794  \n",
       "1   2937985045  \n",
       "2   2395904891  \n",
       "3   4093212188  \n",
       "4   3648931069  "
      ]
     },
     "execution_count": 14,
     "metadata": {},
     "output_type": "execute_result"
    },
    {
     "name": "stdout",
     "output_type": "stream",
     "text": [
      "time: 4.62 ms (started: 2021-04-23 10:25:54 +02:00)\n"
     ]
    }
   ],
   "source": [
    "print('-' * 35, 'train', '-' * 35)\n",
    "print(f\"train_df shape: {train_df.shape}\")\n",
    "print(\"train_df head:\")\n",
    "train_df.head()"
   ]
  },
  {
   "cell_type": "markdown",
   "id": "89bab202-1a0d-44c5-baa4-71e96dab7ef4",
   "metadata": {},
   "source": [
    "## Images to DataFrame"
   ]
  },
  {
   "cell_type": "code",
   "execution_count": 15,
   "id": "6b9a62dd-0079-422d-852b-7fad620b908d",
   "metadata": {},
   "outputs": [
    {
     "name": "stdout",
     "output_type": "stream",
     "text": [
      "Train images: 32412\n",
      "Test images: 3\n",
      "time: 85.9 ms (started: 2021-04-23 10:25:54 +02:00)\n"
     ]
    }
   ],
   "source": [
    "print('Train images: %d' %len(os.listdir(os.path.join(WORK_DIR, \"train_images\"))))\n",
    "print('Test images: %d' %len(os.listdir(os.path.join(WORK_DIR, \"test_images\"))))"
   ]
  },
  {
   "cell_type": "code",
   "execution_count": 16,
   "id": "59b86d7d-b3d1-47c8-ba47-0653724475c5",
   "metadata": {},
   "outputs": [
    {
     "name": "stdout",
     "output_type": "stream",
     "text": [
      "time: 6.63 ms (started: 2021-04-23 10:25:54 +02:00)\n"
     ]
    }
   ],
   "source": [
    "train_images = WORK_DIR + \"/train_images/\" + train_df['image']\n",
    "train_df['path'] = train_images\n",
    "\n",
    "test_images = WORK_DIR + \"/test_images/\" + test_df['image']\n",
    "test_df['path'] = test_images"
   ]
  },
  {
   "cell_type": "code",
   "execution_count": 17,
   "id": "d4627821-2c1f-4509-b5ad-b8f7e9ac1fd9",
   "metadata": {},
   "outputs": [
    {
     "data": {
      "text/html": [
       "<div>\n",
       "<style scoped>\n",
       "    .dataframe tbody tr th:only-of-type {\n",
       "        vertical-align: middle;\n",
       "    }\n",
       "\n",
       "    .dataframe tbody tr th {\n",
       "        vertical-align: top;\n",
       "    }\n",
       "\n",
       "    .dataframe thead th {\n",
       "        text-align: right;\n",
       "    }\n",
       "</style>\n",
       "<table border=\"1\" class=\"dataframe\">\n",
       "  <thead>\n",
       "    <tr style=\"text-align: right;\">\n",
       "      <th></th>\n",
       "      <th>posting_id</th>\n",
       "      <th>image</th>\n",
       "      <th>image_phash</th>\n",
       "      <th>title</th>\n",
       "      <th>label_group</th>\n",
       "      <th>path</th>\n",
       "    </tr>\n",
       "  </thead>\n",
       "  <tbody>\n",
       "    <tr>\n",
       "      <th>0</th>\n",
       "      <td>train_129225211</td>\n",
       "      <td>0000a68812bc7e98c42888dfb1c07da0.jpg</td>\n",
       "      <td>94974f937d4c2433</td>\n",
       "      <td>Paper Bag Victoria Secret</td>\n",
       "      <td>249114794</td>\n",
       "      <td>../raw_data/shopee-product-matching/train_images/0000a68812bc7e98c42888dfb1c07da0.jpg</td>\n",
       "    </tr>\n",
       "    <tr>\n",
       "      <th>1</th>\n",
       "      <td>train_3386243561</td>\n",
       "      <td>00039780dfc94d01db8676fe789ecd05.jpg</td>\n",
       "      <td>af3f9460c2838f0f</td>\n",
       "      <td>Double Tape 3M VHB 12 mm x 4,5 m ORIGINAL / DOUBLE FOAM TAPE</td>\n",
       "      <td>2937985045</td>\n",
       "      <td>../raw_data/shopee-product-matching/train_images/00039780dfc94d01db8676fe789ecd05.jpg</td>\n",
       "    </tr>\n",
       "    <tr>\n",
       "      <th>2</th>\n",
       "      <td>train_2288590299</td>\n",
       "      <td>000a190fdd715a2a36faed16e2c65df7.jpg</td>\n",
       "      <td>b94cb00ed3e50f78</td>\n",
       "      <td>Maling TTS Canned Pork Luncheon Meat 397 gr</td>\n",
       "      <td>2395904891</td>\n",
       "      <td>../raw_data/shopee-product-matching/train_images/000a190fdd715a2a36faed16e2c65df7.jpg</td>\n",
       "    </tr>\n",
       "    <tr>\n",
       "      <th>3</th>\n",
       "      <td>train_2406599165</td>\n",
       "      <td>00117e4fc239b1b641ff08340b429633.jpg</td>\n",
       "      <td>8514fc58eafea283</td>\n",
       "      <td>Daster Batik Lengan pendek - Motif Acak / Campur - Leher Kancing (DPT001-00) Batik karakter Alhadi</td>\n",
       "      <td>4093212188</td>\n",
       "      <td>../raw_data/shopee-product-matching/train_images/00117e4fc239b1b641ff08340b429633.jpg</td>\n",
       "    </tr>\n",
       "    <tr>\n",
       "      <th>4</th>\n",
       "      <td>train_3369186413</td>\n",
       "      <td>00136d1cf4edede0203f32f05f660588.jpg</td>\n",
       "      <td>a6f319f924ad708c</td>\n",
       "      <td>Nescafe \\xc3\\x89clair Latte 220ml</td>\n",
       "      <td>3648931069</td>\n",
       "      <td>../raw_data/shopee-product-matching/train_images/00136d1cf4edede0203f32f05f660588.jpg</td>\n",
       "    </tr>\n",
       "  </tbody>\n",
       "</table>\n",
       "</div>"
      ],
      "text/plain": [
       "         posting_id                                 image       image_phash  \\\n",
       "0   train_129225211  0000a68812bc7e98c42888dfb1c07da0.jpg  94974f937d4c2433   \n",
       "1  train_3386243561  00039780dfc94d01db8676fe789ecd05.jpg  af3f9460c2838f0f   \n",
       "2  train_2288590299  000a190fdd715a2a36faed16e2c65df7.jpg  b94cb00ed3e50f78   \n",
       "3  train_2406599165  00117e4fc239b1b641ff08340b429633.jpg  8514fc58eafea283   \n",
       "4  train_3369186413  00136d1cf4edede0203f32f05f660588.jpg  a6f319f924ad708c   \n",
       "\n",
       "                                                                                                title  \\\n",
       "0                                                                           Paper Bag Victoria Secret   \n",
       "1                                        Double Tape 3M VHB 12 mm x 4,5 m ORIGINAL / DOUBLE FOAM TAPE   \n",
       "2                                                         Maling TTS Canned Pork Luncheon Meat 397 gr   \n",
       "3  Daster Batik Lengan pendek - Motif Acak / Campur - Leher Kancing (DPT001-00) Batik karakter Alhadi   \n",
       "4                                                                   Nescafe \\xc3\\x89clair Latte 220ml   \n",
       "\n",
       "   label_group  \\\n",
       "0    249114794   \n",
       "1   2937985045   \n",
       "2   2395904891   \n",
       "3   4093212188   \n",
       "4   3648931069   \n",
       "\n",
       "                                                                                    path  \n",
       "0  ../raw_data/shopee-product-matching/train_images/0000a68812bc7e98c42888dfb1c07da0.jpg  \n",
       "1  ../raw_data/shopee-product-matching/train_images/00039780dfc94d01db8676fe789ecd05.jpg  \n",
       "2  ../raw_data/shopee-product-matching/train_images/000a190fdd715a2a36faed16e2c65df7.jpg  \n",
       "3  ../raw_data/shopee-product-matching/train_images/00117e4fc239b1b641ff08340b429633.jpg  \n",
       "4  ../raw_data/shopee-product-matching/train_images/00136d1cf4edede0203f32f05f660588.jpg  "
      ]
     },
     "execution_count": 17,
     "metadata": {},
     "output_type": "execute_result"
    },
    {
     "name": "stdout",
     "output_type": "stream",
     "text": [
      "time: 4.39 ms (started: 2021-04-23 10:25:54 +02:00)\n"
     ]
    }
   ],
   "source": [
    "train_df.head()"
   ]
  },
  {
   "cell_type": "markdown",
   "id": "ad4adc34-6a7b-473d-b154-fe08266e8af0",
   "metadata": {},
   "source": [
    "# EDA\n",
    "---\n"
   ]
  },
  {
   "cell_type": "markdown",
   "id": "4e09273b-7d98-4add-a91d-d4eef4a0d84c",
   "metadata": {},
   "source": [
    "## [Labels](https://www.kaggle.com/andradaolteanu/i-shopee-text-prep-fe-image-augmentation?scriptVersionId=58133547&cellId=21)"
   ]
  },
  {
   "cell_type": "code",
   "execution_count": 18,
   "id": "a446d167-6123-42e4-8217-96432286a168",
   "metadata": {},
   "outputs": [
    {
     "name": "stdout",
     "output_type": "stream",
     "text": [
      "label_group unique values: 11014\n",
      "time: 1.96 ms (started: 2021-04-23 10:25:54 +02:00)\n"
     ]
    }
   ],
   "source": [
    "# How many unique labels in the train set ?\n",
    "print(f\"label_group unique values: {train_df['label_group'].nunique()}\")"
   ]
  },
  {
   "cell_type": "code",
   "execution_count": 19,
   "id": "3ecbbf4e-5129-4398-a838-614f1e2e8a4f",
   "metadata": {},
   "outputs": [
    {
     "name": "stdout",
     "output_type": "stream",
     "text": [
      "time: 2.92 ms (started: 2021-04-23 10:25:54 +02:00)\n"
     ]
    }
   ],
   "source": [
    "# Get count of values on each group\n",
    "groups_df = train_df[\"label_group\"].value_counts().reset_index()\n",
    "groups_df.columns = [\"group\", \"count\"]"
   ]
  },
  {
   "cell_type": "code",
   "execution_count": 20,
   "id": "d84f24f6-79be-473f-b3b9-a196252ceeee",
   "metadata": {},
   "outputs": [
    {
     "name": "stdout",
     "output_type": "stream",
     "text": [
      "No. of unique groups: 11,014 \n",
      "Max no. of apparitions in 1 group: 51 \n",
      "Min no. of apparitions in 1 group: 2\n",
      "time: 1.06 ms (started: 2021-04-23 10:25:54 +02:00)\n"
     ]
    }
   ],
   "source": [
    "# Print info\n",
    "print(\"No. of unique groups: {:,}\".format(len(groups_df)), \"\\n\" +\n",
    "      \"Max no. of apparitions in 1 group: {}\".format(groups_df[\"count\"].max()), \"\\n\" +\n",
    "      \"Min no. of apparitions in 1 group: {}\".format(groups_df[\"count\"].min()))"
   ]
  },
  {
   "cell_type": "code",
   "execution_count": 21,
   "id": "02a31541-5603-4a39-9234-afd97a08e757",
   "metadata": {},
   "outputs": [
    {
     "data": {
      "image/png": "[encoded data removed]",
      "text/plain": [
       "<Figure size 864x432 with 1 Axes>"
      ]
     },
     "metadata": {},
     "output_type": "display_data"
    },
    {
     "name": "stdout",
     "output_type": "stream",
     "text": [
      "time: 166 ms (started: 2021-04-23 10:25:54 +02:00)\n"
     ]
    }
   ],
   "source": [
    "# Plot distribution\n",
    "sns.set_style(\"whitegrid\")\n",
    "plt.figure(figsize = (12, 6))\n",
    "plt.title('Group Count Distribution', fontsize = '15')\n",
    "sns.kdeplot(groups_df['count'], fill = True, \n",
    "            color = '#f15335', \n",
    "            edgecolor = 'black', alpha = 0.9)\n",
    "plt.xlabel('Label count')\n",
    "plt.show();"
   ]
  },
  {
   "cell_type": "markdown",
   "id": "4d1350db-0c6e-4c79-a5f7-64027a1efa9a",
   "metadata": {},
   "source": [
    "## [Titles](https://www.kaggle.com/maksymshkliarevskyi/shopee-before-we-start-eda-phash-baseline?scriptVersionId=56755502&cellId=10)"
   ]
  },
  {
   "cell_type": "markdown",
   "id": "5b63d8e5-c5a1-4e7f-95b2-2dbee081da38",
   "metadata": {},
   "source": [
    "**How long are the titles ?**"
   ]
  },
  {
   "cell_type": "code",
   "execution_count": 22,
   "id": "8efef4e0-cde7-486d-b863-0a11ee6bcc37",
   "metadata": {},
   "outputs": [
    {
     "data": {
      "image/png": "[encoded data removed]",
      "text/plain": [
       "<Figure size 864x432 with 1 Axes>"
      ]
     },
     "metadata": {},
     "output_type": "display_data"
    },
    {
     "name": "stdout",
     "output_type": "stream",
     "text": [
      "time: 202 ms (started: 2021-04-23 10:25:54 +02:00)\n"
     ]
    }
   ],
   "source": [
    "sns.set_style(\"whitegrid\")\n",
    "plt.figure(figsize = (12, 6))\n",
    "plt.title('Distribution of title length', fontsize = '15')\n",
    "sns.kdeplot(train_df['title'].apply(lambda x: len(x)), fill = True, \n",
    "            color = '#f15335', \n",
    "            edgecolor = 'black', alpha = 0.9)\n",
    "plt.xlabel('Title length')\n",
    "plt.show();"
   ]
  },
  {
   "cell_type": "markdown",
   "id": "480ee13d-88e6-4cee-8309-71001c9261b1",
   "metadata": {},
   "source": [
    "## [Shape of images](https://www.kaggle.com/maksymshkliarevskyi/shopee-before-we-start-eda-phash-baseline?scriptVersionId=56755502&cellId=11)"
   ]
  },
  {
   "cell_type": "code",
   "execution_count": 23,
   "id": "01a19aaf-48e8-4189-8567-587c173f26d7",
   "metadata": {},
   "outputs": [
    {
     "name": "stdout",
     "output_type": "stream",
     "text": [
      "time: 2min 54s (started: 2021-04-23 10:25:55 +02:00)\n"
     ]
    }
   ],
   "source": [
    "# Create a column for the shape\n",
    "train_df['img_shape'] = train_df['path'].apply(lambda x: np.shape(io.imread(x)))"
   ]
  },
  {
   "cell_type": "code",
   "execution_count": 24,
   "id": "c1d34ac0-154d-469c-a044-fc86e1a4ed55",
   "metadata": {},
   "outputs": [
    {
     "data": {
      "text/html": [
       "<div>\n",
       "<style scoped>\n",
       "    .dataframe tbody tr th:only-of-type {\n",
       "        vertical-align: middle;\n",
       "    }\n",
       "\n",
       "    .dataframe tbody tr th {\n",
       "        vertical-align: top;\n",
       "    }\n",
       "\n",
       "    .dataframe thead th {\n",
       "        text-align: right;\n",
       "    }\n",
       "</style>\n",
       "<table border=\"1\" class=\"dataframe\">\n",
       "  <thead>\n",
       "    <tr style=\"text-align: right;\">\n",
       "      <th></th>\n",
       "      <th>posting_id</th>\n",
       "      <th>image</th>\n",
       "      <th>image_phash</th>\n",
       "      <th>title</th>\n",
       "      <th>label_group</th>\n",
       "      <th>path</th>\n",
       "      <th>img_shape</th>\n",
       "    </tr>\n",
       "  </thead>\n",
       "  <tbody>\n",
       "    <tr>\n",
       "      <th>0</th>\n",
       "      <td>train_129225211</td>\n",
       "      <td>0000a68812bc7e98c42888dfb1c07da0.jpg</td>\n",
       "      <td>94974f937d4c2433</td>\n",
       "      <td>Paper Bag Victoria Secret</td>\n",
       "      <td>249114794</td>\n",
       "      <td>../raw_data/shopee-product-matching/train_images/0000a68812bc7e98c42888dfb1c07da0.jpg</td>\n",
       "      <td>(1024, 1024, 3)</td>\n",
       "    </tr>\n",
       "    <tr>\n",
       "      <th>1</th>\n",
       "      <td>train_3386243561</td>\n",
       "      <td>00039780dfc94d01db8676fe789ecd05.jpg</td>\n",
       "      <td>af3f9460c2838f0f</td>\n",
       "      <td>Double Tape 3M VHB 12 mm x 4,5 m ORIGINAL / DOUBLE FOAM TAPE</td>\n",
       "      <td>2937985045</td>\n",
       "      <td>../raw_data/shopee-product-matching/train_images/00039780dfc94d01db8676fe789ecd05.jpg</td>\n",
       "      <td>(1000, 1000, 3)</td>\n",
       "    </tr>\n",
       "    <tr>\n",
       "      <th>2</th>\n",
       "      <td>train_2288590299</td>\n",
       "      <td>000a190fdd715a2a36faed16e2c65df7.jpg</td>\n",
       "      <td>b94cb00ed3e50f78</td>\n",
       "      <td>Maling TTS Canned Pork Luncheon Meat 397 gr</td>\n",
       "      <td>2395904891</td>\n",
       "      <td>../raw_data/shopee-product-matching/train_images/000a190fdd715a2a36faed16e2c65df7.jpg</td>\n",
       "      <td>(640, 640, 3)</td>\n",
       "    </tr>\n",
       "    <tr>\n",
       "      <th>3</th>\n",
       "      <td>train_2406599165</td>\n",
       "      <td>00117e4fc239b1b641ff08340b429633.jpg</td>\n",
       "      <td>8514fc58eafea283</td>\n",
       "      <td>Daster Batik Lengan pendek - Motif Acak / Campur - Leher Kancing (DPT001-00) Batik karakter Alhadi</td>\n",
       "      <td>4093212188</td>\n",
       "      <td>../raw_data/shopee-product-matching/train_images/00117e4fc239b1b641ff08340b429633.jpg</td>\n",
       "      <td>(640, 640, 3)</td>\n",
       "    </tr>\n",
       "    <tr>\n",
       "      <th>4</th>\n",
       "      <td>train_3369186413</td>\n",
       "      <td>00136d1cf4edede0203f32f05f660588.jpg</td>\n",
       "      <td>a6f319f924ad708c</td>\n",
       "      <td>Nescafe \\xc3\\x89clair Latte 220ml</td>\n",
       "      <td>3648931069</td>\n",
       "      <td>../raw_data/shopee-product-matching/train_images/00136d1cf4edede0203f32f05f660588.jpg</td>\n",
       "      <td>(756, 756, 3)</td>\n",
       "    </tr>\n",
       "  </tbody>\n",
       "</table>\n",
       "</div>"
      ],
      "text/plain": [
       "         posting_id                                 image       image_phash  \\\n",
       "0   train_129225211  0000a68812bc7e98c42888dfb1c07da0.jpg  94974f937d4c2433   \n",
       "1  train_3386243561  00039780dfc94d01db8676fe789ecd05.jpg  af3f9460c2838f0f   \n",
       "2  train_2288590299  000a190fdd715a2a36faed16e2c65df7.jpg  b94cb00ed3e50f78   \n",
       "3  train_2406599165  00117e4fc239b1b641ff08340b429633.jpg  8514fc58eafea283   \n",
       "4  train_3369186413  00136d1cf4edede0203f32f05f660588.jpg  a6f319f924ad708c   \n",
       "\n",
       "                                                                                                title  \\\n",
       "0                                                                           Paper Bag Victoria Secret   \n",
       "1                                        Double Tape 3M VHB 12 mm x 4,5 m ORIGINAL / DOUBLE FOAM TAPE   \n",
       "2                                                         Maling TTS Canned Pork Luncheon Meat 397 gr   \n",
       "3  Daster Batik Lengan pendek - Motif Acak / Campur - Leher Kancing (DPT001-00) Batik karakter Alhadi   \n",
       "4                                                                   Nescafe \\xc3\\x89clair Latte 220ml   \n",
       "\n",
       "   label_group  \\\n",
       "0    249114794   \n",
       "1   2937985045   \n",
       "2   2395904891   \n",
       "3   4093212188   \n",
       "4   3648931069   \n",
       "\n",
       "                                                                                    path  \\\n",
       "0  ../raw_data/shopee-product-matching/train_images/0000a68812bc7e98c42888dfb1c07da0.jpg   \n",
       "1  ../raw_data/shopee-product-matching/train_images/00039780dfc94d01db8676fe789ecd05.jpg   \n",
       "2  ../raw_data/shopee-product-matching/train_images/000a190fdd715a2a36faed16e2c65df7.jpg   \n",
       "3  ../raw_data/shopee-product-matching/train_images/00117e4fc239b1b641ff08340b429633.jpg   \n",
       "4  ../raw_data/shopee-product-matching/train_images/00136d1cf4edede0203f32f05f660588.jpg   \n",
       "\n",
       "         img_shape  \n",
       "0  (1024, 1024, 3)  \n",
       "1  (1000, 1000, 3)  \n",
       "2    (640, 640, 3)  \n",
       "3    (640, 640, 3)  \n",
       "4    (756, 756, 3)  "
      ]
     },
     "execution_count": 24,
     "metadata": {},
     "output_type": "execute_result"
    },
    {
     "name": "stdout",
     "output_type": "stream",
     "text": [
      "time: 5.86 ms (started: 2021-04-23 10:28:49 +02:00)\n"
     ]
    }
   ],
   "source": [
    "train_df.head()"
   ]
  },
  {
   "cell_type": "code",
   "execution_count": 25,
   "id": "e854bb8c-b654-4fa0-a66e-51ce775ec7f7",
   "metadata": {},
   "outputs": [
    {
     "data": {
      "image/png": "[encoded data removed]",
      "text/plain": [
       "<Figure size 576x576 with 3 Axes>"
      ]
     },
     "metadata": {},
     "output_type": "display_data"
    },
    {
     "name": "stdout",
     "output_type": "stream",
     "text": [
      "time: 752 ms (started: 2021-04-23 10:28:49 +02:00)\n"
     ]
    }
   ],
   "source": [
    "# Visualize image shapes distribution\n",
    "shapes = pd.DataFrame().from_records(train_df['img_shape'])\n",
    "shapes.columns = ['Width', 'Height', 'Colors']\n",
    "\n",
    "sns.set_style(\"white\")\n",
    "sns.jointplot(x = shapes.iloc[:, 0].astype('float32'), \n",
    "              y = shapes.iloc[:, 1].astype('float32'),\n",
    "              height = 8, color = '#f15335')\n",
    "plt.show()"
   ]
  },
  {
   "cell_type": "markdown",
   "id": "6980ec70-7141-4f03-8db8-51a38c7b6e01",
   "metadata": {},
   "source": [
    "# Text Preprocessing\n",
    "---\n",
    "ref: [Shopee: text prep | FE | image augmentation](https://www.kaggle.com/andradaolteanu/i-shopee-text-prep-fe-image-augmentation)"
   ]
  },
  {
   "cell_type": "markdown",
   "id": "ab6e1a12-53d6-47e9-bfe4-594fba18a732",
   "metadata": {},
   "source": [
    "### Text Preprocessing - Step by Step Example"
   ]
  },
  {
   "cell_type": "code",
   "execution_count": 26,
   "id": "1040aa4a-dd20-43d6-a5e6-1e506695361a",
   "metadata": {},
   "outputs": [
    {
     "name": "stdout",
     "output_type": "stream",
     "text": [
      "Before: Tzuki Beauty Soap\n",
      "Lower case: tzuki beauty soap\n",
      "Remove punctuation: {wo_punct}\n",
      "Remove whitespaces: {wo_whitespaces}\n",
      "Tokenized: ['tzuki', 'beauty', 'soap']\n",
      "Remove stopwords: ['tzuki', 'beauty', 'soap']\n",
      "Lemmatization: ['tzuki', 'beauty', 'soap']\n",
      "POS: [('tzuki', 'JJ'), ('beauty', 'NN'), ('soap', 'NN')]\n",
      "time: 1.11 s (started: 2021-04-23 10:28:50 +02:00)\n"
     ]
    }
   ],
   "source": [
    "# Original\n",
    "original = train_df[\"title\"][99]\n",
    "print(f\"Before: {original}\")\n",
    "\n",
    "# ~~~~~ Convert to lower case ~~~~~\n",
    "lower = original.lower()\n",
    "print(f\"Lower case: {lower}\")\n",
    "\n",
    "# ~~~~~ Remove punctuation ~~~~~\n",
    "### !”#$%&’()*+,-./:;<=>?@[\\]^_`{|}~]:\n",
    "wo_punct = lower.translate(str.maketrans('','',string.punctuation))\n",
    "print(\"Remove punctuation: {wo_punct}\")\n",
    "\n",
    "# ~~~~~ Remove whitespaces ~~~~~\n",
    "wo_whitespaces = wo_punct.strip()\n",
    "print(\"Remove whitespaces: {wo_whitespaces}\")\n",
    "\n",
    "# ~~~~~ Tokenize words ~~~~~\n",
    "tokenize = word_tokenize(wo_whitespaces)\n",
    "print(f\"Tokenized: {tokenize}\")\n",
    "\n",
    "# ~~~~~ Remove stopwords ~~~~~\n",
    "text_wo_sw = [word for word in tokenize if not word in stopwords.words()]\n",
    "print(f\"Remove stopwords: {text_wo_sw}\")\n",
    "\n",
    "# ~~~~~ Lemmatization ~~~~~\n",
    "lemmatizer = WordNetLemmatizer()\n",
    "lemmatized_text = [lemmatizer.lemmatize(word) for word in text_wo_sw]\n",
    "print(f\"Lemmatization: {lemmatized_text}\")\n",
    "\n",
    "# ~~~~~ Part of speech tagging ~~~~~\n",
    "pos_text = TextBlob(' '.join(lemmatized_text))\n",
    "print(f\"POS: {pos_text.tags}\")\n",
    "\n",
    "# # ~~~~~ Named entity recognition ~~~~~\n",
    "# ner_text = ne_chunk(pos_tag(lemmatized_text))\n",
    "# print(f\"NER: {ner_text}\")"
   ]
  },
  {
   "cell_type": "markdown",
   "id": "fb7f4854-474e-4d42-a996-7d8edbc73ec2",
   "metadata": {},
   "source": [
    "## Text Preprocessing - Function"
   ]
  },
  {
   "cell_type": "code",
   "execution_count": 27,
   "id": "067f95c2-efef-4a56-8e77-10dbda223616",
   "metadata": {},
   "outputs": [
    {
     "name": "stdout",
     "output_type": "stream",
     "text": [
      "time: 622 µs (started: 2021-04-23 10:28:51 +02:00)\n"
     ]
    }
   ],
   "source": [
    "def preprocess_title(title):\n",
    "    '''Text Preprocessing Performance.\n",
    "    title: the string that needs prepped.'''\n",
    "    \n",
    "    # Lower Case\n",
    "    title = title.lower()\n",
    "    # Remove Punctuation\n",
    "    title = title.translate(str.maketrans('','',string.punctuation))\n",
    "    # Remove whitespaces\n",
    "    title = title.strip()\n",
    "    # Tokenize\n",
    "    tokens_title = word_tokenize(title)\n",
    "    # Remove stopwords\n",
    "    tokens_title = [word for word in tokens_title if not word in stopwords.words()]\n",
    "    # Lemmatization\n",
    "    lemmatizer = WordNetLemmatizer()\n",
    "    lemm_text = [lemmatizer.lemmatize(word) for word in tokens_title]\n",
    "    prepped_title = ' '.join(lemm_text)\n",
    "\n",
    "    return prepped_title\n",
    "\n",
    "def get_POS(prepped_title):\n",
    "    '''Gets Part of Speech.\n",
    "    prepped_text: the already prepped text'''\n",
    "    \n",
    "    # Part of speech tagging\n",
    "    pos_text = TextBlob(prepped_title)\n",
    "    pos_text = ' '.join([j for (i, j) in pos_text.tags])\n",
    "\n",
    "    return pos_text\n"
   ]
  },
  {
   "cell_type": "code",
   "execution_count": 28,
   "id": "3946d75b-01b1-4337-854c-cbba5eee0ce2",
   "metadata": {},
   "outputs": [
    {
     "name": "stdout",
     "output_type": "stream",
     "text": [
      "time: 14min 2s (started: 2021-04-23 10:28:51 +02:00)\n"
     ]
    }
   ],
   "source": [
    "# Process preprocessed title\n",
    "train_df[\"title_prep\"] = train_df[\"title\"].apply(lambda x: preprocess_title(x))"
   ]
  },
  {
   "cell_type": "code",
   "execution_count": 29,
   "id": "9c619993-8ff4-4867-bbb6-a4f5c5bf3dee",
   "metadata": {},
   "outputs": [
    {
     "name": "stdout",
     "output_type": "stream",
     "text": [
      "time: 22.2 s (started: 2021-04-23 10:42:53 +02:00)\n"
     ]
    }
   ],
   "source": [
    "# Add part of speech\n",
    "train_df[\"pos\"] = train_df[\"title_prep\"].apply(lambda x: get_POS(x))"
   ]
  },
  {
   "cell_type": "code",
   "execution_count": 31,
   "id": "3cd1a36f-0864-4495-aa5a-6342078d923b",
   "metadata": {},
   "outputs": [
    {
     "name": "stdout",
     "output_type": "stream",
     "text": [
      "time: 470 µs (started: 2021-04-23 10:46:40 +02:00)\n"
     ]
    }
   ],
   "source": [
    "# Read in prepped data\n",
    "# train_df_prep = pd.read_csv(\"../raw_data/shopee-preprocessed-data/train_title_prepped.csv\")\n",
    "# train_df_prep[\"label_group\"] = train_df_prep[\"label_group\"].astype(str)"
   ]
  },
  {
   "cell_type": "markdown",
   "id": "d0ceedb3-f66d-4362-a2aa-7360f43b7eb8",
   "metadata": {},
   "source": [
    "# Text Model\n",
    "---\n"
   ]
  },
  {
   "cell_type": "markdown",
   "id": "5862764f-f380-4aa7-8cad-0e1ad82dc92f",
   "metadata": {},
   "source": [
    "***...To be developed***"
   ]
  },
  {
   "cell_type": "markdown",
   "id": "9365bac7-bbe3-4cd4-a9d7-9b47168121bc",
   "metadata": {},
   "source": [
    "## Resources to check"
   ]
  },
  {
   "cell_type": "markdown",
   "id": "e6621f7e-795d-4233-8f3d-cb51055f9d33",
   "metadata": {},
   "source": [
    "- [Text+Image : Metric learning](https://www.kaggle.com/nandhuelan/text-image-metric-learning)\n",
    "- [Metric Learning Pipeline : Only Text Sbert](https://www.kaggle.com/tanulsingh077/metric-learning-pipeline-only-text-sbert)\n",
    "- [Shopee Products Matching: Text Part [English+中文]](https://www.kaggle.com/finlay/shopee-products-matching-text-part-english)\n",
    "- [Reaching 0.612 with Text Only : Shopee](https://www.kaggle.com/tanulsingh077/reaching-0-612-with-text-only-shopee)\n",
    "- [Image and Text EDA - (Very) Naive Model](https://www.kaggle.com/manabendrarout/image-and-text-eda-very-naive-model)"
   ]
  },
  {
   "cell_type": "code",
   "execution_count": null,
   "id": "06317584-e48a-476f-a316-8a36aced57cb",
   "metadata": {},
   "outputs": [],
   "source": []
  }
 ],
 "metadata": {
  "kernelspec": {
   "display_name": "Python 3",
   "language": "python",
   "name": "python3"
  },
  "language_info": {
   "codemirror_mode": {
    "name": "ipython",
    "version": 3
   },
   "file_extension": ".py",
   "mimetype": "text/x-python",
   "name": "python",
   "nbconvert_exporter": "python",
   "pygments_lexer": "ipython3",
   "version": "3.8.6"
  }
 },
 "nbformat": 4,
 "nbformat_minor": 5
}
