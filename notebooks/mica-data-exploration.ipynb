{
 "cells": [
  {
   "cell_type": "markdown",
   "id": "6474116c-7ca1-411f-ba94-a38be8dca611",
   "metadata": {},
   "source": [
    "# Notebook Parameters\n",
    "---\n"
   ]
  },
  {
   "cell_type": "markdown",
   "id": "4de9a303-4658-4288-bfd4-f54ee625f1cd",
   "metadata": {},
   "source": [
    "## Notebook Settings"
   ]
  },
  {
   "cell_type": "code",
   "execution_count": 2,
   "id": "820d5c0e-5cd5-4b7d-8e28-29ed6391dc7f",
   "metadata": {
    "collapsed": true,
    "jupyter": {
     "outputs_hidden": true
    },
    "tags": []
   },
   "outputs": [
    {
     "name": "stdout",
     "output_type": "stream",
     "text": [
      "The autoreload extension is already loaded. To reload it, use:\n",
      "  %reload_ext autoreload\n",
      "Collecting ipython-autotime\n",
      "  Downloading ipython_autotime-0.3.1-py2.py3-none-any.whl (6.8 kB)\n",
      "Requirement already satisfied: ipython in /Users/mica/.pyenv/versions/3.8.6/envs/kaggle/lib/python3.8/site-packages (from ipython-autotime) (7.22.0)\n",
      "Requirement already satisfied: backcall in /Users/mica/.pyenv/versions/3.8.6/envs/kaggle/lib/python3.8/site-packages (from ipython->ipython-autotime) (0.2.0)\n",
      "Requirement already satisfied: jedi>=0.16 in /Users/mica/.pyenv/versions/3.8.6/envs/kaggle/lib/python3.8/site-packages (from ipython->ipython-autotime) (0.18.0)\n",
      "Requirement already satisfied: traitlets>=4.2 in /Users/mica/.pyenv/versions/3.8.6/envs/kaggle/lib/python3.8/site-packages (from ipython->ipython-autotime) (5.0.5)\n",
      "Requirement already satisfied: appnope in /Users/mica/.pyenv/versions/3.8.6/envs/kaggle/lib/python3.8/site-packages (from ipython->ipython-autotime) (0.1.2)\n",
      "Requirement already satisfied: pickleshare in /Users/mica/.pyenv/versions/3.8.6/envs/kaggle/lib/python3.8/site-packages (from ipython->ipython-autotime) (0.7.5)\n",
      "Requirement already satisfied: setuptools>=18.5 in /Users/mica/.pyenv/versions/3.8.6/envs/kaggle/lib/python3.8/site-packages (from ipython->ipython-autotime) (56.0.0)\n",
      "Requirement already satisfied: prompt-toolkit!=3.0.0,!=3.0.1,<3.1.0,>=2.0.0 in /Users/mica/.pyenv/versions/3.8.6/envs/kaggle/lib/python3.8/site-packages (from ipython->ipython-autotime) (3.0.18)\n",
      "Requirement already satisfied: pygments in /Users/mica/.pyenv/versions/3.8.6/envs/kaggle/lib/python3.8/site-packages (from ipython->ipython-autotime) (2.8.1)\n",
      "Requirement already satisfied: pexpect>4.3 in /Users/mica/.pyenv/versions/3.8.6/envs/kaggle/lib/python3.8/site-packages (from ipython->ipython-autotime) (4.8.0)\n",
      "Requirement already satisfied: decorator in /Users/mica/.pyenv/versions/3.8.6/envs/kaggle/lib/python3.8/site-packages (from ipython->ipython-autotime) (4.4.2)\n",
      "Requirement already satisfied: parso<0.9.0,>=0.8.0 in /Users/mica/.pyenv/versions/3.8.6/envs/kaggle/lib/python3.8/site-packages (from jedi>=0.16->ipython->ipython-autotime) (0.8.2)\n",
      "Requirement already satisfied: ptyprocess>=0.5 in /Users/mica/.pyenv/versions/3.8.6/envs/kaggle/lib/python3.8/site-packages (from pexpect>4.3->ipython->ipython-autotime) (0.7.0)\n",
      "Requirement already satisfied: wcwidth in /Users/mica/.pyenv/versions/3.8.6/envs/kaggle/lib/python3.8/site-packages (from prompt-toolkit!=3.0.0,!=3.0.1,<3.1.0,>=2.0.0->ipython->ipython-autotime) (0.2.5)\n",
      "Requirement already satisfied: ipython-genutils in /Users/mica/.pyenv/versions/3.8.6/envs/kaggle/lib/python3.8/site-packages (from traitlets>=4.2->ipython->ipython-autotime) (0.2.0)\n",
      "Installing collected packages: ipython-autotime\n",
      "Successfully installed ipython-autotime-0.3.1\n",
      "time: 1.54 ms (started: 2021-04-19 00:14:15 +02:00)\n"
     ]
    }
   ],
   "source": [
    "\"\"\"Jupyter settings\"\"\"\n",
    "# Enable autoreload\n",
    "%load_ext autoreload\n",
    "%autoreload 2\n",
    "\n",
    "# Pylint parameters\n",
    "%config Completer.use_jedi = False\n",
    "\n",
    "# Measure Runtime\n",
    "# !pip install ipython-autotime\n",
    "%load_ext autotime\n",
    "\n",
    "# Mute warnings\n",
    "import warnings\n",
    "warnings.filterwarnings('ignore')"
   ]
  },
  {
   "cell_type": "markdown",
   "id": "36f319cd-53e3-49d7-801d-1f7ba7696617",
   "metadata": {},
   "source": [
    "## Imported Packages"
   ]
  },
  {
   "cell_type": "code",
   "execution_count": 3,
   "id": "94ba57df-cae8-4089-8962-c28eb5a32421",
   "metadata": {},
   "outputs": [
    {
     "name": "stdout",
     "output_type": "stream",
     "text": [
      "time: 2.07 s (started: 2021-04-19 00:15:29 +02:00)\n"
     ]
    }
   ],
   "source": [
    "\"\"\"Packages for manipulation of vectors, arrays, dataframes\"\"\"\n",
    "import numpy as np\n",
    "import pandas as pd\n",
    "\n",
    "# Change display settings of pandas\n",
    "pd.set_option(\"display.max_row\", 100)\n",
    "pd.set_option(\"display.max_columns\", 50)\n",
    "pd.set_option(\"display.max_colwidth\", None)\n",
    "\n",
    "\"\"\"Packages for data visualization\"\"\"\n",
    "import seaborn as sns\n",
    "from matplotlib import pyplot as plt\n",
    "\n",
    "%matplotlib inline"
   ]
  },
  {
   "cell_type": "markdown",
   "id": "645fc055-7b73-424c-aa6d-c7f30f1cfbd3",
   "metadata": {},
   "source": [
    "# EDA\n",
    "---\n"
   ]
  },
  {
   "cell_type": "markdown",
   "id": "c23d2053-67db-407e-9294-a81ddd2a21b1",
   "metadata": {},
   "source": [
    "## Loading Data"
   ]
  },
  {
   "cell_type": "code",
   "execution_count": null,
   "id": "deca6a15-a536-4b02-9535-71d966ed8d0b",
   "metadata": {},
   "outputs": [],
   "source": []
  }
 ],
 "metadata": {
  "kernelspec": {
   "display_name": "Python 3",
   "language": "python",
   "name": "python3"
  },
  "language_info": {
   "codemirror_mode": {
    "name": "ipython",
    "version": 3
   },
   "file_extension": ".py",
   "mimetype": "text/x-python",
   "name": "python",
   "nbconvert_exporter": "python",
   "pygments_lexer": "ipython3",
   "version": "3.8.6"
  }
 },
 "nbformat": 4,
 "nbformat_minor": 5
}
