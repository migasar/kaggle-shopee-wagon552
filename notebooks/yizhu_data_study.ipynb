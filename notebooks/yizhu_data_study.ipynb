{
 "cells": [
  {
   "cell_type": "markdown",
   "id": "oriental-health",
   "metadata": {},
   "source": [
    "# Notebook to check the dataset"
   ]
  },
  {
   "cell_type": "markdown",
   "id": "residential-ancient",
   "metadata": {},
   "source": [
    "## Import different dataset to have a global picture"
   ]
  },
  {
   "cell_type": "code",
   "execution_count": 2,
   "id": "vocational-karen",
   "metadata": {},
   "outputs": [],
   "source": [
    "import numpy as np\n",
    "import pandas as pd"
   ]
  },
  {
   "cell_type": "code",
   "execution_count": 3,
   "id": "durable-usage",
   "metadata": {},
   "outputs": [],
   "source": [
    "df = pd.read_csv('../raw_data/train.csv')"
   ]
  },
  {
   "cell_type": "code",
   "execution_count": 4,
   "id": "statewide-review",
   "metadata": {},
   "outputs": [
    {
     "data": {
      "text/html": [
       "<div>\n",
       "<style scoped>\n",
       "    .dataframe tbody tr th:only-of-type {\n",
       "        vertical-align: middle;\n",
       "    }\n",
       "\n",
       "    .dataframe tbody tr th {\n",
       "        vertical-align: top;\n",
       "    }\n",
       "\n",
       "    .dataframe thead th {\n",
       "        text-align: right;\n",
       "    }\n",
       "</style>\n",
       "<table border=\"1\" class=\"dataframe\">\n",
       "  <thead>\n",
       "    <tr style=\"text-align: right;\">\n",
       "      <th></th>\n",
       "      <th>posting_id</th>\n",
       "      <th>image</th>\n",
       "      <th>image_phash</th>\n",
       "      <th>title</th>\n",
       "      <th>label_group</th>\n",
       "    </tr>\n",
       "  </thead>\n",
       "  <tbody>\n",
       "    <tr>\n",
       "      <th>0</th>\n",
       "      <td>train_129225211</td>\n",
       "      <td>0000a68812bc7e98c42888dfb1c07da0.jpg</td>\n",
       "      <td>94974f937d4c2433</td>\n",
       "      <td>Paper Bag Victoria Secret</td>\n",
       "      <td>249114794</td>\n",
       "    </tr>\n",
       "    <tr>\n",
       "      <th>1</th>\n",
       "      <td>train_3386243561</td>\n",
       "      <td>00039780dfc94d01db8676fe789ecd05.jpg</td>\n",
       "      <td>af3f9460c2838f0f</td>\n",
       "      <td>Double Tape 3M VHB 12 mm x 4,5 m ORIGINAL / DO...</td>\n",
       "      <td>2937985045</td>\n",
       "    </tr>\n",
       "    <tr>\n",
       "      <th>2</th>\n",
       "      <td>train_2288590299</td>\n",
       "      <td>000a190fdd715a2a36faed16e2c65df7.jpg</td>\n",
       "      <td>b94cb00ed3e50f78</td>\n",
       "      <td>Maling TTS Canned Pork Luncheon Meat 397 gr</td>\n",
       "      <td>2395904891</td>\n",
       "    </tr>\n",
       "    <tr>\n",
       "      <th>3</th>\n",
       "      <td>train_2406599165</td>\n",
       "      <td>00117e4fc239b1b641ff08340b429633.jpg</td>\n",
       "      <td>8514fc58eafea283</td>\n",
       "      <td>Daster Batik Lengan pendek - Motif Acak / Camp...</td>\n",
       "      <td>4093212188</td>\n",
       "    </tr>\n",
       "    <tr>\n",
       "      <th>4</th>\n",
       "      <td>train_3369186413</td>\n",
       "      <td>00136d1cf4edede0203f32f05f660588.jpg</td>\n",
       "      <td>a6f319f924ad708c</td>\n",
       "      <td>Nescafe \\xc3\\x89clair Latte 220ml</td>\n",
       "      <td>3648931069</td>\n",
       "    </tr>\n",
       "    <tr>\n",
       "      <th>...</th>\n",
       "      <td>...</td>\n",
       "      <td>...</td>\n",
       "      <td>...</td>\n",
       "      <td>...</td>\n",
       "      <td>...</td>\n",
       "    </tr>\n",
       "    <tr>\n",
       "      <th>34245</th>\n",
       "      <td>train_4028265689</td>\n",
       "      <td>fff1c07ceefc2c970a7964cfb81981c5.jpg</td>\n",
       "      <td>e3cd72389f248f21</td>\n",
       "      <td>Masker Bahan Kain Spunbond Non Woven 75 gsm 3 ...</td>\n",
       "      <td>3776555725</td>\n",
       "    </tr>\n",
       "    <tr>\n",
       "      <th>34246</th>\n",
       "      <td>train_769054909</td>\n",
       "      <td>fff401691371bdcb382a0d9075dfea6a.jpg</td>\n",
       "      <td>be86851f72e2853c</td>\n",
       "      <td>MamyPoko Pants Royal Soft - S 70 - Popok Celana</td>\n",
       "      <td>2736479533</td>\n",
       "    </tr>\n",
       "    <tr>\n",
       "      <th>34247</th>\n",
       "      <td>train_614977732</td>\n",
       "      <td>fff421b78fa7284284724baf249f522e.jpg</td>\n",
       "      <td>ad27f0d08c0fcbf0</td>\n",
       "      <td>KHANZAACC Robot RE101S 1.2mm Subwoofer Bass Me...</td>\n",
       "      <td>4101248785</td>\n",
       "    </tr>\n",
       "    <tr>\n",
       "      <th>34248</th>\n",
       "      <td>train_3630949769</td>\n",
       "      <td>fff51b87916dbfb6d0f8faa01bee67b8.jpg</td>\n",
       "      <td>e3b13bd1d896c05c</td>\n",
       "      <td>Kaldu NON MSG HALAL Mama Kamu Ayam Kampung , S...</td>\n",
       "      <td>1663538013</td>\n",
       "    </tr>\n",
       "    <tr>\n",
       "      <th>34249</th>\n",
       "      <td>train_1792180725</td>\n",
       "      <td>ffffa0ab2ae542357671e96254fa7167.jpg</td>\n",
       "      <td>af8bc4b2d2cf9083</td>\n",
       "      <td>FLEX TAPE PELAPIS BOCOR / ISOLASI AJAIB / ANTI...</td>\n",
       "      <td>459464107</td>\n",
       "    </tr>\n",
       "  </tbody>\n",
       "</table>\n",
       "<p>34250 rows × 5 columns</p>\n",
       "</div>"
      ],
      "text/plain": [
       "             posting_id                                 image  \\\n",
       "0       train_129225211  0000a68812bc7e98c42888dfb1c07da0.jpg   \n",
       "1      train_3386243561  00039780dfc94d01db8676fe789ecd05.jpg   \n",
       "2      train_2288590299  000a190fdd715a2a36faed16e2c65df7.jpg   \n",
       "3      train_2406599165  00117e4fc239b1b641ff08340b429633.jpg   \n",
       "4      train_3369186413  00136d1cf4edede0203f32f05f660588.jpg   \n",
       "...                 ...                                   ...   \n",
       "34245  train_4028265689  fff1c07ceefc2c970a7964cfb81981c5.jpg   \n",
       "34246   train_769054909  fff401691371bdcb382a0d9075dfea6a.jpg   \n",
       "34247   train_614977732  fff421b78fa7284284724baf249f522e.jpg   \n",
       "34248  train_3630949769  fff51b87916dbfb6d0f8faa01bee67b8.jpg   \n",
       "34249  train_1792180725  ffffa0ab2ae542357671e96254fa7167.jpg   \n",
       "\n",
       "            image_phash                                              title  \\\n",
       "0      94974f937d4c2433                          Paper Bag Victoria Secret   \n",
       "1      af3f9460c2838f0f  Double Tape 3M VHB 12 mm x 4,5 m ORIGINAL / DO...   \n",
       "2      b94cb00ed3e50f78        Maling TTS Canned Pork Luncheon Meat 397 gr   \n",
       "3      8514fc58eafea283  Daster Batik Lengan pendek - Motif Acak / Camp...   \n",
       "4      a6f319f924ad708c                  Nescafe \\xc3\\x89clair Latte 220ml   \n",
       "...                 ...                                                ...   \n",
       "34245  e3cd72389f248f21  Masker Bahan Kain Spunbond Non Woven 75 gsm 3 ...   \n",
       "34246  be86851f72e2853c    MamyPoko Pants Royal Soft - S 70 - Popok Celana   \n",
       "34247  ad27f0d08c0fcbf0  KHANZAACC Robot RE101S 1.2mm Subwoofer Bass Me...   \n",
       "34248  e3b13bd1d896c05c  Kaldu NON MSG HALAL Mama Kamu Ayam Kampung , S...   \n",
       "34249  af8bc4b2d2cf9083  FLEX TAPE PELAPIS BOCOR / ISOLASI AJAIB / ANTI...   \n",
       "\n",
       "       label_group  \n",
       "0        249114794  \n",
       "1       2937985045  \n",
       "2       2395904891  \n",
       "3       4093212188  \n",
       "4       3648931069  \n",
       "...            ...  \n",
       "34245   3776555725  \n",
       "34246   2736479533  \n",
       "34247   4101248785  \n",
       "34248   1663538013  \n",
       "34249    459464107  \n",
       "\n",
       "[34250 rows x 5 columns]"
      ]
     },
     "execution_count": 4,
     "metadata": {},
     "output_type": "execute_result"
    }
   ],
   "source": [
    "df"
   ]
  },
  {
   "cell_type": "code",
   "execution_count": 4,
   "id": "ignored-power",
   "metadata": {},
   "outputs": [],
   "source": [
    "# ! pip install scikit-image"
   ]
  },
  {
   "cell_type": "code",
   "execution_count": 5,
   "id": "altered-occurrence",
   "metadata": {},
   "outputs": [],
   "source": [
    "from skimage import io\n",
    "import os"
   ]
  },
  {
   "cell_type": "code",
   "execution_count": 88,
   "id": "original-catholic",
   "metadata": {},
   "outputs": [
    {
     "data": {
      "text/plain": [
       "'/Users/zongyizhu/code/migasar/kaggle-wagon552-shopee/raw_data/train_images/00039780dfc94d01db8676fe789ecd05.jpg'"
      ]
     },
     "execution_count": 88,
     "metadata": {},
     "output_type": "execute_result"
    }
   ],
   "source": [
    "filename = os.path.abspath(os.path.join('../raw_data/train_images', '00039780dfc94d01db8676fe789ecd05.jpg'))\n",
    "filename"
   ]
  },
  {
   "cell_type": "code",
   "execution_count": 89,
   "id": "jewish-polymer",
   "metadata": {},
   "outputs": [],
   "source": [
    "import matplotlib.pyplot as plt"
   ]
  },
  {
   "cell_type": "code",
   "execution_count": 90,
   "id": "sudden-orleans",
   "metadata": {},
   "outputs": [
    {
     "data": {
      "text/plain": [
       "(1000, 1000, 3)"
      ]
     },
     "execution_count": 90,
     "metadata": {},
     "output_type": "execute_result"
    }
   ],
   "source": [
    "img = io.imread(filename)\n",
    "img.shape"
   ]
  },
  {
   "cell_type": "code",
   "execution_count": 91,
   "id": "floating-letter",
   "metadata": {},
   "outputs": [
    {
     "data": {
      "text/plain": [
       "array([[[255, 255, 255],\n",
       "        [255, 255, 255],\n",
       "        [255, 255, 255],\n",
       "        ...,\n",
       "        [255, 255, 255],\n",
       "        [255, 255, 255],\n",
       "        [255, 255, 255]],\n",
       "\n",
       "       [[255, 255, 255],\n",
       "        [255, 255, 255],\n",
       "        [255, 255, 255],\n",
       "        ...,\n",
       "        [255, 255, 255],\n",
       "        [255, 255, 255],\n",
       "        [255, 255, 255]],\n",
       "\n",
       "       [[255, 255, 255],\n",
       "        [255, 255, 255],\n",
       "        [255, 255, 255],\n",
       "        ...,\n",
       "        [255, 255, 255],\n",
       "        [255, 255, 255],\n",
       "        [255, 255, 255]],\n",
       "\n",
       "       ...,\n",
       "\n",
       "       [[255, 255, 255],\n",
       "        [255, 255, 255],\n",
       "        [255, 255, 255],\n",
       "        ...,\n",
       "        [255, 255, 255],\n",
       "        [255, 255, 255],\n",
       "        [255, 255, 255]],\n",
       "\n",
       "       [[255, 255, 255],\n",
       "        [255, 255, 255],\n",
       "        [255, 255, 255],\n",
       "        ...,\n",
       "        [255, 255, 255],\n",
       "        [255, 255, 255],\n",
       "        [255, 255, 255]],\n",
       "\n",
       "       [[255, 255, 255],\n",
       "        [255, 255, 255],\n",
       "        [255, 255, 255],\n",
       "        ...,\n",
       "        [255, 255, 255],\n",
       "        [255, 255, 255],\n",
       "        [255, 255, 255]]], dtype=uint8)"
      ]
     },
     "execution_count": 91,
     "metadata": {},
     "output_type": "execute_result"
    }
   ],
   "source": [
    "img"
   ]
  },
  {
   "cell_type": "code",
   "execution_count": 92,
   "id": "subsequent-performance",
   "metadata": {},
   "outputs": [
    {
     "data": {
      "text/plain": [
       "<matplotlib.image.AxesImage at 0x125a668e0>"
      ]
     },
     "execution_count": 92,
     "metadata": {},
     "output_type": "execute_result"
    },
    {
     "data": {
      "image/png": "[encoded data removed]",
      "text/plain": [
       "<Figure size 432x288 with 1 Axes>"
      ]
     },
     "metadata": {
      "needs_background": "light"
     },
     "output_type": "display_data"
    }
   ],
   "source": [
    "plt.imshow(img)"
   ]
  },
  {
   "cell_type": "code",
   "execution_count": 12,
   "id": "random-cleveland",
   "metadata": {},
   "outputs": [],
   "source": [
    "# from PIL import Image\n",
    "# image = Image.open(filename)\n",
    "# image= image.resize((256,256))"
   ]
  },
  {
   "cell_type": "code",
   "execution_count": 11,
   "id": "subtle-bosnia",
   "metadata": {},
   "outputs": [],
   "source": [
    "from skimage import color\n",
    "from skimage.transform import rescale\n",
    "image = color.rgb2gray(img)\n",
    "image_rescaled = rescale(image, 256/1024, anti_aliasing=False)"
   ]
  },
  {
   "cell_type": "code",
   "execution_count": 12,
   "id": "institutional-taste",
   "metadata": {},
   "outputs": [
    {
     "data": {
      "text/plain": [
       "array([[0.41998431, 0.37586667, 0.37978824, ..., 0.41096363, 0.39324873,\n",
       "        0.39005216],\n",
       "       [0.28763137, 0.27684706, 0.27782745, ..., 0.44064373, 0.42012706,\n",
       "        0.39858382],\n",
       "       [0.36900392, 0.39155294, 0.38665098, ..., 0.37184314, 0.40497824,\n",
       "        0.43350745],\n",
       "       ...,\n",
       "       [0.57015637, 0.40865627, 0.45329912, ..., 0.51743078, 0.57855206,\n",
       "        0.54556539],\n",
       "       [0.44846784, 0.46441804, 0.47503186, ..., 0.4979549 , 0.59175235,\n",
       "        0.52546451],\n",
       "       [0.41179373, 0.4931549 , 0.48532882, ..., 0.48660118, 0.58150529,\n",
       "        0.52350373]])"
      ]
     },
     "execution_count": 12,
     "metadata": {},
     "output_type": "execute_result"
    }
   ],
   "source": [
    "image_rescaled"
   ]
  },
  {
   "cell_type": "code",
   "execution_count": 13,
   "id": "abroad-copyright",
   "metadata": {},
   "outputs": [
    {
     "data": {
      "text/plain": [
       "<matplotlib.image.AxesImage at 0x121ccd340>"
      ]
     },
     "execution_count": 13,
     "metadata": {},
     "output_type": "execute_result"
    },
    {
     "data": {
      "image/png": "[encoded data removed]",
      "text/plain": [
       "<Figure size 432x288 with 1 Axes>"
      ]
     },
     "metadata": {
      "needs_background": "light"
     },
     "output_type": "display_data"
    }
   ],
   "source": [
    "plt.imshow(image_rescaled, cmap=plt.cm.gray)"
   ]
  },
  {
   "cell_type": "code",
   "execution_count": 14,
   "id": "angry-mambo",
   "metadata": {},
   "outputs": [
    {
     "data": {
      "text/plain": [
       "256"
      ]
     },
     "execution_count": 14,
     "metadata": {},
     "output_type": "execute_result"
    }
   ],
   "source": [
    "image_rescaled.shape[0]"
   ]
  },
  {
   "cell_type": "code",
   "execution_count": 43,
   "id": "danish-findings",
   "metadata": {},
   "outputs": [],
   "source": [
    "def rescale_img(file_name):\n",
    "    filename = os.path.abspath(os.path.join('../raw_data/train_images', file_name))\n",
    "    image = io.imread(filename)\n",
    "    image_bw = color.rgb2gray(image)\n",
    "    img_shape = image_bw.shape\n",
    "    if img_shape[0] == img_shape[1] and img_shape[0] > 100:\n",
    "        img_rescale = rescale(image_bw, 100/img_shape[0], anti_aliasing=False)\n",
    "        return np.reshape(img_rescale, (100 * 100))\n",
    "    else:\n",
    "        return None"
   ]
  },
  {
   "cell_type": "code",
   "execution_count": 44,
   "id": "practical-performer",
   "metadata": {},
   "outputs": [],
   "source": [
    "img_1 = rescale_img('000a190fdd715a2a36faed16e2c65df7.jpg')"
   ]
  },
  {
   "cell_type": "code",
   "execution_count": 45,
   "id": "stock-manhattan",
   "metadata": {},
   "outputs": [
    {
     "data": {
      "text/plain": [
       "(10000,)"
      ]
     },
     "execution_count": 45,
     "metadata": {},
     "output_type": "execute_result"
    }
   ],
   "source": [
    "# np.reshape(img_rescale, (img_shape * img_shape))\n",
    "img_1.shape"
   ]
  },
  {
   "cell_type": "code",
   "execution_count": 29,
   "id": "acquired-silver",
   "metadata": {},
   "outputs": [
    {
     "data": {
      "text/plain": [
       "<matplotlib.image.AxesImage at 0x121db43a0>"
      ]
     },
     "execution_count": 29,
     "metadata": {},
     "output_type": "execute_result"
    },
    {
     "data": {
      "image/png": "[encoded data removed]",
      "text/plain": [
       "<Figure size 432x288 with 1 Axes>"
      ]
     },
     "metadata": {
      "needs_background": "light"
     },
     "output_type": "display_data"
    }
   ],
   "source": [
    "plt.imshow(img_1, cmap=plt.cm.gray)"
   ]
  },
  {
   "cell_type": "code",
   "execution_count": 46,
   "id": "commercial-foundation",
   "metadata": {},
   "outputs": [],
   "source": [
    "df[\"img_data\"] = df['image'].apply(rescale_img)"
   ]
  },
  {
   "cell_type": "code",
   "execution_count": 111,
   "id": "beneficial-college",
   "metadata": {},
   "outputs": [
    {
     "data": {
      "text/html": [
       "<div>\n",
       "<style scoped>\n",
       "    .dataframe tbody tr th:only-of-type {\n",
       "        vertical-align: middle;\n",
       "    }\n",
       "\n",
       "    .dataframe tbody tr th {\n",
       "        vertical-align: top;\n",
       "    }\n",
       "\n",
       "    .dataframe thead th {\n",
       "        text-align: right;\n",
       "    }\n",
       "</style>\n",
       "<table border=\"1\" class=\"dataframe\">\n",
       "  <thead>\n",
       "    <tr style=\"text-align: right;\">\n",
       "      <th></th>\n",
       "      <th>posting_id</th>\n",
       "      <th>image</th>\n",
       "      <th>image_phash</th>\n",
       "      <th>title</th>\n",
       "      <th>label_group</th>\n",
       "      <th>img_data</th>\n",
       "    </tr>\n",
       "  </thead>\n",
       "  <tbody>\n",
       "    <tr>\n",
       "      <th>0</th>\n",
       "      <td>train_129225211</td>\n",
       "      <td>0000a68812bc7e98c42888dfb1c07da0.jpg</td>\n",
       "      <td>94974f937d4c2433</td>\n",
       "      <td>Paper Bag Victoria Secret</td>\n",
       "      <td>249114794</td>\n",
       "      <td>[0.2863545098039194, 0.3814760784313546, 0.434...</td>\n",
       "    </tr>\n",
       "    <tr>\n",
       "      <th>1</th>\n",
       "      <td>train_3386243561</td>\n",
       "      <td>00039780dfc94d01db8676fe789ecd05.jpg</td>\n",
       "      <td>af3f9460c2838f0f</td>\n",
       "      <td>Double Tape 3M VHB 12 mm x 4,5 m ORIGINAL / DO...</td>\n",
       "      <td>2937985045</td>\n",
       "      <td>[1.0, 1.0, 1.0, 1.0, 1.0, 1.0, 1.0, 1.0, 1.0, ...</td>\n",
       "    </tr>\n",
       "    <tr>\n",
       "      <th>2</th>\n",
       "      <td>train_2288590299</td>\n",
       "      <td>000a190fdd715a2a36faed16e2c65df7.jpg</td>\n",
       "      <td>b94cb00ed3e50f78</td>\n",
       "      <td>Maling TTS Canned Pork Luncheon Meat 397 gr</td>\n",
       "      <td>2395904891</td>\n",
       "      <td>[0.7907054901960784, 0.7907054901960784, 0.784...</td>\n",
       "    </tr>\n",
       "    <tr>\n",
       "      <th>3</th>\n",
       "      <td>train_2406599165</td>\n",
       "      <td>00117e4fc239b1b641ff08340b429633.jpg</td>\n",
       "      <td>8514fc58eafea283</td>\n",
       "      <td>Daster Batik Lengan pendek - Motif Acak / Camp...</td>\n",
       "      <td>4093212188</td>\n",
       "      <td>[0.996078431372549, 0.996078431372549, 0.99607...</td>\n",
       "    </tr>\n",
       "    <tr>\n",
       "      <th>4</th>\n",
       "      <td>train_3369186413</td>\n",
       "      <td>00136d1cf4edede0203f32f05f660588.jpg</td>\n",
       "      <td>a6f319f924ad708c</td>\n",
       "      <td>Nescafe \\xc3\\x89clair Latte 220ml</td>\n",
       "      <td>3648931069</td>\n",
       "      <td>[1.0, 1.0, 1.0, 1.0, 1.0, 1.0, 1.0, 1.0, 1.0, ...</td>\n",
       "    </tr>\n",
       "    <tr>\n",
       "      <th>5</th>\n",
       "      <td>train_2464356923</td>\n",
       "      <td>0013e7355ffc5ff8fb1ccad3e42d92fe.jpg</td>\n",
       "      <td>bbd097a7870f4a50</td>\n",
       "      <td>CELANA WANITA  (BB 45-84 KG)Harem wanita (bisa...</td>\n",
       "      <td>2660605217</td>\n",
       "      <td>[0.6917803921568628, 0.6917803921568628, 0.692...</td>\n",
       "    </tr>\n",
       "    <tr>\n",
       "      <th>6</th>\n",
       "      <td>train_1802986387</td>\n",
       "      <td>00144a49c56599d45354a1c28104c039.jpg</td>\n",
       "      <td>f815c9bb833ab4c8</td>\n",
       "      <td>Jubah anak size 1-12 thn</td>\n",
       "      <td>1835033137</td>\n",
       "      <td>[0.838129411764706, 0.8385215686274518, 0.8498...</td>\n",
       "    </tr>\n",
       "    <tr>\n",
       "      <th>7</th>\n",
       "      <td>train_1806152124</td>\n",
       "      <td>0014f61389cbaa687a58e38a97b6383d.jpg</td>\n",
       "      <td>eea7e1c0c04da33d</td>\n",
       "      <td>KULOT PLISKET SALUR /CANDY PLISKET /WISH KULOT...</td>\n",
       "      <td>1565741687</td>\n",
       "      <td>[0.9533839215686273, 0.9639582352941168, 0.957...</td>\n",
       "    </tr>\n",
       "    <tr>\n",
       "      <th>8</th>\n",
       "      <td>train_86570404</td>\n",
       "      <td>0019a3c6755a194cb2e2c12bfc63972e.jpg</td>\n",
       "      <td>ea9af4f483249972</td>\n",
       "      <td>[LOGU] Tempelan kulkas magnet angka, tempelan ...</td>\n",
       "      <td>2359912463</td>\n",
       "      <td>[0.9994345098039216, 0.9994345098039213, 0.995...</td>\n",
       "    </tr>\n",
       "    <tr>\n",
       "      <th>9</th>\n",
       "      <td>train_831680791</td>\n",
       "      <td>001be52b2beec40ddc1d2d7fc7a68f08.jpg</td>\n",
       "      <td>e1ce953d1a70618f</td>\n",
       "      <td>BIG SALE SEPATU PANTOFEL KULIT KEREN KERJA KAN...</td>\n",
       "      <td>2630990665</td>\n",
       "      <td>[0.07181725490196078, 0.07181725490196078, 0.0...</td>\n",
       "    </tr>\n",
       "    <tr>\n",
       "      <th>10</th>\n",
       "      <td>train_1598329973</td>\n",
       "      <td>001d7f5d9a2fac714f4d5f37b3baffb4.jpg</td>\n",
       "      <td>bec8d09693634b4b</td>\n",
       "      <td>Atasan Rajut Wanita LISDIA SWEATER</td>\n",
       "      <td>2462407944</td>\n",
       "      <td>[1.0, 0.9966290196078299, 0.8377643137254902, ...</td>\n",
       "    </tr>\n",
       "    <tr>\n",
       "      <th>11</th>\n",
       "      <td>train_2496690777</td>\n",
       "      <td>001e11145b8e9bf5ac51110c0fdd8697.jpg</td>\n",
       "      <td>eab5c295966ac368</td>\n",
       "      <td>PASHMINA KUSUT RAWIS POLOS CRINKLE SHAWL MURAH...</td>\n",
       "      <td>509010932</td>\n",
       "      <td>[1.0, 1.0, 1.0, 0.9980392156862743, 0.97254901...</td>\n",
       "    </tr>\n",
       "    <tr>\n",
       "      <th>12</th>\n",
       "      <td>train_2771755203</td>\n",
       "      <td>001e11145b8e9bf5ac51110c0fdd8697.jpg</td>\n",
       "      <td>eab5c295966ac368</td>\n",
       "      <td>PASHMINA KUSUT RAWIS POLOS CRINKLE SHAWL MURAH...</td>\n",
       "      <td>509010932</td>\n",
       "      <td>[1.0, 1.0, 1.0, 0.9980392156862743, 0.97254901...</td>\n",
       "    </tr>\n",
       "    <tr>\n",
       "      <th>13</th>\n",
       "      <td>train_998568945</td>\n",
       "      <td>001f4c8331d0554d133b10d85b7fafb2.jpg</td>\n",
       "      <td>d8a6082bb93d2db5</td>\n",
       "      <td>Lampu led t5 Speedometer Dashboard Motor Mobil...</td>\n",
       "      <td>4206465630</td>\n",
       "      <td>[1.0, 1.0, 1.0, 1.0, 1.0, 1.0, 1.0, 1.0, 1.0, ...</td>\n",
       "    </tr>\n",
       "    <tr>\n",
       "      <th>14</th>\n",
       "      <td>train_4287573913</td>\n",
       "      <td>001f5580b058c6b8e33132190a757318.jpg</td>\n",
       "      <td>dc85e1750687f932</td>\n",
       "      <td>Charger VIZZ VZ-TC11 / batok charger vizz 1A O...</td>\n",
       "      <td>1932232224</td>\n",
       "      <td>[0.45620980392157084, 0.4636607843137255, 0.46...</td>\n",
       "    </tr>\n",
       "    <tr>\n",
       "      <th>15</th>\n",
       "      <td>train_4196427721</td>\n",
       "      <td>002039aaf8618627a0442d5e89e5dda6.jpg</td>\n",
       "      <td>e98c873acc65946e</td>\n",
       "      <td>Korek Kuping LED untuk balita CherryBabyKidsSh...</td>\n",
       "      <td>349297863</td>\n",
       "      <td>[1.0, 1.0, 1.0, 1.0, 1.0, 1.0, 1.0, 1.0, 1.0, ...</td>\n",
       "    </tr>\n",
       "    <tr>\n",
       "      <th>16</th>\n",
       "      <td>train_3009013664</td>\n",
       "      <td>0027aaf8dd8bdbf0e4f2c19024e436cf.jpg</td>\n",
       "      <td>b3cccc26cc3333cc</td>\n",
       "      <td>MARKS &amp; SPENCER - Rose Hand &amp; Body Lotion 250 ml</td>\n",
       "      <td>1574620312</td>\n",
       "      <td>[1.0, 1.0, 1.0, 1.0, 1.0, 1.0, 1.0, 1.0, 1.0, ...</td>\n",
       "    </tr>\n",
       "    <tr>\n",
       "      <th>17</th>\n",
       "      <td>train_3054371232</td>\n",
       "      <td>00286d2760e433a8a01cbd9e056144f7.jpg</td>\n",
       "      <td>be85837b8ca44ad3</td>\n",
       "      <td>Saffron 0,25 gr s.d 2 gr Super Negin Premium Q...</td>\n",
       "      <td>2353399596</td>\n",
       "      <td>[1.0, 1.0, 1.0, 1.0, 1.0, 1.0, 1.0, 1.0, 1.0, ...</td>\n",
       "    </tr>\n",
       "    <tr>\n",
       "      <th>18</th>\n",
       "      <td>train_2985955659</td>\n",
       "      <td>002f978c58a44a00aadfca71c3cad2bb.jpg</td>\n",
       "      <td>bf38f0e083d7c710</td>\n",
       "      <td>HnKfashion Sweater Hoodie WHO Printing BabyTer...</td>\n",
       "      <td>3415582503</td>\n",
       "      <td>[1.0, 1.0, 1.0, 1.0, 1.0, 1.0, 1.0, 1.0, 1.0, ...</td>\n",
       "    </tr>\n",
       "    <tr>\n",
       "      <th>19</th>\n",
       "      <td>train_2961381387</td>\n",
       "      <td>00303ad1c062fdeaf5f41b9ffb71a5fb.jpg</td>\n",
       "      <td>e48d9b652098efe1</td>\n",
       "      <td>Madame Gie MakeUp Blush On BY GISELL</td>\n",
       "      <td>2098400894</td>\n",
       "      <td>[1.0, 1.0, 1.0, 1.0, 1.0, 1.0, 1.0, 1.0, 1.0, ...</td>\n",
       "    </tr>\n",
       "    <tr>\n",
       "      <th>20</th>\n",
       "      <td>train_999391364</td>\n",
       "      <td>00324695e37299a00b955674d984592b.jpg</td>\n",
       "      <td>a734d84d34702f37</td>\n",
       "      <td>Safi Dermasafe Night Moisturiser 50 gr</td>\n",
       "      <td>3624674138</td>\n",
       "      <td>None</td>\n",
       "    </tr>\n",
       "    <tr>\n",
       "      <th>21</th>\n",
       "      <td>train_2238403912</td>\n",
       "      <td>003524b70715bf6bfa00451ca08e66e0.jpg</td>\n",
       "      <td>ba35c44a3fb7c068</td>\n",
       "      <td>Kangaroo Teflon / Allu Fry Pan 18 cm - KG652</td>\n",
       "      <td>531768918</td>\n",
       "      <td>[1.0, 1.0, 1.0, 1.0, 1.0, 1.0, 1.0, 1.0, 1.0, ...</td>\n",
       "    </tr>\n",
       "    <tr>\n",
       "      <th>22</th>\n",
       "      <td>train_1396146683</td>\n",
       "      <td>0035b8fc42955c0fa2301b68e2ffe861.jpg</td>\n",
       "      <td>d5c0caa0aeb3b23e</td>\n",
       "      <td>CHOCO BALL LAGIE COKLAT Lagie Grosir Cokelat L...</td>\n",
       "      <td>4240123481</td>\n",
       "      <td>[1.0, 1.0, 1.0, 1.0, 1.0, 1.0, 1.0, 1.0, 1.0, ...</td>\n",
       "    </tr>\n",
       "    <tr>\n",
       "      <th>23</th>\n",
       "      <td>train_1180155871</td>\n",
       "      <td>00369839c7d94411e54437b7cf59b603.jpg</td>\n",
       "      <td>bbc1c43ec3633ec0</td>\n",
       "      <td>[INCLUDE PAJAK] NCT DREAM RELOAD ALBUM</td>\n",
       "      <td>2224428568</td>\n",
       "      <td>[1.0, 1.0, 1.0, 1.0, 1.0, 1.0, 1.0, 1.0, 1.0, ...</td>\n",
       "    </tr>\n",
       "    <tr>\n",
       "      <th>24</th>\n",
       "      <td>train_1872347548</td>\n",
       "      <td>003906c6c6bba4cde15e5e854dba8f6d.jpg</td>\n",
       "      <td>f3e18c5ea14493e3</td>\n",
       "      <td>Stand Hanger Multifungsi - Tiang Gantungan Baj...</td>\n",
       "      <td>4044205497</td>\n",
       "      <td>[0.8862745098039218, 0.8862745098039215, 0.886...</td>\n",
       "    </tr>\n",
       "  </tbody>\n",
       "</table>\n",
       "</div>"
      ],
      "text/plain": [
       "          posting_id                                 image       image_phash  \\\n",
       "0    train_129225211  0000a68812bc7e98c42888dfb1c07da0.jpg  94974f937d4c2433   \n",
       "1   train_3386243561  00039780dfc94d01db8676fe789ecd05.jpg  af3f9460c2838f0f   \n",
       "2   train_2288590299  000a190fdd715a2a36faed16e2c65df7.jpg  b94cb00ed3e50f78   \n",
       "3   train_2406599165  00117e4fc239b1b641ff08340b429633.jpg  8514fc58eafea283   \n",
       "4   train_3369186413  00136d1cf4edede0203f32f05f660588.jpg  a6f319f924ad708c   \n",
       "5   train_2464356923  0013e7355ffc5ff8fb1ccad3e42d92fe.jpg  bbd097a7870f4a50   \n",
       "6   train_1802986387  00144a49c56599d45354a1c28104c039.jpg  f815c9bb833ab4c8   \n",
       "7   train_1806152124  0014f61389cbaa687a58e38a97b6383d.jpg  eea7e1c0c04da33d   \n",
       "8     train_86570404  0019a3c6755a194cb2e2c12bfc63972e.jpg  ea9af4f483249972   \n",
       "9    train_831680791  001be52b2beec40ddc1d2d7fc7a68f08.jpg  e1ce953d1a70618f   \n",
       "10  train_1598329973  001d7f5d9a2fac714f4d5f37b3baffb4.jpg  bec8d09693634b4b   \n",
       "11  train_2496690777  001e11145b8e9bf5ac51110c0fdd8697.jpg  eab5c295966ac368   \n",
       "12  train_2771755203  001e11145b8e9bf5ac51110c0fdd8697.jpg  eab5c295966ac368   \n",
       "13   train_998568945  001f4c8331d0554d133b10d85b7fafb2.jpg  d8a6082bb93d2db5   \n",
       "14  train_4287573913  001f5580b058c6b8e33132190a757318.jpg  dc85e1750687f932   \n",
       "15  train_4196427721  002039aaf8618627a0442d5e89e5dda6.jpg  e98c873acc65946e   \n",
       "16  train_3009013664  0027aaf8dd8bdbf0e4f2c19024e436cf.jpg  b3cccc26cc3333cc   \n",
       "17  train_3054371232  00286d2760e433a8a01cbd9e056144f7.jpg  be85837b8ca44ad3   \n",
       "18  train_2985955659  002f978c58a44a00aadfca71c3cad2bb.jpg  bf38f0e083d7c710   \n",
       "19  train_2961381387  00303ad1c062fdeaf5f41b9ffb71a5fb.jpg  e48d9b652098efe1   \n",
       "20   train_999391364  00324695e37299a00b955674d984592b.jpg  a734d84d34702f37   \n",
       "21  train_2238403912  003524b70715bf6bfa00451ca08e66e0.jpg  ba35c44a3fb7c068   \n",
       "22  train_1396146683  0035b8fc42955c0fa2301b68e2ffe861.jpg  d5c0caa0aeb3b23e   \n",
       "23  train_1180155871  00369839c7d94411e54437b7cf59b603.jpg  bbc1c43ec3633ec0   \n",
       "24  train_1872347548  003906c6c6bba4cde15e5e854dba8f6d.jpg  f3e18c5ea14493e3   \n",
       "\n",
       "                                                title  label_group  \\\n",
       "0                           Paper Bag Victoria Secret    249114794   \n",
       "1   Double Tape 3M VHB 12 mm x 4,5 m ORIGINAL / DO...   2937985045   \n",
       "2         Maling TTS Canned Pork Luncheon Meat 397 gr   2395904891   \n",
       "3   Daster Batik Lengan pendek - Motif Acak / Camp...   4093212188   \n",
       "4                   Nescafe \\xc3\\x89clair Latte 220ml   3648931069   \n",
       "5   CELANA WANITA  (BB 45-84 KG)Harem wanita (bisa...   2660605217   \n",
       "6                            Jubah anak size 1-12 thn   1835033137   \n",
       "7   KULOT PLISKET SALUR /CANDY PLISKET /WISH KULOT...   1565741687   \n",
       "8   [LOGU] Tempelan kulkas magnet angka, tempelan ...   2359912463   \n",
       "9   BIG SALE SEPATU PANTOFEL KULIT KEREN KERJA KAN...   2630990665   \n",
       "10                 Atasan Rajut Wanita LISDIA SWEATER   2462407944   \n",
       "11  PASHMINA KUSUT RAWIS POLOS CRINKLE SHAWL MURAH...    509010932   \n",
       "12  PASHMINA KUSUT RAWIS POLOS CRINKLE SHAWL MURAH...    509010932   \n",
       "13  Lampu led t5 Speedometer Dashboard Motor Mobil...   4206465630   \n",
       "14  Charger VIZZ VZ-TC11 / batok charger vizz 1A O...   1932232224   \n",
       "15  Korek Kuping LED untuk balita CherryBabyKidsSh...    349297863   \n",
       "16   MARKS & SPENCER - Rose Hand & Body Lotion 250 ml   1574620312   \n",
       "17  Saffron 0,25 gr s.d 2 gr Super Negin Premium Q...   2353399596   \n",
       "18  HnKfashion Sweater Hoodie WHO Printing BabyTer...   3415582503   \n",
       "19               Madame Gie MakeUp Blush On BY GISELL   2098400894   \n",
       "20             Safi Dermasafe Night Moisturiser 50 gr   3624674138   \n",
       "21       Kangaroo Teflon / Allu Fry Pan 18 cm - KG652    531768918   \n",
       "22  CHOCO BALL LAGIE COKLAT Lagie Grosir Cokelat L...   4240123481   \n",
       "23             [INCLUDE PAJAK] NCT DREAM RELOAD ALBUM   2224428568   \n",
       "24  Stand Hanger Multifungsi - Tiang Gantungan Baj...   4044205497   \n",
       "\n",
       "                                             img_data  \n",
       "0   [0.2863545098039194, 0.3814760784313546, 0.434...  \n",
       "1   [1.0, 1.0, 1.0, 1.0, 1.0, 1.0, 1.0, 1.0, 1.0, ...  \n",
       "2   [0.7907054901960784, 0.7907054901960784, 0.784...  \n",
       "3   [0.996078431372549, 0.996078431372549, 0.99607...  \n",
       "4   [1.0, 1.0, 1.0, 1.0, 1.0, 1.0, 1.0, 1.0, 1.0, ...  \n",
       "5   [0.6917803921568628, 0.6917803921568628, 0.692...  \n",
       "6   [0.838129411764706, 0.8385215686274518, 0.8498...  \n",
       "7   [0.9533839215686273, 0.9639582352941168, 0.957...  \n",
       "8   [0.9994345098039216, 0.9994345098039213, 0.995...  \n",
       "9   [0.07181725490196078, 0.07181725490196078, 0.0...  \n",
       "10  [1.0, 0.9966290196078299, 0.8377643137254902, ...  \n",
       "11  [1.0, 1.0, 1.0, 0.9980392156862743, 0.97254901...  \n",
       "12  [1.0, 1.0, 1.0, 0.9980392156862743, 0.97254901...  \n",
       "13  [1.0, 1.0, 1.0, 1.0, 1.0, 1.0, 1.0, 1.0, 1.0, ...  \n",
       "14  [0.45620980392157084, 0.4636607843137255, 0.46...  \n",
       "15  [1.0, 1.0, 1.0, 1.0, 1.0, 1.0, 1.0, 1.0, 1.0, ...  \n",
       "16  [1.0, 1.0, 1.0, 1.0, 1.0, 1.0, 1.0, 1.0, 1.0, ...  \n",
       "17  [1.0, 1.0, 1.0, 1.0, 1.0, 1.0, 1.0, 1.0, 1.0, ...  \n",
       "18  [1.0, 1.0, 1.0, 1.0, 1.0, 1.0, 1.0, 1.0, 1.0, ...  \n",
       "19  [1.0, 1.0, 1.0, 1.0, 1.0, 1.0, 1.0, 1.0, 1.0, ...  \n",
       "20                                               None  \n",
       "21  [1.0, 1.0, 1.0, 1.0, 1.0, 1.0, 1.0, 1.0, 1.0, ...  \n",
       "22  [1.0, 1.0, 1.0, 1.0, 1.0, 1.0, 1.0, 1.0, 1.0, ...  \n",
       "23  [1.0, 1.0, 1.0, 1.0, 1.0, 1.0, 1.0, 1.0, 1.0, ...  \n",
       "24  [0.8862745098039218, 0.8862745098039215, 0.886...  "
      ]
     },
     "execution_count": 111,
     "metadata": {},
     "output_type": "execute_result"
    }
   ],
   "source": [
    "df.head(25)"
   ]
  },
  {
   "cell_type": "code",
   "execution_count": 112,
   "id": "dutch-church",
   "metadata": {},
   "outputs": [
    {
     "name": "stderr",
     "output_type": "stream",
     "text": [
      "/Users/zongyizhu/.pyenv/versions/3.8.6/envs/game_one/lib/python3.8/site-packages/pandas/core/ops/array_ops.py:56: FutureWarning: elementwise comparison failed; returning scalar instead, but in the future will perform elementwise comparison\n",
      "  result = libops.scalar_compare(x.ravel(), y, op)\n"
     ]
    }
   ],
   "source": [
    "df_clean = df.mask(df.eq('None')).dropna()"
   ]
  },
  {
   "cell_type": "code",
   "execution_count": 122,
   "id": "cardiovascular-metropolitan",
   "metadata": {},
   "outputs": [
    {
     "data": {
      "text/plain": [
       "(34131,)"
      ]
     },
     "execution_count": 122,
     "metadata": {},
     "output_type": "execute_result"
    }
   ],
   "source": [
    "df_clean['img_data'].shape"
   ]
  },
  {
   "cell_type": "code",
   "execution_count": null,
   "id": "hairy-egypt",
   "metadata": {},
   "outputs": [],
   "source": [
    "df.to_csv('../raw_data/train_v2.csv', index = False, mode = 'w', header=True)"
   ]
  },
  {
   "cell_type": "code",
   "execution_count": 69,
   "id": "adaptive-circuit",
   "metadata": {},
   "outputs": [],
   "source": [
    "def img_reshape(img_np):\n",
    "    shape = img_np.shape\n",
    "    return np.reshape(img_np, (shape[0] * shape[1], 1))"
   ]
  },
  {
   "cell_type": "code",
   "execution_count": 114,
   "id": "tutorial-academy",
   "metadata": {},
   "outputs": [],
   "source": [
    "img_np = list(df_clean['img_data'])"
   ]
  },
  {
   "cell_type": "code",
   "execution_count": 124,
   "id": "arctic-wildlife",
   "metadata": {},
   "outputs": [],
   "source": [
    "img_array = np.vstack(img_np)"
   ]
  },
  {
   "cell_type": "code",
   "execution_count": 125,
   "id": "binary-nation",
   "metadata": {},
   "outputs": [
    {
     "data": {
      "text/plain": [
       "(34131, 10000)"
      ]
     },
     "execution_count": 125,
     "metadata": {},
     "output_type": "execute_result"
    }
   ],
   "source": [
    "img_array.shape"
   ]
  },
  {
   "cell_type": "code",
   "execution_count": 127,
   "id": "athletic-august",
   "metadata": {},
   "outputs": [],
   "source": [
    "from sklearn.decomposition import PCA\n",
    "pca = PCA(n_components=150)"
   ]
  },
  {
   "cell_type": "code",
   "execution_count": 128,
   "id": "bigger-toyota",
   "metadata": {},
   "outputs": [],
   "source": [
    "data_projected = pca.fit_transform(img_array)"
   ]
  },
  {
   "cell_type": "code",
   "execution_count": 129,
   "id": "abroad-timer",
   "metadata": {},
   "outputs": [
    {
     "data": {
      "text/plain": [
       "(34131, 150)"
      ]
     },
     "execution_count": 129,
     "metadata": {},
     "output_type": "execute_result"
    }
   ],
   "source": [
    "data_projected.shape"
   ]
  },
  {
   "cell_type": "code",
   "execution_count": 130,
   "id": "worthy-bubble",
   "metadata": {},
   "outputs": [
    {
     "data": {
      "text/plain": [
       "[<matplotlib.lines.Line2D at 0x129d59c40>]"
      ]
     },
     "execution_count": 130,
     "metadata": {},
     "output_type": "execute_result"
    },
    {
     "data": {
      "image/png": "[encoded data removed]",
      "text/plain": [
       "<Figure size 432x288 with 1 Axes>"
      ]
     },
     "metadata": {
      "needs_background": "light"
     },
     "output_type": "display_data"
    }
   ],
   "source": [
    "plt.plot(np.cumsum(pca.explained_variance_ratio_))"
   ]
  },
  {
   "cell_type": "markdown",
   "id": "digital-water",
   "metadata": {},
   "source": [
    "## classification of images"
   ]
  },
  {
   "cell_type": "code",
   "execution_count": 132,
   "id": "secondary-activity",
   "metadata": {},
   "outputs": [],
   "source": [
    "from sklearn.model_selection import train_test_split\n",
    "\n",
    "X_train, X_test, y_train, y_test = train_test_split (img_array, df_clean['label_group'], test_size = 0.3, random_state = 0)"
   ]
  },
  {
   "cell_type": "code",
   "execution_count": 133,
   "id": "swiss-stomach",
   "metadata": {},
   "outputs": [
    {
     "data": {
      "text/plain": [
       "(23891, 10000)"
      ]
     },
     "execution_count": 133,
     "metadata": {},
     "output_type": "execute_result"
    }
   ],
   "source": [
    "X_train.shape"
   ]
  },
  {
   "cell_type": "code",
   "execution_count": 134,
   "id": "radical-equity",
   "metadata": {},
   "outputs": [],
   "source": [
    "pca1 = PCA(n_components=150)"
   ]
  },
  {
   "cell_type": "code",
   "execution_count": 135,
   "id": "static-democrat",
   "metadata": {},
   "outputs": [
    {
     "data": {
      "text/plain": [
       "PCA(n_components=150)"
      ]
     },
     "execution_count": 135,
     "metadata": {},
     "output_type": "execute_result"
    }
   ],
   "source": [
    "pca1.fit(X_train)"
   ]
  },
  {
   "cell_type": "code",
   "execution_count": 136,
   "id": "provincial-wisdom",
   "metadata": {},
   "outputs": [],
   "source": [
    "X_train_tr = pca1.transform(X_train)"
   ]
  },
  {
   "cell_type": "code",
   "execution_count": 137,
   "id": "successful-person",
   "metadata": {},
   "outputs": [],
   "source": [
    "X_test_tr = pca1.transform(X_test)"
   ]
  },
  {
   "cell_type": "markdown",
   "id": "ready-smile",
   "metadata": {},
   "source": [
    " ### Cross validate your choice of best hyperparameters"
   ]
  },
  {
   "cell_type": "code",
   "execution_count": 141,
   "id": "clear-plumbing",
   "metadata": {},
   "outputs": [],
   "source": [
    "from sklearn.model_selection import GridSearchCV\n",
    "from sklearn.svm import SVC\n",
    "# from scipy import stats\n",
    "model = SVC(class_weight='balanced')\n",
    "\n",
    "grid = {'kernel':['linear','poly','rbf','sigmoid'],\n",
    "        'C': [10, 100, 1000],\n",
    "        'gamma': [0.0001, 0.001, 0.01]}\n",
    "\n",
    "grid_search = GridSearchCV(model,\n",
    "                           grid, \n",
    "                           cv = 5,\n",
    "                           scoring='f1_weighted',\n",
    "                           n_jobs=-1)"
   ]
  },
  {
   "cell_type": "code",
   "execution_count": 142,
   "id": "exempt-ceremony",
   "metadata": {},
   "outputs": [
    {
     "data": {
      "text/plain": [
       "{'cv': 5,\n",
       " 'error_score': nan,\n",
       " 'estimator__C': 1.0,\n",
       " 'estimator__break_ties': False,\n",
       " 'estimator__cache_size': 200,\n",
       " 'estimator__class_weight': 'balanced',\n",
       " 'estimator__coef0': 0.0,\n",
       " 'estimator__decision_function_shape': 'ovr',\n",
       " 'estimator__degree': 3,\n",
       " 'estimator__gamma': 'scale',\n",
       " 'estimator__kernel': 'rbf',\n",
       " 'estimator__max_iter': -1,\n",
       " 'estimator__probability': False,\n",
       " 'estimator__random_state': None,\n",
       " 'estimator__shrinking': True,\n",
       " 'estimator__tol': 0.001,\n",
       " 'estimator__verbose': False,\n",
       " 'estimator': SVC(class_weight='balanced'),\n",
       " 'iid': 'deprecated',\n",
       " 'n_jobs': -1,\n",
       " 'param_grid': {'kernel': ['linear', 'poly', 'rbf', 'sigmoid'],\n",
       "  'C': [10, 100, 1000],\n",
       "  'gamma': [0.0001, 0.001, 0.01]},\n",
       " 'pre_dispatch': '2*n_jobs',\n",
       " 'refit': True,\n",
       " 'return_train_score': False,\n",
       " 'scoring': 'f1_weighted',\n",
       " 'verbose': 0}"
      ]
     },
     "execution_count": 142,
     "metadata": {},
     "output_type": "execute_result"
    }
   ],
   "source": [
    "grid_search.get_params()"
   ]
  },
  {
   "cell_type": "code",
   "execution_count": 144,
   "id": "earned-replica",
   "metadata": {},
   "outputs": [],
   "source": [
    "# grid_search.fit(X_train_tr, y_train)"
   ]
  },
  {
   "cell_type": "code",
   "execution_count": null,
   "id": "interpreted-anchor",
   "metadata": {},
   "outputs": [],
   "source": [
    "# grid_search.best_estimator_"
   ]
  },
  {
   "cell_type": "code",
   "execution_count": null,
   "id": "persistent-demonstration",
   "metadata": {},
   "outputs": [],
   "source": [
    "best_model = SVC(C=10, class_weight='balanced', gamma=0.0001, kernel='linear')\n",
    "best_model.fit(X_train_tr, y_train)\n",
    "y_pred = best_model.predict(X_test_tr)"
   ]
  },
  {
   "cell_type": "code",
   "execution_count": null,
   "id": "moved-nebraska",
   "metadata": {},
   "outputs": [],
   "source": [
    "from sklearn.metrics import classification_report"
   ]
  }
 ],
 "metadata": {
  "kernelspec": {
   "display_name": "Python 3",
   "language": "python",
   "name": "python3"
  },
  "language_info": {
   "codemirror_mode": {
    "name": "ipython",
    "version": 3
   },
   "file_extension": ".py",
   "mimetype": "text/x-python",
   "name": "python",
   "nbconvert_exporter": "python",
   "pygments_lexer": "ipython3",
   "version": "3.8.6"
  },
  "toc": {
   "base_numbering": 1,
   "nav_menu": {},
   "number_sections": true,
   "sideBar": true,
   "skip_h1_title": false,
   "title_cell": "Table of Contents",
   "title_sidebar": "Contents",
   "toc_cell": false,
   "toc_position": {},
   "toc_section_display": true,
   "toc_window_display": false
  },
  "varInspector": {
   "cols": {
    "lenName": 16,
    "lenType": 16,
    "lenVar": 40
   },
   "kernels_config": {
    "python": {
     "delete_cmd_postfix": "",
     "delete_cmd_prefix": "del ",
     "library": "var_list.py",
     "varRefreshCmd": "print(var_dic_list())"
    },
    "r": {
     "delete_cmd_postfix": ") ",
     "delete_cmd_prefix": "rm(",
     "library": "var_list.r",
     "varRefreshCmd": "cat(var_dic_list()) "
    }
   },
   "types_to_exclude": [
    "module",
    "function",
    "builtin_function_or_method",
    "instance",
    "_Feature"
   ],
   "window_display": false
  }
 },
 "nbformat": 4,
 "nbformat_minor": 5
}
